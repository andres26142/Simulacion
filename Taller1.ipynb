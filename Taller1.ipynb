{
  "nbformat": 4,
  "nbformat_minor": 0,
  "metadata": {
    "colab": {
      "name": "Copy of Taller 1.ipynb",
      "provenance": [],
      "collapsed_sections": []
    },
    "kernelspec": {
      "name": "python3",
      "display_name": "Python 3"
    }
  },
  "cells": [
    {
      "cell_type": "markdown",
      "metadata": {
        "id": "Rhnd7gir-jz-",
        "colab_type": "text"
      },
      "source": [
        "# **Taller 1 - Simulación Computacional 2020-I**\n",
        "\n",
        "Fecha de entrega: 7 de Septiembre de 2020"
      ]
    },
    {
      "cell_type": "markdown",
      "metadata": {
        "id": "eae9HxiDQG8H",
        "colab_type": "text"
      },
      "source": [
        "## 1.\n",
        "Los siguientes datos muestran los tiempos de llegada y los tiempos de servicio que requerirá cada cliente, para los primeros 13 clientes en un sistema de servidor único. A su llegada, un cliente ingresa al servicio si el servidor está libre o se une a la línea de espera. Cuando el servidor completa el trabajo en un cliente, el siguiente en la fila (es decir, el que ha estado esperando por más tiempo) entra en servicio.\n",
        "\n",
        "\n",
        "| Tiempos de llegada  | 12 | 31 | 63 | 95 | 99 | 154 | 198 | 221 | 304 | 346 | 411 | 455 | 537|\n",
        "----------------------| |  |  |  |  |   |   |   |   |   |   |   |  |\n",
        "| Tiempos de servicio | 40 | 32 | 55 | 48 | 18 |  50 |  47 |  18 |  28 |  54 |  40 |  72 |  12|\n",
        "\n",
        "a) Determine los tiempos de salida de estos 13 clientes.<br>\n",
        "b) Repetir a) cuando hay dos servidores y un cliente puede ser atendido por cualquiera.<br>\n",
        "c) Repetir a) bajo el nuevo supuesto que cuando el servidor termina un servicio, el siguiente cliente en entrar al servidor es aquel quien ha estado esperando el menor tiempo."
      ]
    },
    {
      "cell_type": "code",
      "metadata": {
        "id": "PQvoAkyMfeJt",
        "colab_type": "code",
        "colab": {
          "base_uri": "https://localhost:8080/",
          "height": 425
        },
        "outputId": "1553c92d-c1de-45ee-c626-7c1aafc913ca"
      },
      "source": [
        "llegada=[12,31,63,95,99,154,198,221,304,346,411,455,537]\n",
        "servicio=[40,32,55,48,18,50,47,18,28,54,40,72,12]\n",
        "\n",
        "def tiempos_de_salida():\n",
        "  salida=[]\n",
        "  cola=[0]\n",
        "  ocioso=[]\n",
        "\n",
        "  for i in range(len(llegada)):\n",
        "  \n",
        "    if(i==0):\n",
        "      ts=servicio[i]+llegada[i]\n",
        "      salida.append(ts)\n",
        "      ocioso.append(12)\n",
        "    else:\n",
        "      tc=salida[i-1]-llegada[i]\n",
        "      if(tc>0):\n",
        "        ts=salida[i-1]+servicio[i]\n",
        "        cola.append(tc)\n",
        "        ocioso.append(0)\n",
        "      \n",
        "      else:\n",
        "        ts=salida[i-1]+servicio[i]-tc\n",
        "        cola.append(0)\n",
        "        ocioso.append(-tc)\n",
        "    \n",
        "      salida.append(ts)\n",
        "\n",
        "\n",
        "  print(\"Llegada\\t Servicio Salida Cola  Idle\\n\")\n",
        "  for t in range(0, len(cola)):\n",
        "      print(\"%d\\t%d\\t%d\\t%d\\t%d\" % (llegada[t],servicio[t],salida[t],cola[t],ocioso[t]), sep=' ', end='\\n')\n",
        "\n",
        "def dos_servidores():\n",
        "  salida_general=[]\n",
        "  colaA=[0]\n",
        "  colaB=[0]\n",
        "  salidaA=[]\n",
        "  salidaB=[]\n",
        "\n",
        "  for i in range(len(llegada)):\n",
        "    if(i==0):\n",
        "      ts=llegada[i]+servicio[i]\n",
        "      salidaA.append(ts)\n",
        "      salidaB.append(0)\n",
        "      salida_general.append(ts)\n",
        "    else:\n",
        "      c1=salidaA[i-1]-llegada[i]\n",
        "      c2=salidaB[i-1]-llegada[i]\n",
        "      colaA.append(c1)\n",
        "      colaB.append(c2)\n",
        "      if (c1<=c2):\n",
        "        ts=llegada[i]+servicio[i]\n",
        "        salidaA.append(ts)\n",
        "        salida_general.append(ts)\n",
        "        salidaB.append(salidaB[i-1])\n",
        "      else:\n",
        "        ts=llegada[i]+servicio[i]\n",
        "        salidaB.append(ts)\n",
        "        salida_general.append(ts)\n",
        "        salidaA.append(salidaA[i-1])\n",
        "  print(\"Llegada Servicio SalidaA SalidaB ColaA ColaB salida\\n\")\n",
        "  for t in range(0, len(llegada)):\n",
        "      print(\"%d\\t%d\\t  %d\\t  %d\\t %d\\t%d\\t%d\" % (llegada[t],servicio[t],salidaA[t],salidaB[t],colaA[t],colaB[t],salida_general[t]), sep=' ', end='\\n')\n",
        "\n",
        "\n",
        "tiempos_de_salida() #Tiempos de salida, 1 servidor, FIFO\n",
        "dos_servidores()"
      ],
      "execution_count": null,
      "outputs": [
        {
          "output_type": "stream",
          "text": [
            "Llegada\t Servicio Salida Cola  Idle\n",
            "\n",
            "0\t3\t3\t0\t12\n",
            "2\t2\t5\t1\t0\n",
            "8\t6\t14\t0\t3\n",
            "13\t4\t18\t1\t0\n",
            "15\t1\t19\t3\t0\n",
            "18\t2\t21\t1\t0\n",
            "25\t6\t31\t0\t4\n",
            "30\t5\t36\t1\t0\n",
            "35\t2\t38\t1\t0\n",
            "45\t3\t48\t0\t7\n",
            "Llegada Servicio SalidaA SalidaB ColaA ColaB salida\n",
            "\n",
            "0\t3\t  3\t  0\t 0\t0\t3\n",
            "2\t2\t  3\t  4\t 1\t-2\t4\n",
            "8\t6\t  14\t  4\t -5\t-4\t14\n",
            "13\t4\t  14\t  17\t 1\t-9\t17\n",
            "15\t1\t  16\t  17\t -1\t2\t16\n",
            "18\t2\t  20\t  17\t -2\t-1\t20\n",
            "25\t6\t  20\t  31\t -5\t-8\t31\n",
            "30\t5\t  35\t  31\t -10\t1\t35\n",
            "35\t2\t  35\t  37\t 0\t-4\t37\n",
            "45\t3\t  48\t  37\t -10\t-8\t48\n"
          ],
          "name": "stdout"
        }
      ]
    },
    {
      "cell_type": "markdown",
      "metadata": {
        "id": "cpUpE8lokBBR",
        "colab_type": "text"
      },
      "source": [
        "## 2.\n",
        "Implementar el método de cuadrados medios (Mid-Square) para cualquier numero de de cifras."
      ]
    },
    {
      "cell_type": "code",
      "metadata": {
        "id": "u59S6W7QpbRJ",
        "colab_type": "code",
        "colab": {
          "base_uri": "https://localhost:8080/",
          "height": 204
        },
        "outputId": "e03ded60-ad84-4874-81ad-50f3798808d0"
      },
      "source": [
        "def generar_numeros(semilla,limite,n):\n",
        "  numero=semilla\n",
        "  i=0\n",
        "  print(\"0\\t\"+str(semilla))\n",
        "  for i in range(limite):\n",
        "    i += 1\n",
        "    numero = int(str(numero * numero).zfill(4*n)[n:(-n)])\n",
        "    print(\"%d\\t%d\" % (i,numero), sep=' ', end='\\n')\n",
        "semilla=25643708\n",
        "limite=10\n",
        "n=4\n",
        "generar_numeros(semilla,limite,n)"
      ],
      "execution_count": null,
      "outputs": [
        {
          "output_type": "stream",
          "text": [
            "0\t25643708\n",
            "1\t59975998\n",
            "2\t12033609\n",
            "3\t80774556\n",
            "4\t52889699\n",
            "5\t32026031\n",
            "6\t66666161\n",
            "7\t37702247\n",
            "8\t45942884\n",
            "9\t74859023\n",
            "10\t87332451\n"
          ],
          "name": "stdout"
        }
      ]
    },
    {
      "cell_type": "markdown",
      "metadata": {
        "id": "aRS-Mj1pcjCF",
        "colab_type": "text"
      },
      "source": [
        "## 3.\n",
        "Si $x_0=5$ y\n",
        "$$ x_n = 3x_{n-1} \\mod 150 $$\n",
        "\n",
        "encuentre $x_1,...,x_{10}$"
      ]
    },
    {
      "cell_type": "code",
      "metadata": {
        "id": "eMRkbSDhfdcZ",
        "colab_type": "code",
        "colab": {
          "base_uri": "https://localhost:8080/",
          "height": 221
        },
        "outputId": "36f0edbf-7908-47f8-ae9a-78b88b0080a2"
      },
      "source": [
        "import numpy as np\n",
        "\n",
        "\n",
        "\n",
        "def genran(a,m,xant):\n",
        "    xsig = (a*xant) % m\n",
        "    return [xsig]\n",
        "\n",
        "def genranN(a,m,x0,N):\n",
        "    xant = x0\n",
        "    I=[]\n",
        "    X=[]\n",
        "    for t in range(1, N+1):\n",
        "        [xi] = genran(a,m,xant)\n",
        "        I.append(t)\n",
        "        X.append(xi)\n",
        "        \n",
        "        xant = xi\n",
        "    return [I,X]\n",
        "\n",
        "def showValues(I,X):\n",
        "    print(\"i\\tXi\\n\")\n",
        "    for t in range(0, len(X)):\n",
        "        print(\"%d\\t%d\" % (I[t],X[t]), sep=' ', end='\\n')\n",
        "\n",
        "N = 10\n",
        "\n",
        "a = 3.0\n",
        "m = 150.0\n",
        "x0 = 5.0\n",
        "\n",
        "[I,X] = genranN(a,m,x0,N)\n",
        "showValues(I,X)"
      ],
      "execution_count": null,
      "outputs": [
        {
          "output_type": "stream",
          "text": [
            "i\tXi\n",
            "\n",
            "1\t15\n",
            "2\t45\n",
            "3\t135\n",
            "4\t105\n",
            "5\t15\n",
            "6\t45\n",
            "7\t135\n",
            "8\t105\n",
            "9\t15\n",
            "10\t45\n"
          ],
          "name": "stdout"
        }
      ]
    },
    {
      "cell_type": "markdown",
      "metadata": {
        "id": "ycKN0yXRd0wD",
        "colab_type": "text"
      },
      "source": [
        "## 4.\n",
        "Si $ x_0=3 $ y\n",
        "$$ x_n = (5x_{n-1}+7) \\mod 200 $$\n",
        "\n",
        "encuentre $x_1,...,x_{10}$"
      ]
    },
    {
      "cell_type": "code",
      "metadata": {
        "id": "IQSVgbpifc9T",
        "colab_type": "code",
        "colab": {
          "base_uri": "https://localhost:8080/",
          "height": 221
        },
        "outputId": "d437a50f-8c86-44ca-b418-d962811bdfdf"
      },
      "source": [
        "import numpy as np\n",
        "\n",
        "\n",
        "\n",
        "def genran(a,b,m,xant):\n",
        "    xsig = (a*xant + b) % m\n",
        "    return [xsig]\n",
        "\n",
        "def genranN(a,b,m,x0,N):\n",
        "    xant = x0\n",
        "    I=[]\n",
        "    X=[]\n",
        "    for t in range(1, N+1):\n",
        "        [xi] = genran(a,b,m,xant)\n",
        "        I.append(t)\n",
        "        X.append(xi)\n",
        "        \n",
        "        xant = xi\n",
        "    return [I,X]\n",
        "\n",
        "def showValues(I,X):\n",
        "    print(\"i\\tXi\\n\")\n",
        "    for t in range(0, len(X)):\n",
        "        print(\"%d\\t%d\" % (I[t],X[t]), sep=' ', end='\\n')\n",
        "\n",
        "N = 10\n",
        "\n",
        "a = 3.0\n",
        "b = 7.0\n",
        "m = 200.0\n",
        "x0 = 3.0\n",
        "\n",
        "[I,X] = genranN(a,b,m,x0,N)\n",
        "showValues(I,X)"
      ],
      "execution_count": null,
      "outputs": [
        {
          "output_type": "stream",
          "text": [
            "i\tXi\n",
            "\n",
            "1\t16\n",
            "2\t55\n",
            "3\t172\n",
            "4\t123\n",
            "5\t176\n",
            "6\t135\n",
            "7\t12\n",
            "8\t43\n",
            "9\t136\n",
            "10\t15\n"
          ],
          "name": "stdout"
        }
      ]
    },
    {
      "cell_type": "markdown",
      "metadata": {
        "id": "R4qXgEoJG_Uv",
        "colab_type": "text"
      },
      "source": [
        "## 5.\n",
        "Si $x_0=137$ y\n",
        "$$x_n = (15x_{n-1}+3) \\mod 21$$\n",
        "\n",
        "**a)** encuentre $x_1,...,x_{100}$"
      ]
    },
    {
      "cell_type": "code",
      "metadata": {
        "id": "hgXiAOH3bo7f",
        "colab_type": "code",
        "colab": {}
      },
      "source": [
        "import numpy as np\n",
        "\n",
        "\n",
        "v=[]\n",
        "def genran(a,b,m,xant):\n",
        "    xsig = (a*xant + b) % m\n",
        "    return [xsig]\n",
        "\n",
        "def genranN(a,b,m,x0,N):\n",
        "    xant = x0\n",
        "    I=[]\n",
        "    X=[]\n",
        "    for t in range(1, N+1):\n",
        "        [xi] = genran(a,b,m,xant)\n",
        "        I.append(t)\n",
        "        X.append(xi)\n",
        "        \n",
        "        if(xi in v):\n",
        "          pass\n",
        "        else:\n",
        "          v.append(xi)\n",
        "        xant = xi\n",
        "    return [I,X]\n",
        "\n",
        "def showValues(I,X):\n",
        "    print(\"i\\tXi\\n\")\n",
        "    for t in range(0, len(X)):\n",
        "        print(\"%d\\t%d\" % (I[t],X[t]), sep=' ', end='\\n')\n",
        "\n",
        "N = 100\n",
        "\n",
        "a = 15.0\n",
        "b = 3.0\n",
        "m = 21.0\n",
        "x0 = 137.0\n",
        "\n",
        "[I,X] = genranN(a,b,m,x0,N)\n",
        "\n",
        "showValues(I,X)\n"
      ],
      "execution_count": null,
      "outputs": []
    },
    {
      "cell_type": "markdown",
      "metadata": {
        "id": "cvNyzsN9-gqe",
        "colab_type": "text"
      },
      "source": [
        "**b)** el tamaño del ciclo (si lo tiene)"
      ]
    },
    {
      "cell_type": "code",
      "metadata": {
        "id": "vTeBbd5YHLhe",
        "colab_type": "code",
        "colab": {
          "base_uri": "https://localhost:8080/",
          "height": 34
        },
        "outputId": "1b89d977-ea30-4e71-9310-fb4ab1b5b0e9"
      },
      "source": [
        "print(\"Tamaño del ciclo: \"+str(len(v)))"
      ],
      "execution_count": null,
      "outputs": [
        {
          "output_type": "stream",
          "text": [
            "Tamaño del ciclo: 7\n"
          ],
          "name": "stdout"
        }
      ]
    },
    {
      "cell_type": "markdown",
      "metadata": {
        "id": "zdWnWWHhsl0f",
        "colab_type": "text"
      },
      "source": [
        "## 6.\n",
        "Si $ x_0=7 $ y\n",
        "$$ x_n = (5x_{n-1}+3) \\mod 33$$\n",
        "\n",
        "**a)** encuentre $u_1,...,u_{100}$"
      ]
    },
    {
      "cell_type": "code",
      "metadata": {
        "id": "UE2d7o_2tCMV",
        "colab_type": "code",
        "colab": {}
      },
      "source": [
        "import numpy as np\n",
        "v=[]\n",
        "def genran(a,b,m,xant):\n",
        "    xsig = (a*xant + b) % m\n",
        "    usig = xsig / m\n",
        "    return [xsig,usig]\n",
        "\n",
        "def genranN(a,b,m,x0,N):\n",
        "    xant = x0\n",
        "    I=[]\n",
        "    X=[]\n",
        "    U=[]\n",
        "    for t in range(1, N+1):\n",
        "        [xi,ui] = genran(a,b,m,xant)\n",
        "        I.append(t)\n",
        "        X.append(xi)\n",
        "        if(xi in v):\n",
        "          pass\n",
        "        else:\n",
        "          v.append(xi)\n",
        "        U.append(ui)\n",
        "        xant = xi\n",
        "    return [I,X,U]\n",
        "\n",
        "def showValues(I,U):\n",
        "    print(\"i\\tUi\")\n",
        "    for t in range(0, len(X)):\n",
        "        print(\"%d\\t%1.4f\" % (I[t],U[t]), sep=' ', end='\\n')\n",
        "N = 100\n",
        "\n",
        "a = 5.0\n",
        "b = 3.0\n",
        "m = 33.0\n",
        "x0 = 7.0\n",
        "\n",
        "[I,X,U] = genranN(a,b,m,x0,N)\n",
        "showValues(I,U)"
      ],
      "execution_count": null,
      "outputs": []
    },
    {
      "cell_type": "markdown",
      "metadata": {
        "id": "RlNYVdyGtCm5",
        "colab_type": "text"
      },
      "source": [
        "**b)** el tamaño del ciclo (si lo tiene)"
      ]
    },
    {
      "cell_type": "code",
      "metadata": {
        "id": "iAdmuHAAt-qb",
        "colab_type": "code",
        "colab": {}
      },
      "source": [
        "print(\"Tamaño del ciclo: \"+str(len(v)))"
      ],
      "execution_count": null,
      "outputs": []
    },
    {
      "cell_type": "markdown",
      "metadata": {
        "id": "3PRnEgWTt_Jg",
        "colab_type": "text"
      },
      "source": [
        "## 7.\n",
        "Si $ x_0=123 $ y\n",
        "$$ x_n = (17x_{n-1}+3) \\mod 16 $$\n",
        "\n",
        "**a)** encuentre $u_1,...,u_{100}$"
      ]
    },
    {
      "cell_type": "code",
      "metadata": {
        "id": "7WiQHBIKuVrO",
        "colab_type": "code",
        "colab": {
          "base_uri": "https://localhost:8080/",
          "height": 1000
        },
        "outputId": "611716de-359b-4a85-fefe-a29628973395"
      },
      "source": [
        "import numpy as np\n",
        "v=[]\n",
        "def genran(a,b,m,xant):\n",
        "    xsig = (a*xant + b) % m\n",
        "    usig = xsig / m\n",
        "    return [xsig,usig]\n",
        "\n",
        "def genranN(a,b,m,x0,N):\n",
        "    xant = x0\n",
        "    I=[]\n",
        "    X=[]\n",
        "    U=[]\n",
        "    for t in range(1, N+1):\n",
        "        [xi,ui] = genran(a,b,m,xant)\n",
        "        I.append(t)\n",
        "        X.append(xi)\n",
        "        if(xi in v):\n",
        "          pass\n",
        "        else:\n",
        "          v.append(xi)\n",
        "        U.append(ui)\n",
        "        xant = xi\n",
        "    return [I,X,U]\n",
        "\n",
        "def showValues(I,U):\n",
        "    print(\"i\\tUi\")\n",
        "    for t in range(0, len(X)):\n",
        "        print(\"%d\\t%1.4f\" % (I[t],U[t]), sep=' ', end='\\n')\n",
        "N = 100\n",
        "\n",
        "a = 17.0\n",
        "b = 3.0\n",
        "m = 16.0\n",
        "x0 = 123.0\n",
        "\n",
        "[I,X,U] = genranN(a,b,m,x0,N)\n",
        "showValues(I,U)"
      ],
      "execution_count": null,
      "outputs": [
        {
          "output_type": "stream",
          "text": [
            "i\tUi\n",
            "1\t0.8750\n",
            "2\t0.0625\n",
            "3\t0.2500\n",
            "4\t0.4375\n",
            "5\t0.6250\n",
            "6\t0.8125\n",
            "7\t0.0000\n",
            "8\t0.1875\n",
            "9\t0.3750\n",
            "10\t0.5625\n",
            "11\t0.7500\n",
            "12\t0.9375\n",
            "13\t0.1250\n",
            "14\t0.3125\n",
            "15\t0.5000\n",
            "16\t0.6875\n",
            "17\t0.8750\n",
            "18\t0.0625\n",
            "19\t0.2500\n",
            "20\t0.4375\n",
            "21\t0.6250\n",
            "22\t0.8125\n",
            "23\t0.0000\n",
            "24\t0.1875\n",
            "25\t0.3750\n",
            "26\t0.5625\n",
            "27\t0.7500\n",
            "28\t0.9375\n",
            "29\t0.1250\n",
            "30\t0.3125\n",
            "31\t0.5000\n",
            "32\t0.6875\n",
            "33\t0.8750\n",
            "34\t0.0625\n",
            "35\t0.2500\n",
            "36\t0.4375\n",
            "37\t0.6250\n",
            "38\t0.8125\n",
            "39\t0.0000\n",
            "40\t0.1875\n",
            "41\t0.3750\n",
            "42\t0.5625\n",
            "43\t0.7500\n",
            "44\t0.9375\n",
            "45\t0.1250\n",
            "46\t0.3125\n",
            "47\t0.5000\n",
            "48\t0.6875\n",
            "49\t0.8750\n",
            "50\t0.0625\n",
            "51\t0.2500\n",
            "52\t0.4375\n",
            "53\t0.6250\n",
            "54\t0.8125\n",
            "55\t0.0000\n",
            "56\t0.1875\n",
            "57\t0.3750\n",
            "58\t0.5625\n",
            "59\t0.7500\n",
            "60\t0.9375\n",
            "61\t0.1250\n",
            "62\t0.3125\n",
            "63\t0.5000\n",
            "64\t0.6875\n",
            "65\t0.8750\n",
            "66\t0.0625\n",
            "67\t0.2500\n",
            "68\t0.4375\n",
            "69\t0.6250\n",
            "70\t0.8125\n",
            "71\t0.0000\n",
            "72\t0.1875\n",
            "73\t0.3750\n",
            "74\t0.5625\n",
            "75\t0.7500\n",
            "76\t0.9375\n",
            "77\t0.1250\n",
            "78\t0.3125\n",
            "79\t0.5000\n",
            "80\t0.6875\n",
            "81\t0.8750\n",
            "82\t0.0625\n",
            "83\t0.2500\n",
            "84\t0.4375\n",
            "85\t0.6250\n",
            "86\t0.8125\n",
            "87\t0.0000\n",
            "88\t0.1875\n",
            "89\t0.3750\n",
            "90\t0.5625\n",
            "91\t0.7500\n",
            "92\t0.9375\n",
            "93\t0.1250\n",
            "94\t0.3125\n",
            "95\t0.5000\n",
            "96\t0.6875\n",
            "97\t0.8750\n",
            "98\t0.0625\n",
            "99\t0.2500\n",
            "100\t0.4375\n"
          ],
          "name": "stdout"
        }
      ]
    },
    {
      "cell_type": "markdown",
      "metadata": {
        "id": "aK_uyM2nuWGe",
        "colab_type": "text"
      },
      "source": [
        "**b)** el tamaño del ciclo (si lo tiene)"
      ]
    },
    {
      "cell_type": "code",
      "metadata": {
        "id": "aq2NrdxduW3O",
        "colab_type": "code",
        "colab": {}
      },
      "source": [
        "print(\"Tamaño del ciclo: \"+str(len(v)))"
      ],
      "execution_count": null,
      "outputs": []
    },
    {
      "cell_type": "markdown",
      "metadata": {
        "id": "1KkIOtVzHL_w",
        "colab_type": "text"
      },
      "source": [
        "## 8.\n",
        "Dados los siguientes valores de la distribución de probabilidad discreta de la variable aleatoria $X$ de un dado de 12 lados: $X = {1,2,3,4,5,6,7,8,9,10,11,12}$, $p(X) = {0.06,0.05,0.05,0.04,0.02,0.02,0.05,0.07,0.2,0.25,0.1,0.09}$, ¿Qué valores retornaría el generador de variables aleatorias por el método de la inversión si los números aleatorios generados son: $U = {0.6996, 0.0318, 0.6344, 0.1708, 0.6865, 0.1573, 0.9454, 0.8211, 0.9102, 0.2579}$?"
      ]
    },
    {
      "cell_type": "code",
      "metadata": {
        "id": "bhEDWJ38rXGc",
        "colab_type": "code",
        "colab": {
          "base_uri": "https://localhost:8080/",
          "height": 34
        },
        "outputId": "b504cb32-db4c-4219-f1a4-4adc9b806080"
      },
      "source": [
        "import numpy as np\n",
        "\n",
        "def genvardiscret(U,X,P):\n",
        "    V = []\n",
        "    for t in range(0, len(U)):\n",
        "        for t2 in range(0, len(X)):\n",
        "            if U[t]<P[t2]:\n",
        "                V.append(X[t2])\n",
        "                break\n",
        "    return V\n",
        "x=[1,2,3,4,5,6,7,8,9,10,11,12]\n",
        "p=[0.06,0.05,0.05,0.04,0.02,0.02,0.05,0.07,0.2,0.25,0.1,0.09]\n",
        "u=[0.6996,0.0318,0.6344,0.1708,0.6865,0.1573,0.9454,0.8211,0.9102,0.2579]\n",
        "V=genvardiscret(u,x,p)\n",
        "print('X_i = '+str(V))\n"
      ],
      "execution_count": null,
      "outputs": [
        {
          "output_type": "stream",
          "text": [
            "X_i = [1, 9, 9]\n"
          ],
          "name": "stdout"
        }
      ]
    },
    {
      "cell_type": "markdown",
      "metadata": {
        "id": "Y4Ct4DYjrwZh",
        "colab_type": "text"
      },
      "source": [
        "## 9.\n",
        "Implememente la técnica de aceptación y rechazo para la generación de variables aleatorias.\n",
        "\n",
        "**a)** Use la técnica de aceptación y rechazo implementada para la generación de valores aleatorios de la distribución de probabilidad discreta de la suma de la cara de dos dados.<br>\n",
        "**b)** Compare con el método de la transformada inversa generando 50000 valores aleatorios con la misma distribución de probabilidad discreta midiendo el tiempo que toma por cada método generar la misma cantidad de valores aleatorios."
      ]
    },
    {
      "cell_type": "code",
      "metadata": {
        "id": "IUrE7F7T28Ra",
        "colab_type": "code",
        "colab": {
          "base_uri": "https://localhost:8080/",
          "height": 156
        },
        "outputId": "8800501a-c3bc-4c64-c997-7ee21ea35a1c"
      },
      "source": [
        "from timeit import default_timer\n",
        "import random\n",
        "global au, x, px\n",
        "\n",
        "def aceptacion():  \n",
        "    au=[]\n",
        "    x = [2, 3, 4, 5, 6, 7, 8, 9, 10, 11, 12]\n",
        "    px = [1/36, 2/36, 3/36, 4/36, 5/36, 6/36, 5/36, 4/36, 3/36, 2/36, 1/36]\n",
        "    q = 1 / len(x)\n",
        "    pmayor = 0\n",
        "    for i in px:\n",
        "        if i > pmayor:\n",
        "            pmayor = i\n",
        "    c = pmayor / q\n",
        "    for i in range(50000): \n",
        "        y = int(10 * random.random())\n",
        "        u2 = random.random()\n",
        "        au.append(u2)\n",
        "        if u2 <= px[y] / (c * q):pass\n",
        "        else:\n",
        "          i-=1\n",
        "\n",
        "\n",
        "def inversa():\n",
        "  j=0\n",
        "  c=0\n",
        "  aux=0\n",
        "  xs=[]\n",
        "  xi=[]\n",
        "  for i in p:\n",
        "    xs.append(i+j)\n",
        "    j+=i\n",
        "  print(\"xsuma\")\n",
        "  print(xs)\n",
        "  for i in au:\n",
        "    for h in xs:\n",
        "      if i < h:\n",
        "        xi.append(x[c])\n",
        "        break\n",
        "      c+=1\n",
        "    c=0\n",
        "  print(\"Xi\")\n",
        "  print(xi)\n",
        "\n",
        "start=default_timer()\n",
        "aceptacion()\n",
        "end=default_timer()\n",
        "\n",
        "start2=default_timer()\n",
        "inversa()\n",
        "end2=default_timer()\n",
        "\n",
        "print(\"Comparacion de tiempos\")\n",
        "\n",
        "print(\"Aceptacion y Rechazo \",end-start)\n",
        "print(\"Transformada Inversa \",end2-start2)"
      ],
      "execution_count": 12,
      "outputs": [
        {
          "output_type": "stream",
          "text": [
            "xsuma\n",
            "[0.027777777777777776, 0.08333333333333333, 0.16666666666666666, 0.2777777777777778, 0.4166666666666667, 0.5833333333333334, 0.7222222222222223, 0.8333333333333335, 0.9166666666666669, 0.9722222222222224, 1.0000000000000002]\n",
            "Xi\n",
            "[9, 9, 7, 10, 7, 5, 6, 6, 6, 8, 9, 11, 6, 12, 11, 4, 10, 6, 6, 4, 7, 5, 8, 7, 9, 4, 8, 9, 7, 6, 6, 8, 6, 12, 7, 4, 6, 5, 2, 2, 10, 5, 8, 5, 9, 6, 8, 8, 8, 3, 8, 11, 7, 4, 5, 7, 8, 11, 5, 9, 11, 7, 4, 5, 7, 10, 9, 7, 3, 9, 10, 4, 6, 6, 5, 6, 9, 5, 10, 8, 5, 6, 7, 12, 8, 9, 6, 12, 7, 4, 7, 5, 6, 6, 9, 11, 7, 7, 4, 11, 8, 6, 8, 11, 9, 2, 7, 9, 6, 8, 8, 8, 5, 9, 9, 9, 7, 7, 8, 7, 10, 6, 4, 8, 6, 6, 8, 4, 10, 8, 4, 9, 4, 6, 6, 8, 2, 7, 8, 6, 7, 6, 4, 4, 8, 5, 12, 7, 3, 8, 7, 7, 4, 7, 5, 3, 10, 12, 9, 12, 6, 5, 6, 9, 11, 8, 9, 7, 6, 10, 5, 9, 8, 8, 6, 3, 11, 9, 6, 9, 6, 7, 11, 7, 8, 8, 9, 11, 7, 6, 7, 8, 12, 11, 10, 9, 9, 8, 5, 7, 7, 7, 7, 9, 6, 7, 10, 7, 9, 7, 6, 7, 2, 8, 5, 10, 3, 11, 10, 7, 5, 9, 11, 4, 5, 3, 7, 3, 6, 10, 6, 7, 7, 4, 3, 6, 6, 8, 10, 6, 9, 9, 7, 8, 4, 8, 3, 6, 8, 10, 3, 5, 7, 8, 9, 6, 9, 10, 4, 3, 11, 7, 7, 10, 10, 6, 10, 5, 12, 3, 4, 5, 9, 7, 8, 6, 10, 6, 5, 9, 6, 12, 9, 5, 9, 7, 9, 8, 9, 3, 6, 7, 7, 7, 7, 5, 6, 10, 11, 8, 7, 9, 10, 8, 5, 8, 7, 11, 7, 7, 10, 8, 4, 3, 6, 4, 8, 10, 6, 3, 4, 2, 7, 5, 10, 6, 5, 6, 9, 6, 9, 9, 8, 12, 7, 11, 6, 5, 3, 10, 8, 8, 6, 10, 5, 9, 3, 5, 3, 3, 8, 6, 11, 9, 6, 9, 10, 8, 2, 8, 9, 3, 8, 6, 10, 6, 7, 6, 7, 6, 7, 8, 3, 5, 8, 6, 2, 5, 8, 7, 9, 5, 8, 8, 3, 3, 6, 9, 5, 7, 4, 2, 4, 5, 7, 9, 10, 10, 7, 4, 4, 12, 3, 11, 11, 5, 8, 5, 11, 4, 6, 6, 4, 7, 8, 7, 10, 6, 10, 8, 4, 8, 12, 8, 9, 4, 11, 8, 11, 5, 4, 8, 5, 7, 6, 10, 5, 7, 8, 10, 12, 9, 8, 4, 9, 11, 8, 7, 8, 5, 9, 3, 5, 5, 3, 11, 9, 9, 8, 8, 6, 6, 8, 8, 3, 8, 5, 5, 8, 10, 8, 11, 10, 8, 7, 3, 9, 9, 6, 3, 10, 4, 10, 4, 8, 8, 8, 5, 10, 9, 4, 10, 8, 8, 7, 12, 6, 6, 11, 4, 8, 5, 2, 7, 5, 9, 4, 4, 9, 6, 12, 7, 7, 11, 3, 5, 5, 3, 4, 7, 6, 10, 3, 12, 6, 2, 6, 6, 8, 3, 5, 7, 3, 2, 5, 7, 7, 8, 5, 9, 4, 9, 8, 8, 6, 4, 7, 7, 10, 7, 9, 4, 7, 11, 2, 6, 3, 7, 6, 6, 12, 9, 7, 8, 7, 8, 6, 10, 10, 10, 10, 5, 12, 11, 10, 9, 6, 8, 5, 6, 11, 5, 7, 11, 7, 8, 4, 6, 8, 7, 3, 8, 5, 4, 7, 7, 7, 5, 6, 7, 6, 8, 9, 5, 5, 5, 10, 6, 7, 9, 7, 6, 8, 6, 9, 7, 4, 5, 8, 2, 5, 6, 12, 5, 8, 9, 8, 9, 9, 8, 5, 8, 7, 7, 9, 5, 7, 6, 5, 6, 6, 6, 7, 7, 4, 7, 5, 7, 10, 2, 7, 6, 7, 7, 2, 2, 9, 8, 2, 10, 6, 6, 7, 10, 11, 12, 7, 6, 7, 8, 5, 6, 4, 6, 10, 7, 9, 7, 2, 11, 6, 9, 7, 4, 8, 5, 7, 2, 7, 6, 10, 9, 8, 8, 7, 9, 9, 3, 12, 8, 7, 5, 12, 8, 8, 7, 5, 9, 8, 9, 12, 6, 9, 8, 6, 8, 2, 8, 7, 8, 2, 9, 9, 9, 8, 6, 7, 6, 7, 6, 9, 10, 7, 3, 9, 5, 4, 11, 9, 5, 5, 11, 6, 6, 10, 8, 5, 11, 8, 4, 2, 8, 6, 4, 11, 9, 4, 5, 6, 10, 4, 9, 10, 9, 5, 8, 2, 7, 10, 7, 9, 9, 5, 7, 8, 6, 7, 6, 7, 6, 9, 5, 6, 12, 8, 3, 9, 10, 6, 8, 6, 6, 7, 11, 8, 9, 10, 6, 6, 8, 8, 5, 7, 6, 9, 9, 11, 5, 3, 8, 7, 12, 4, 8, 11, 6, 7, 6, 7, 9, 6, 8, 3, 8, 7, 2, 9, 9, 7, 5, 10, 8, 12, 6, 3, 6, 11, 6, 8, 3, 8, 8, 11, 6, 6, 9, 5, 6, 4, 3, 7, 3, 4, 11, 12, 4, 4, 8, 6, 5, 12, 9, 4, 4, 9, 11, 6, 6, 8, 5, 5, 7, 9, 8, 8, 9, 9, 11, 7, 9, 4, 8, 10, 8, 8, 10, 6, 8, 9, 5, 9, 7, 11, 5, 6, 9, 7, 8, 10, 6, 11, 5, 7, 2, 6, 4, 9, 8, 9, 7, 9, 7, 5, 3, 8, 10, 9, 12, 12, 2, 10, 8, 9, 8, 2, 6, 4, 10, 11, 10, 9, 9, 6, 12, 5, 9, 9, 6, 8, 11, 7, 4, 9, 5, 5, 3, 7, 10, 8, 9, 7, 6, 3, 12, 8, 5, 7, 9, 10, 5, 7, 8, 12, 5, 5, 9, 12, 8, 8, 12, 7, 9, 6, 10, 6, 9, 9, 7, 6, 9, 11, 7, 8, 8, 9, 6, 12, 8, 7, 2, 8, 10, 6, 5, 5, 9, 9, 8, 5, 8, 11, 7, 2, 11, 10, 9, 11, 4, 11, 4, 10, 9, 11, 8, 10, 8, 9, 7, 12, 9, 8, 10, 10, 5, 9, 9, 6, 7, 7, 7, 12, 4, 11, 7, 8, 11, 8, 7, 8, 4, 7, 10, 6, 5, 2, 8, 9, 6, 9, 8, 6, 9, 5, 3, 7, 7, 5, 3, 9, 4, 9, 9, 8, 7, 6, 6, 6, 9, 5, 6, 8, 5, 8, 10, 7, 4, 5, 6, 5, 9, 4, 5, 12, 8, 3, 7, 9, 5, 5, 8, 4, 11, 5, 9, 7, 4, 5, 8, 10, 4, 8, 4, 7, 7, 5, 6, 11, 3, 8, 5, 4, 6, 2, 6, 4, 9, 9, 5, 5, 3, 3, 4, 5, 5, 7, 2, 6, 6, 8, 9, 7, 4, 6, 10, 3, 6, 9, 8, 3, 7, 12, 3, 10, 6, 7, 8, 9, 6, 4, 7, 8, 4, 7, 5, 6, 5, 8, 8, 10, 2, 7, 9, 8, 3, 2, 6, 5, 5, 9, 8, 8, 9, 6, 3, 4, 7, 4, 7, 8, 7, 6, 9, 8, 5, 6, 7, 6, 9, 10, 4, 6, 4, 5, 10, 3, 6, 4, 8, 6, 11, 5, 9, 8, 6, 6, 10, 8, 5, 7, 7, 6, 5, 8, 5, 6, 7, 8, 9, 3, 10, 7, 7, 6, 7, 3, 3, 11, 11, 6, 10, 9, 7, 7, 10, 7, 9, 6, 5, 7, 7, 5, 5, 6, 6, 8, 6, 7, 10, 6, 9, 12, 6, 6, 11, 7, 8, 8, 6, 4, 4, 4, 7, 4, 10, 10, 5, 12, 3, 8, 9, 5, 2, 8, 7, 5, 5, 5, 5, 8, 6, 3, 3, 3, 5, 7, 7, 6, 5, 6, 6, 8, 3, 8, 8, 10, 9, 7, 6, 4, 6, 7, 8, 3, 5, 8, 4, 4, 8, 4, 9, 6, 9, 7, 10, 7, 8, 7, 6, 7, 8, 7, 12, 7, 7, 6, 11, 6, 9, 5, 8, 6, 4, 7, 5, 12, 11, 4, 3, 6, 5, 8, 6, 7, 8, 6, 5, 7, 8, 7, 5, 4, 12, 7, 7, 8, 9, 6, 7, 6, 6, 6, 7, 2, 9, 7, 5, 5, 11, 6, 6, 3, 3, 9, 5, 9, 10, 3, 7, 4, 7, 6, 4, 6, 8, 9, 8, 6, 10, 8, 11, 6, 8, 6, 7, 6, 10, 8, 8, 5, 9, 5, 4, 7, 8, 9, 6, 9, 7, 11, 10, 9, 7, 9, 10, 10, 11, 8, 5, 3, 5, 11, 4, 9, 6, 12, 8, 4, 8, 6, 9, 7, 5, 8, 4, 9, 11, 12, 10, 7, 6, 9, 11, 7, 5, 10, 4, 4, 7, 7, 7, 5, 8, 5, 6, 10, 7, 4, 12, 9, 10, 7, 3, 6, 4, 5, 8, 7, 9, 9, 5, 8, 7, 5, 7, 6, 8, 6, 7, 8, 6, 11, 11, 7, 9, 9, 8, 6, 9, 12, 8, 5, 9, 7, 6, 11, 8, 10, 12, 7, 8, 2, 8, 10, 4, 7, 11, 10, 9, 6, 11, 7, 9, 9, 3, 7, 6, 8, 7, 12, 2, 3, 12, 9, 8, 4, 10, 7, 7, 7, 7, 12, 12, 10, 6, 2, 10, 7, 12, 6, 7, 5, 10, 8, 9, 6, 11, 6, 6, 6, 9, 8, 8, 5, 10, 5, 5, 5, 8, 9, 10, 3, 7, 6, 4, 5, 9, 3, 6, 9, 6, 9, 5, 7, 10, 8, 9, 11, 6, 10, 8, 9, 9, 5, 6, 4, 8, 4, 5, 7, 5, 4, 8, 4, 8, 8, 6, 4, 2, 5, 3, 5, 7, 12, 7, 4, 7, 3, 9, 10, 6, 12, 5, 7, 8, 11, 9, 5, 6, 6, 6, 8, 6, 7, 6, 5, 11, 7, 11, 8, 8, 6, 9, 2, 7, 8, 6, 9, 2, 8, 7, 7, 8, 6, 7, 6, 6, 7, 5, 10, 5, 8, 9, 12, 7, 7, 10, 3, 3, 9, 7, 4, 6, 6, 4, 8, 11, 12, 6, 4, 5, 3, 8, 7, 10, 9, 4, 3, 6, 7, 6, 4, 10, 8, 10, 3, 10, 8, 10, 9, 11, 7, 4, 12, 7, 7, 10, 4, 6, 6, 11, 7, 8, 7, 9, 3, 5, 4, 9, 4, 6, 5, 5, 9, 8, 8, 6, 6, 6, 11, 6, 11, 6, 4, 3, 7, 4, 9, 5, 5, 8, 7, 8, 7, 5, 4, 2, 4, 3, 10, 5, 4, 8, 6, 7, 2, 3, 4, 6, 9, 9, 6, 2, 10, 6, 9, 7, 7, 6, 9, 8, 7, 8, 9, 6, 6, 8, 4, 11, 7, 8, 6, 6, 9, 6, 3, 3, 9, 11, 8, 7, 7, 5, 11, 6, 8, 8, 3, 4, 9, 5, 9, 3, 10, 6, 7, 10, 12, 10, 6, 10, 4, 9, 7, 8, 3, 7, 10, 6, 5, 9, 3, 7, 9, 6, 6, 9, 8, 5, 9, 9, 3, 7, 7, 9, 4, 2, 10, 3, 8, 10, 7, 9, 10, 9, 6, 9, 7, 7, 7, 7, 7, 9, 5, 9, 7, 8, 12, 7, 5, 9, 4, 8, 4, 8, 7, 6, 6, 10, 4, 8, 6, 3, 9, 3, 6, 9, 5, 4, 9, 4, 10, 6, 4, 3, 5, 8, 6, 11, 7, 7, 12, 10, 4, 8, 8, 2, 3, 6, 5, 7, 10, 10, 6, 7, 4, 11, 9, 10, 10, 10, 5, 11, 10, 7, 4, 4, 7, 4, 4, 8, 4, 6, 9, 7, 4, 2, 4, 8, 8, 6, 7, 5, 7, 2, 10, 6, 8, 4, 7, 6, 8, 7, 9, 7, 4, 7, 7, 12, 6, 9, 2, 5, 8, 12, 6, 11, 8, 8, 6, 7, 4, 5, 3, 7, 4, 9, 11, 4, 5, 7, 4, 10, 10, 7, 7, 8, 5, 8, 3, 4, 5, 8, 7, 3, 6, 6, 10, 9, 9, 6, 7, 12, 6, 12, 7, 12, 12, 4, 5, 6, 5, 4, 7, 8, 8, 7, 11, 2, 12, 7, 4, 8, 5, 11, 8, 6, 6, 11, 4, 10, 2, 8, 4, 11, 7, 4, 12, 6, 2, 5, 8, 8, 6, 11, 7, 5, 8, 6, 7, 7, 7, 6, 6, 7, 9, 10, 2, 8, 5, 7, 8, 12, 2, 7, 11, 7, 9, 8, 7, 8, 7, 8, 7, 4, 7, 10, 6, 7, 5, 7, 5, 5, 6, 6, 7, 9, 6, 8, 8, 3, 7, 10, 7, 5, 2, 5, 5, 6, 7, 6, 7, 6, 8, 7, 11, 6, 7, 8, 9, 8, 4, 5, 8, 11, 7, 6, 10, 6, 12, 7, 8, 9, 11, 7, 11, 10, 10, 7, 5, 9, 7, 6, 9, 9, 4, 7, 5, 8, 2, 10, 7, 11, 8, 11, 4, 8, 4, 7, 7, 6, 5, 7, 8, 4, 11, 8, 9, 6, 7, 10, 7, 11, 11, 11, 8, 5, 9, 8, 9, 3, 9, 9, 5, 9, 10, 4, 10, 3, 7, 12, 6, 5, 8, 10, 8, 7, 9, 6, 9, 4, 10, 7, 9, 7, 9, 8, 8, 7, 8, 3, 11, 8, 3, 6, 10, 8, 6, 6, 7, 7, 2, 4, 6, 10, 3, 8, 9, 10, 11, 9, 6, 10, 2, 7, 6, 6, 5, 7, 7, 9, 9, 11, 8, 2, 12, 9, 6, 8, 6, 9, 4, 8, 12, 5, 6, 6, 4, 9, 9, 2, 10, 8, 9, 7, 9, 11, 9, 8, 9, 6, 5, 2, 9, 7, 3, 11, 8, 8, 8, 10, 5, 7, 7, 2, 8, 9, 9, 7, 7, 6, 6, 5, 7, 12, 8, 7, 8, 7, 5, 4, 6, 10, 7, 3, 4, 11, 7, 4, 5, 10, 8, 11, 12, 9, 6, 2, 10, 5, 2, 6, 7, 8, 10, 4, 8, 2, 8, 11, 9, 2, 6, 9, 6, 5, 9, 4, 9, 2, 3, 8, 7, 7, 10, 7, 8, 6, 7, 3, 12, 4, 8, 6, 6, 10, 12, 9, 2, 8, 5, 4, 4, 10, 5, 7, 7, 12, 4, 12, 6, 9, 6, 8, 7, 11, 7, 7, 9, 6, 7, 7, 11, 11, 8, 7, 7, 2, 5, 7, 11, 8, 4, 7, 11, 3, 4, 5, 7, 11, 7, 9, 8, 6, 8, 8, 9, 11, 7, 6, 5, 10, 10, 9, 5, 4, 6, 6, 7, 6, 6, 10, 6, 3, 10, 4, 7, 2, 9, 10, 3, 8, 9, 7, 5, 10, 9, 9, 9, 6, 10, 6, 6, 10, 3, 10, 5, 7, 3, 11, 8, 7, 5, 3, 6, 6, 12, 5, 7, 10, 7, 3, 10, 2, 2, 6, 7, 2, 6, 8, 7, 6, 6, 5, 4, 6, 9, 6, 7, 5, 10, 10, 6, 4, 8, 6, 7, 7, 2, 10, 4, 7, 7, 12, 11, 9, 5, 8, 11, 3, 9, 10, 2, 9, 9, 8, 10, 2, 4, 8, 7, 10, 6, 8, 10, 5, 7, 4, 8, 5, 8, 9, 8, 4, 11, 8, 5, 7, 7, 3, 7, 6, 6, 3, 6, 7, 7, 5, 8, 9, 5, 4, 6, 10, 7, 3, 10, 4, 5, 5, 10, 10, 2, 10, 4, 2, 6, 8, 8, 8, 7, 4, 10, 11, 11, 5, 10, 6, 7, 7, 4, 6, 11, 12, 9, 3, 8, 11, 7, 5, 4, 4, 7, 2, 7, 2, 4, 4, 4, 3, 6, 11, 9, 9, 10, 6, 5, 5, 9, 2, 9, 7, 7, 6, 8, 9, 2, 5, 5, 3, 9, 8, 6, 11, 4, 4, 8, 7, 11, 8, 8, 9, 7, 7, 6, 8, 8, 9, 3, 5, 5, 8, 4, 4, 2, 4, 9, 3, 6, 10, 9, 9, 10, 3, 6, 4, 8, 10, 3, 7, 5, 11, 11, 9, 5, 9, 9, 8, 5, 9, 9, 7, 6, 8, 2, 8, 7, 3, 12, 8, 10, 5, 3, 6, 9, 9, 9, 12, 10, 12, 5, 6, 7, 11, 6, 10, 10, 10, 10, 11, 6, 8, 4, 5, 10, 4, 3, 5, 9, 7, 8, 5, 9, 9, 12, 6, 8, 11, 9, 7, 9, 9, 9, 12, 8, 7, 12, 5, 9, 5, 5, 12, 8, 5, 6, 4, 10, 10, 7, 5, 6, 3, 5, 6, 6, 7, 10, 5, 5, 4, 7, 7, 7, 8, 10, 11, 8, 3, 6, 10, 4, 4, 12, 8, 7, 9, 10, 8, 8, 8, 8, 3, 11, 6, 4, 9, 8, 7, 8, 9, 10, 4, 5, 7, 7, 10, 6, 4, 10, 9, 5, 2, 11, 5, 8, 9, 8, 3, 6, 9, 8, 11, 6, 6, 8, 3, 9, 9, 5, 12, 5, 5, 5, 8, 8, 8, 7, 8, 3, 8, 6, 6, 11, 5, 5, 7, 8, 11, 10, 6, 3, 9, 3, 9, 5, 6, 7, 5, 6, 5, 9, 3, 7, 7, 3, 8, 6, 2, 9, 5, 8, 7, 8, 8, 7, 6, 6, 4, 5, 7, 9, 9, 9, 11, 2, 7, 8, 9, 9, 5, 4, 9, 7, 5, 9, 5, 11, 9, 12, 8, 11, 7, 6, 11, 9, 3, 5, 7, 8, 8, 7, 11, 7, 6, 6, 4, 8, 9, 7, 4, 3, 10, 4, 7, 10, 6, 6, 6, 5, 10, 6, 6, 4, 5, 9, 7, 7, 6, 5, 7, 6, 9, 8, 9, 5, 9, 6, 7, 4, 9, 10, 7, 11, 4, 11, 10, 6, 5, 9, 3, 3, 8, 4, 9, 6, 6, 9, 7, 7, 5, 7, 8, 8, 5, 6, 6, 10, 8, 7, 6, 6, 6, 8, 9, 7, 6, 5, 10, 7, 2, 7, 4, 12, 2, 7, 9, 9, 3, 9, 8, 8, 12, 2, 6, 3, 5, 11, 9, 5, 9, 8, 10, 5, 2, 4, 5, 10, 12, 3, 5, 7, 8, 4, 8, 5, 7, 12, 9, 11, 8, 6, 7, 8, 8, 6, 8, 6, 5, 4, 3, 7, 9, 11, 7, 6, 6, 11, 11, 9, 10, 4, 9, 8, 7, 12, 6, 8, 6, 6, 5, 8, 7, 6, 10, 8, 5, 4, 10, 7, 8, 8, 6, 7, 10, 9, 11, 10, 8, 2, 7, 7, 9, 6, 7, 2, 9, 4, 11, 6, 7, 12, 2, 9, 9, 8, 9, 3, 6, 10, 6, 8, 3, 9, 8, 12, 8, 4, 8, 5, 5, 5, 12, 5, 7, 8, 10, 5, 10, 5, 4, 5, 9, 6, 9, 8, 11, 3, 8, 5, 4, 9, 10, 4, 10, 8, 3, 5, 8, 2, 6, 5, 7, 10, 3, 12, 7, 8, 7, 12, 10, 4, 8, 7, 5, 4, 4, 10, 12, 9, 6, 7, 3, 7, 9, 6, 4, 5, 6, 10, 5, 7, 8, 6, 11, 9, 5, 7, 6, 4, 2, 4, 4, 10, 5, 6, 7, 4, 11, 2, 7, 7, 2, 7, 3, 12, 7, 5, 2, 4, 5, 9, 7, 7, 9, 6, 5, 6, 7, 5, 9, 5, 8, 4, 6, 11, 9, 4, 8, 4, 6, 7, 9, 6, 7, 12, 6, 6, 7, 5, 3, 5, 4, 6, 10, 7, 11, 10, 6, 9, 7, 3, 5, 9, 7, 3, 9, 3, 7, 10, 10, 3, 2, 9, 11, 6, 10, 4, 5, 10, 9, 10, 7, 6, 3, 8, 3, 7, 4, 3, 10, 6, 5, 8, 8, 6, 12, 11, 11, 4, 9, 6, 10, 5, 7, 4, 5, 8, 7, 8, 7, 11, 10, 7, 3, 4, 8, 9, 7, 6, 7, 11, 11, 4, 9, 8, 8, 8, 9, 9, 11, 12, 8, 3, 7, 3, 6, 8, 5, 5, 5, 2, 7, 9, 7, 5, 10, 6, 10, 11, 7, 7, 7, 7, 9, 9, 6, 10, 6, 7, 12, 7, 8, 6, 8, 4, 5, 10, 7, 5, 8, 5, 11, 10, 10, 6, 9, 7, 6, 10, 8, 9, 7, 4, 9, 10, 8, 9, 3, 9, 2, 6, 10, 9, 7, 3, 4, 7, 4, 9, 7, 7, 12, 11, 4, 7, 7, 12, 6, 7, 7, 4, 2, 5, 10, 9, 9, 8, 9, 3, 8, 8, 5, 5, 5, 8, 11, 3, 2, 9, 11, 6, 6, 6, 11, 3, 10, 8, 8, 5, 4, 4, 5, 11, 5, 2, 10, 6, 6, 7, 5, 7, 7, 5, 7, 11, 8, 2, 6, 10, 6, 11, 2, 8, 8, 7, 10, 7, 3, 7, 8, 8, 4, 4, 8, 11, 4, 8, 7, 8, 10, 8, 8, 10, 10, 5, 7, 8, 4, 3, 5, 10, 5, 9, 9, 6, 3, 10, 4, 6, 7, 10, 8, 5, 3, 3, 9, 4, 5, 7, 6, 8, 8, 3, 4, 7, 9, 12, 10, 7, 10, 6, 3, 3, 6, 6, 7, 3, 10, 7, 5, 4, 6, 6, 5, 3, 11, 4, 10, 5, 8, 4, 11, 9, 9, 6, 3, 5, 11, 8, 8, 6, 6, 7, 11, 8, 6, 7, 6, 10, 10, 2, 6, 8, 11, 4, 4, 6, 5, 4, 10, 7, 7, 7, 5, 10, 5, 3, 8, 3, 7, 4, 4, 9, 5, 5, 3, 11, 7, 7, 9, 7, 8, 6, 5, 8, 4, 10, 6, 4, 4, 7, 7, 12, 8, 7, 2, 4, 4, 7, 11, 10, 6, 6, 10, 6, 9, 10, 11, 5, 4, 3, 7, 5, 8, 7, 7, 5, 2, 8, 8, 9, 6, 2, 6, 7, 6, 8, 5, 7, 7, 5, 5, 5, 9, 10, 6, 6, 9, 7, 8, 8, 7, 3, 10, 8, 8, 10, 8, 9, 7, 3, 7, 4, 8, 5, 8, 5, 7, 8, 5, 9, 5, 3, 4, 6, 6, 5, 10, 7, 7, 5, 7, 8, 6, 4, 3, 5, 9, 6, 5, 11, 7, 11, 8, 6, 6, 6, 9, 8, 11, 10, 9, 12, 6, 7, 2, 4, 8, 6, 7, 7, 10, 10, 4, 6, 9, 7, 7, 5, 8, 8, 3, 8, 6, 10, 4, 7, 2, 3, 8, 10, 7, 6, 6, 10, 8, 8, 7, 8, 5, 12, 6, 6, 11, 2, 11, 6, 5, 9, 7, 10, 4, 6, 7, 3, 8, 5, 3, 9, 6, 7, 3, 4, 9, 2, 4, 10, 8, 5, 7, 6, 4, 5, 5, 8, 6, 8, 7, 6, 9, 5, 6, 10, 7, 7, 8, 11, 4, 11, 9, 7, 6, 2, 8, 5, 7, 7, 10, 6, 3, 6, 7, 8, 6, 10, 8, 10, 6, 7, 6, 5, 6, 8, 2, 7, 7, 10, 5, 4, 7, 7, 12, 12, 5, 5, 6, 3, 6, 2, 4, 11, 8, 9, 4, 10, 7, 8, 8, 7, 9, 8, 7, 4, 4, 5, 7, 9, 6, 7, 9, 7, 3, 4, 7, 11, 7, 8, 9, 2, 10, 9, 6, 7, 5, 10, 10, 6, 5, 6, 3, 2, 4, 8, 6, 3, 5, 8, 5, 6, 8, 7, 10, 3, 9, 12, 8, 5, 11, 7, 3, 8, 8, 7, 7, 10, 7, 7, 8, 5, 6, 2, 7, 10, 5, 9, 6, 12, 11, 12, 8, 5, 4, 8, 6, 7, 6, 7, 12, 10, 5, 2, 3, 9, 10, 9, 7, 8, 8, 11, 7, 10, 5, 8, 12, 11, 7, 4, 7, 2, 8, 7, 4, 8, 8, 12, 9, 3, 5, 7, 3, 8, 9, 9, 7, 7, 5, 8, 10, 6, 7, 8, 9, 9, 6, 5, 8, 7, 6, 3, 3, 5, 6, 10, 7, 5, 5, 7, 2, 7, 6, 12, 6, 6, 6, 3, 9, 9, 10, 9, 8, 4, 4, 5, 9, 8, 8, 12, 11, 9, 11, 10, 2, 9, 5, 8, 7, 9, 4, 10, 7, 7, 8, 7, 8, 10, 6, 5, 10, 11, 6, 8, 5, 5, 9, 8, 6, 7, 9, 8, 6, 7, 7, 7, 6, 9, 7, 2, 12, 4, 11, 3, 11, 9, 2, 6, 5, 8, 5, 2, 6, 9, 5, 5, 7, 10, 6, 5, 7, 5, 9, 6, 6, 5, 9, 8, 7, 10, 7, 6, 6, 2, 4, 8, 10, 8, 12, 11, 9, 4, 7, 11, 11, 7, 9, 8, 5, 12, 7, 7, 4, 10, 4, 5, 11, 5, 5, 5, 5, 9, 10, 5, 5, 6, 3, 7, 11, 2, 8, 3, 6, 4, 8, 2, 7, 3, 9, 10, 4, 7, 6, 5, 7, 5, 4, 8, 6, 4, 3, 4, 7, 12, 10, 3, 6, 7, 5, 8, 7, 7, 5, 4, 8, 8, 7, 4, 6, 3, 4, 11, 7, 7, 6, 7, 4, 7, 9, 11, 4, 7, 5, 6, 7, 9, 6, 8, 9, 6, 5, 5, 7, 7, 3, 9, 3, 4, 8, 7, 5, 4, 5, 9, 6, 3, 11, 9, 3, 11, 7, 7, 9, 9, 6, 4, 6, 6, 4, 6, 8, 4, 7, 5, 5, 3, 3, 2, 7, 6, 7, 8, 4, 4, 6, 4, 7, 5, 10, 10, 4, 6, 8, 5, 7, 4, 9, 11, 7, 6, 10, 7, 6, 6, 4, 9, 6, 10, 11, 5, 8, 10, 6, 7, 5, 5, 6, 8, 5, 2, 3, 10, 7, 9, 9, 4, 5, 8, 6, 7, 4, 5, 11, 5, 10, 7, 9, 8, 5, 7, 2, 3, 11, 10, 6, 7, 5, 4, 10, 5, 12, 10, 10, 6, 8, 2, 10, 10, 7, 7, 5, 7, 12, 11, 2, 7, 6, 6, 6, 7, 5, 7, 5, 8, 7, 8, 5, 12, 8, 10, 12, 4, 6, 6, 3, 6, 2, 6, 9, 3, 7, 6, 6, 9, 10, 10, 10, 3, 5, 7, 6, 5, 3, 4, 6, 7, 9, 7, 5, 4, 3, 4, 9, 7, 6, 6, 8, 10, 9, 9, 3, 3, 9, 7, 8, 2, 9, 8, 3, 8, 8, 8, 9, 8, 10, 8, 2, 5, 6, 3, 8, 10, 4, 10, 10, 7, 5, 6, 8, 5, 7, 11, 5, 5, 9, 10, 7, 3, 10, 5, 6, 6, 9, 11, 7, 2, 9, 11, 4, 5, 9, 9, 4, 7, 7, 3, 8, 3, 11, 7, 11, 10, 7, 12, 7, 6, 11, 10, 7, 5, 4, 7, 10, 10, 7, 7, 4, 6, 7, 8, 7, 9, 7, 5, 2, 3, 7, 8, 7, 10, 7, 5, 5, 4, 2, 10, 11, 6, 6, 9, 7, 10, 6, 6, 10, 7, 7, 3, 8, 5, 10, 10, 11, 8, 8, 7, 7, 9, 10, 7, 11, 8, 4, 6, 7, 7, 2, 10, 6, 6, 8, 10, 2, 7, 4, 5, 5, 12, 7, 8, 5, 5, 8, 9, 6, 10, 6, 7, 7, 7, 9, 6, 9, 6, 8, 9, 5, 9, 7, 3, 4, 12, 6, 11, 6, 7, 5, 7, 6, 7, 8, 8, 10, 11, 6, 9, 9, 11, 11, 9, 9, 9, 7, 9, 7, 8, 11, 5, 8, 6, 12, 4, 10, 3, 7, 7, 6, 7, 10, 9, 6, 2, 7, 6, 10, 4, 6, 7, 8, 5, 9, 12, 3, 4, 5, 5, 8, 6, 8, 7, 6, 7, 9, 6, 4, 4, 7, 9, 8, 5, 9, 8, 11, 10, 6, 4, 7, 5, 5, 5, 12, 5, 4, 4, 10, 2, 11, 3, 12, 2, 7, 6, 7, 8, 4, 8, 9, 5, 11, 6, 11, 10, 9, 6, 8, 12, 7, 9, 9, 6, 9, 6, 5, 4, 10, 5, 8, 2, 6, 10, 8, 6, 8, 8, 6, 9, 4, 8, 10, 8, 4, 4, 7, 6, 7, 12, 2, 8, 5, 4, 6, 8, 8, 3, 12, 9, 5, 9, 9, 9, 7, 6, 7, 6, 9, 7, 10, 8, 8, 10, 11, 7, 6, 9, 9, 11, 12, 8, 5, 10, 8, 10, 3, 9, 7, 9, 5, 7, 7, 10, 7, 11, 11, 7, 6, 7, 9, 5, 3, 7, 8, 8, 12, 9, 8, 9, 6, 8, 8, 10, 6, 12, 3, 7, 6, 9, 5, 10, 4, 6, 4, 9, 8, 4, 2, 11, 10, 5, 5, 5, 10, 7, 8, 11, 9, 7, 4, 2, 11, 9, 8, 7, 9, 5, 9, 10, 11, 3, 11, 9, 7, 8, 8, 4, 7, 10, 8, 7, 11, 3, 9, 9, 6, 4, 7, 12, 5, 4, 6, 5, 7, 4, 11, 11, 9, 5, 3, 11, 6, 4, 8, 11, 9, 9, 7, 8, 6, 2, 10, 12, 11, 11, 11, 3, 3, 8, 9, 8, 4, 6, 5, 8, 9, 6, 7, 8, 4, 5, 5, 12, 4, 3, 9, 8, 2, 7, 5, 8, 6, 6, 5, 9, 6, 10, 6, 6, 7, 9, 10, 3, 7, 6, 8, 4, 8, 9, 4, 8, 5, 6, 9, 7, 12, 9, 5, 6, 9, 10, 4, 6, 6, 8, 10, 8, 5, 8, 4, 10, 8, 3, 9, 7, 9, 9, 2, 4, 9, 4, 9, 6, 5, 8, 6, 7, 3, 11, 6, 6, 7, 10, 4, 5, 9, 9, 5, 8, 4, 4, 8, 9, 3, 5, 5, 6, 11, 9, 3, 11, 11, 9, 8, 7, 5, 5, 10, 3, 3, 5, 7, 9, 11, 6, 11, 11, 4, 9, 4, 8, 6, 3, 5, 4, 2, 8, 8, 10, 7, 8, 4, 5, 8, 9, 5, 3, 5, 10, 7, 4, 6, 9, 10, 12, 8, 5, 7, 7, 4, 8, 7, 7, 6, 3, 6, 3, 9, 8, 10, 7, 5, 7, 10, 7, 8, 7, 5, 12, 11, 9, 5, 5, 7, 8, 11, 9, 6, 6, 9, 6, 5, 4, 7, 4, 5, 10, 2, 9, 8, 10, 6, 9, 9, 8, 10, 7, 6, 3, 7, 2, 2, 8, 12, 11, 5, 4, 6, 5, 6, 8, 6, 6, 5, 10, 5, 6, 9, 4, 10, 7, 4, 7, 8, 2, 6, 4, 6, 10, 7, 7, 8, 6, 5, 3, 10, 7, 5, 6, 5, 11, 5, 9, 9, 7, 9, 12, 8, 9, 7, 10, 10, 8, 5, 4, 3, 4, 5, 8, 7, 6, 6, 3, 8, 6, 5, 7, 10, 8, 7, 5, 8, 9, 5, 8, 10, 6, 7, 4, 6, 8, 7, 7, 12, 4, 8, 4, 10, 3, 6, 9, 7, 7, 8, 12, 8, 10, 7, 12, 7, 6, 9, 10, 6, 5, 7, 3, 10, 2, 3, 6, 3, 2, 4, 10, 7, 7, 5, 3, 9, 5, 6, 11, 7, 3, 12, 3, 6, 6, 8, 8, 8, 3, 7, 5, 8, 8, 8, 5, 5, 8, 3, 9, 6, 3, 7, 6, 8, 9, 9, 7, 5, 4, 10, 10, 7, 4, 7, 3, 6, 7, 10, 3, 7, 9, 12, 6, 7, 11, 10, 10, 5, 2, 6, 7, 5, 8, 9, 6, 7, 5, 4, 12, 9, 6, 8, 12, 5, 12, 8, 8, 10, 8, 5, 10, 4, 11, 6, 8, 8, 6, 6, 7, 11, 10, 10, 3, 6, 9, 5, 6, 2, 9, 3, 3, 5, 5, 5, 8, 4, 5, 8, 7, 3, 6, 5, 11, 11, 9, 10, 10, 6, 12, 7, 6, 3, 5, 6, 8, 7, 12, 7, 6, 9, 6, 7, 5, 12, 7, 4, 9, 7, 9, 8, 5, 11, 10, 7, 11, 10, 7, 5, 7, 10, 8, 7, 8, 8, 7, 10, 6, 7, 7, 6, 5, 8, 5, 7, 6, 6, 10, 7, 5, 10, 2, 4, 6, 3, 8, 9, 8, 9, 9, 5, 9, 3, 8, 10, 8, 10, 7, 3, 7, 7, 6, 8, 7, 11, 5, 8, 10, 5, 10, 11, 11, 2, 8, 6, 12, 6, 4, 6, 4, 9, 10, 8, 4, 5, 7, 7, 6, 5, 11, 6, 7, 7, 4, 6, 7, 9, 5, 11, 7, 6, 7, 12, 9, 9, 9, 12, 10, 2, 8, 6, 8, 6, 4, 7, 7, 11, 6, 11, 10, 6, 3, 10, 9, 7, 9, 9, 5, 7, 11, 8, 10, 6, 5, 11, 4, 6, 4, 9, 2, 5, 5, 10, 3, 8, 5, 4, 7, 8, 3, 5, 7, 8, 9, 4, 5, 6, 5, 8, 8, 7, 8, 8, 9, 6, 9, 10, 7, 7, 3, 7, 7, 7, 11, 6, 9, 12, 3, 7, 5, 7, 4, 9, 10, 4, 3, 8, 4, 5, 4, 9, 7, 9, 2, 9, 8, 4, 8, 10, 7, 6, 8, 6, 7, 7, 6, 3, 5, 5, 6, 11, 7, 6, 9, 4, 2, 8, 10, 7, 11, 7, 11, 5, 6, 11, 4, 8, 5, 9, 6, 6, 3, 7, 10, 3, 7, 12, 4, 8, 8, 9, 5, 6, 12, 9, 4, 5, 3, 6, 6, 10, 10, 11, 6, 9, 5, 9, 3, 5, 4, 8, 9, 8, 10, 7, 3, 5, 3, 4, 10, 5, 10, 3, 7, 6, 4, 7, 8, 6, 6, 8, 8, 10, 10, 5, 8, 7, 9, 6, 10, 11, 6, 6, 6, 9, 8, 10, 9, 5, 9, 8, 5, 7, 11, 5, 9, 5, 6, 9, 7, 5, 5, 8, 8, 4, 7, 5, 8, 10, 4, 6, 11, 7, 8, 6, 7, 3, 7, 7, 9, 8, 7, 6, 7, 7, 7, 6, 3, 8, 4, 9, 5, 3, 8, 12, 3, 8, 4, 10, 9, 4, 7, 2, 8, 3, 3, 11, 11, 6, 7, 6, 7, 6, 9, 9, 6, 5, 7, 4, 3, 5, 9, 4, 10, 6, 6, 12, 4, 10, 5, 5, 8, 12, 7, 5, 6, 10, 6, 2, 9, 6, 5, 6, 3, 5, 2, 4, 4, 4, 4, 8, 5, 9, 7, 4, 4, 7, 5, 7, 4, 4, 5, 10, 9, 7, 3, 7, 8, 3, 7, 7, 8, 2, 5, 7, 5, 3, 7, 8, 7, 7, 7, 4, 3, 8, 6, 8, 5, 8, 6, 8, 7, 9, 6, 10, 7, 8, 9, 12, 7, 8, 6, 9, 4, 2, 4, 4, 5, 5, 11, 10, 9, 10, 5, 10, 8, 3, 5, 6, 4, 8, 9, 7, 5, 8, 3, 5, 8, 7, 9, 10, 4, 8, 8, 9, 5, 4, 11, 6, 5, 7, 5, 6, 6, 12, 8, 9, 8, 9, 4, 8, 9, 7, 12, 7, 7, 6, 9, 4, 10, 7, 10, 7, 4, 7, 11, 12, 9, 7, 3, 8, 3, 10, 3, 10, 12, 10, 6, 4, 9, 7, 3, 3, 9, 8, 8, 5, 7, 7, 2, 8, 8, 7, 8, 6, 8, 6, 6, 8, 9, 11, 6, 8, 9, 5, 7, 6, 3, 2, 4, 3, 5, 7, 10, 4, 10, 7, 9, 6, 7, 8, 4, 6, 9, 9, 3, 11, 10, 4, 9, 7, 8, 8, 6, 8, 7, 6, 10, 5, 7, 9, 5, 6, 8, 10, 11, 5, 10, 8, 7, 11, 6, 6, 2, 10, 9, 7, 8, 2, 5, 4, 7, 7, 11, 7, 8, 3, 9, 9, 7, 10, 10, 8, 3, 7, 3, 7, 9, 8, 10, 3, 8, 8, 6, 8, 11, 8, 7, 12, 9, 5, 10, 5, 6, 4, 4, 9, 12, 9, 8, 3, 9, 8, 8, 9, 10, 5, 8, 7, 8, 4, 2, 9, 12, 8, 6, 7, 8, 10, 9, 9, 4, 7, 8, 8, 8, 2, 10, 10, 7, 3, 8, 4, 4, 10, 6, 4, 5, 3, 5, 3, 2, 2, 10, 3, 10, 6, 10, 7, 10, 6, 6, 8, 6, 11, 7, 5, 2, 6, 6, 9, 7, 9, 7, 7, 4, 10, 12, 4, 7, 8, 6, 7, 4, 4, 4, 6, 6, 3, 6, 5, 10, 5, 6, 6, 12, 7, 2, 6, 3, 4, 6, 9, 8, 6, 5, 8, 5, 5, 5, 10, 5, 7, 4, 9, 7, 8, 7, 9, 7, 7, 5, 11, 8, 4, 7, 10, 11, 11, 6, 7, 12, 6, 9, 6, 8, 10, 5, 4, 9, 9, 6, 5, 7, 3, 6, 9, 5, 9, 8, 8, 4, 7, 7, 11, 10, 3, 4, 5, 4, 11, 7, 7, 9, 8, 8, 3, 7, 8, 7, 4, 6, 10, 7, 6, 11, 7, 10, 6, 6, 9, 7, 7, 8, 7, 7, 3, 7, 2, 4, 3, 7, 10, 6, 8, 5, 10, 3, 7, 10, 8, 9, 8, 6, 8, 10, 8, 10, 7, 6, 5, 5, 4, 5, 4, 9, 8, 2, 5, 7, 11, 11, 9, 6, 4, 5, 7, 8, 10, 9, 8, 7, 3, 11, 8, 5, 6, 7, 8, 7, 6, 2, 7, 6, 8, 9, 11, 2, 7, 9, 8, 5, 10, 9, 5, 12, 6, 9, 6, 5, 2, 8, 6, 8, 7, 5, 5, 6, 10, 12, 12, 9, 7, 8, 10, 7, 8, 9, 3, 8, 7, 6, 11, 9, 7, 7, 5, 11, 5, 10, 9, 7, 2, 8, 3, 7, 9, 6, 5, 6, 3, 3, 3, 5, 7, 6, 8, 8, 11, 11, 10, 5, 6, 5, 12, 7, 8, 5, 7, 10, 5, 7, 6, 2, 9, 11, 10, 8, 10, 8, 11, 7, 6, 4, 7, 8, 9, 8, 6, 6, 9, 4, 6, 9, 7, 4, 11, 8, 9, 6, 8, 7, 6, 6, 9, 7, 9, 8, 7, 8, 9, 10, 6, 8, 5, 6, 2, 6, 10, 5, 7, 3, 5, 4, 5, 7, 8, 8, 3, 3, 9, 9, 7, 6, 12, 5, 8, 4, 6, 4, 3, 5, 11, 6, 11, 4, 8, 6, 9, 7, 8, 9, 12, 8, 10, 11, 4, 3, 2, 4, 8, 6, 4, 8, 5, 11, 6, 8, 10, 11, 9, 7, 5, 5, 11, 11, 6, 7, 11, 9, 8, 5, 4, 3, 7, 8, 11, 6, 2, 11, 6, 7, 2, 11, 4, 8, 11, 5, 10, 7, 7, 9, 10, 7, 2, 7, 3, 4, 6, 8, 8, 9, 9, 10, 11, 6, 5, 5, 5, 6, 7, 2, 7, 9, 5, 7, 11, 5, 3, 4, 7, 7, 10, 7, 9, 5, 11, 4, 7, 7, 4, 7, 6, 6, 10, 4, 7, 9, 9, 7, 8, 8, 8, 6, 3, 7, 6, 4, 7, 4, 11, 7, 11, 8, 7, 8, 4, 4, 2, 5, 8, 8, 9, 4, 9, 3, 8, 3, 7, 12, 9, 8, 6, 8, 3, 8, 9, 4, 5, 5, 7, 7, 9, 10, 5, 3, 3, 3, 7, 8, 7, 12, 9, 6, 5, 3, 6, 7, 10, 12, 7, 8, 6, 10, 7, 7, 9, 4, 10, 7, 9, 5, 8, 7, 9, 9, 5, 5, 7, 2, 5, 6, 4, 9, 3, 9, 7, 6, 6, 3, 10, 8, 8, 9, 4, 10, 10, 7, 3, 5, 3, 7, 7, 8, 7, 7, 6, 7, 7, 4, 9, 5, 10, 9, 5, 6, 10, 7, 7, 10, 11, 9, 9, 10, 8, 6, 6, 4, 7, 5, 8, 6, 10, 10, 2, 6, 4, 7, 7, 11, 4, 10, 5, 7, 6, 10, 6, 11, 4, 8, 7, 4, 10, 5, 5, 7, 8, 11, 5, 8, 2, 11, 9, 9, 8, 5, 2, 11, 5, 6, 9, 7, 8, 10, 6, 6, 7, 7, 3, 10, 10, 6, 6, 2, 8, 4, 5, 11, 8, 3, 8, 4, 6, 9, 7, 8, 12, 8, 6, 7, 6, 7, 9, 9, 8, 9, 7, 10, 7, 4, 5, 6, 7, 8, 7, 5, 7, 11, 5, 5, 12, 4, 6, 5, 7, 6, 5, 8, 3, 4, 7, 9, 10, 8, 11, 3, 9, 9, 3, 2, 8, 9, 8, 8, 3, 9, 9, 6, 8, 6, 6, 7, 9, 8, 8, 7, 3, 7, 9, 5, 9, 8, 10, 4, 4, 5, 4, 5, 7, 6, 6, 5, 8, 12, 3, 2, 8, 10, 11, 11, 7, 10, 4, 7, 8, 10, 6, 8, 4, 4, 3, 4, 6, 9, 9, 5, 10, 10, 6, 10, 7, 6, 2, 8, 6, 5, 8, 10, 7, 10, 8, 7, 8, 4, 8, 6, 5, 7, 9, 7, 5, 7, 12, 3, 8, 7, 8, 10, 5, 7, 2, 9, 12, 6, 7, 11, 8, 10, 7, 6, 8, 6, 10, 7, 5, 6, 8, 5, 7, 9, 8, 4, 6, 6, 7, 4, 9, 5, 4, 6, 3, 10, 3, 6, 6, 5, 10, 4, 9, 6, 7, 4, 9, 10, 8, 6, 12, 8, 4, 8, 5, 8, 5, 5, 11, 4, 9, 5, 12, 4, 11, 7, 10, 6, 11, 6, 9, 8, 4, 5, 4, 9, 12, 4, 6, 2, 4, 7, 8, 11, 6, 7, 7, 3, 8, 9, 8, 6, 6, 9, 11, 5, 3, 6, 5, 7, 8, 7, 3, 6, 10, 5, 11, 7, 6, 7, 7, 9, 7, 6, 6, 4, 6, 11, 10, 9, 9, 6, 7, 8, 4, 8, 8, 6, 9, 7, 7, 8, 4, 3, 5, 9, 7, 7, 8, 6, 6, 10, 7, 9, 9, 8, 11, 3, 6, 7, 6, 6, 8, 4, 6, 5, 11, 11, 9, 9, 10, 10, 5, 7, 6, 5, 12, 4, 7, 8, 6, 6, 6, 7, 7, 6, 7, 8, 4, 2, 11, 6, 11, 8, 10, 4, 7, 8, 3, 11, 3, 11, 7, 6, 7, 8, 6, 9, 7, 5, 2, 3, 5, 9, 6, 3, 4, 10, 11, 6, 8, 5, 8, 5, 4, 3, 7, 9, 7, 5, 5, 11, 4, 7, 8, 8, 10, 3, 8, 8, 8, 9, 7, 8, 9, 6, 6, 8, 12, 2, 11, 7, 12, 3, 6, 8, 6, 6, 10, 8, 3, 4, 6, 8, 2, 7, 4, 9, 6, 5, 10, 10, 5, 6, 10, 10, 6, 4, 10, 8, 9, 6, 6, 8, 9, 6, 8, 2, 6, 6, 4, 12, 7, 4, 8, 9, 9, 6, 9, 6, 6, 7, 7, 6, 10, 10, 9, 8, 8, 11, 11, 10, 6, 6, 8, 11, 9, 7, 11, 8, 4, 2, 8, 5, 6, 6, 2, 3, 9, 7, 5, 6, 11, 3, 8, 10, 6, 8, 4, 6, 9, 10, 2, 6, 5, 6, 5, 12, 5, 7, 9, 5, 6, 10, 9, 7, 7, 7, 6, 5, 8, 9, 9, 6, 11, 7, 8, 7, 7, 7, 3, 6, 6, 9, 7, 6, 11, 9, 6, 7, 11, 9, 7, 5, 4, 7, 6, 9, 4, 3, 8, 8, 5, 7, 7, 4, 6, 6, 2, 7, 5, 7, 5, 6, 4, 11, 5, 12, 9, 8, 8, 9, 8, 3, 7, 3, 10, 10, 5, 9, 4, 11, 8, 8, 8, 6, 7, 7, 4, 4, 8, 8, 7, 10, 7, 7, 10, 7, 5, 10, 5, 4, 7, 6, 5, 3, 7, 4, 7, 9, 4, 7, 9, 9, 3, 4, 12, 5, 4, 3, 4, 5, 4, 6, 7, 6, 8, 8, 6, 9, 9, 7, 4, 6, 4, 2, 5, 6, 7, 7, 7, 7, 9, 7, 3, 5, 6, 11, 5, 3, 8, 10, 5, 5, 6, 8, 2, 9, 6, 6, 10, 8, 6, 11, 5, 11, 3, 11, 4, 8, 11, 9, 9, 6, 8, 5, 6, 12, 7, 8, 5, 7, 3, 9, 7, 8, 8, 2, 5, 6, 10, 10, 6, 9, 7, 9, 3, 8, 6, 8, 8, 3, 4, 2, 3, 7, 9, 5, 8, 11, 7, 7, 11, 9, 5, 10, 7, 8, 9, 7, 5, 9, 7, 7, 7, 6, 8, 9, 6, 6, 5, 6, 2, 11, 9, 4, 6, 5, 5, 7, 5, 5, 8, 5, 7, 2, 9, 10, 4, 6, 5, 6, 4, 10, 6, 7, 8, 7, 5, 7, 9, 9, 10, 10, 6, 5, 7, 10, 8, 7, 6, 2, 10, 9, 6, 10, 3, 5, 10, 3, 4, 9, 7, 6, 8, 8, 3, 6, 8, 5, 11, 5, 5, 5, 6, 5, 9, 11, 7, 11, 7, 12, 7, 9, 4, 9, 12, 9, 8, 4, 7, 9, 4, 4, 8, 6, 8, 7, 6, 2, 3, 6, 5, 3, 9, 10, 6, 4, 7, 7, 7, 10, 5, 2, 4, 7, 7, 10, 11, 9, 9, 6, 5, 8, 6, 6, 4, 6, 11, 7, 6, 7, 6, 9, 6, 10, 9, 3, 5, 11, 5, 5, 6, 8, 5, 8, 6, 6, 11, 8, 10, 6, 9, 6, 6, 11, 5, 10, 4, 5, 2, 10, 12, 6, 7, 8, 7, 7, 2, 10, 4, 4, 6, 10, 10, 8, 7, 4, 7, 7, 8, 7, 11, 10, 8, 8, 6, 7, 7, 8, 4, 8, 9, 10, 10, 5, 7, 10, 7, 2, 3, 3, 9, 10, 3, 8, 5, 8, 5, 4, 8, 8, 5, 2, 5, 9, 9, 7, 9, 4, 8, 11, 8, 10, 5, 7, 8, 8, 5, 10, 7, 3, 7, 7, 3, 12, 4, 11, 5, 8, 7, 8, 7, 9, 2, 9, 9, 5, 6, 5, 10, 6, 10, 4, 7, 9, 5, 9, 6, 9, 10, 6, 8, 4, 9, 7, 8, 10, 3, 2, 9, 10, 2, 6, 4, 7, 6, 7, 9, 7, 10, 6, 9, 9, 5, 7, 10, 7, 6, 9, 6, 5, 7, 4, 4, 8, 3, 11, 3, 8, 9, 8, 5, 7, 5, 6, 6, 6, 6, 2, 3, 3, 9, 10, 9, 5, 6, 5, 6, 9, 8, 7, 10, 6, 8, 9, 6, 2, 10, 4, 4, 8, 4, 5, 6, 9, 6, 6, 5, 11, 6, 9, 10, 6, 4, 6, 4, 11, 8, 7, 9, 6, 8, 10, 7, 5, 7, 4, 3, 4, 7, 10, 11, 8, 11, 6, 9, 5, 8, 9, 7, 7, 6, 7, 8, 7, 11, 7, 7, 9, 8, 7, 7, 11, 5, 4, 8, 2, 9, 4, 10, 5, 6, 8, 10, 7, 3, 7, 8, 7, 11, 2, 8, 10, 6, 9, 7, 8, 12, 2, 2, 12, 11, 7, 6, 4, 5, 6, 9, 10, 6, 9, 2, 7, 6, 8, 5, 4, 11, 6, 8, 6, 8, 6, 8, 7, 2, 4, 4, 8, 9, 10, 11, 3, 11, 7, 5, 9, 8, 8, 6, 4, 4, 11, 10, 6, 11, 6, 9, 5, 7, 3, 8, 6, 7, 4, 6, 11, 10, 9, 9, 7, 6, 7, 3, 7, 10, 8, 8, 7, 7, 9, 10, 11, 10, 10, 10, 6, 2, 9, 8, 7, 4, 2, 12, 6, 6, 4, 5, 11, 4, 7, 10, 9, 4, 7, 7, 6, 4, 7, 5, 2, 7, 5, 5, 7, 4, 10, 8, 5, 8, 7, 7, 7, 10, 5, 7, 7, 7, 10, 9, 5, 11, 8, 5, 8, 9, 10, 7, 9, 9, 2, 9, 8, 9, 10, 10, 3, 7, 7, 9, 11, 10, 9, 9, 10, 6, 5, 8, 6, 4, 10, 7, 3, 5, 10, 4, 7, 8, 8, 11, 10, 7, 9, 3, 7, 10, 8, 7, 10, 6, 11, 5, 3, 6, 9, 10, 6, 4, 5, 2, 9, 4, 5, 5, 8, 8, 5, 5, 10, 8, 6, 7, 6, 9, 2, 10, 5, 7, 7, 7, 6, 5, 10, 8, 5, 4, 8, 3, 7, 5, 4, 9, 3, 6, 8, 4, 5, 6, 10, 7, 8, 12, 8, 2, 2, 7, 10, 7, 10, 2, 4, 5, 7, 5, 10, 7, 10, 6, 9, 7, 3, 9, 6, 9, 10, 7, 9, 5, 6, 4, 7, 10, 10, 7, 11, 8, 7, 8, 6, 4, 11, 5, 5, 4, 5, 6, 6, 6, 6, 9, 4, 11, 9, 6, 9, 6, 8, 7, 9, 9, 5, 2, 3, 5, 9, 12, 6, 10, 6, 10, 6, 10, 6, 6, 9, 6, 4, 9, 7, 8, 6, 11, 3, 7, 7, 5, 8, 4, 9, 5, 6, 4, 10, 11, 8, 9, 6, 11, 6, 10, 9, 6, 10, 8, 7, 6, 5, 9, 8, 9, 5, 4, 8, 9, 9, 9, 11, 11, 7, 11, 10, 8, 7, 4, 9, 6, 7, 5, 8, 6, 7, 7, 7, 9, 7, 9, 7, 4, 8, 3, 8, 4, 5, 8, 5, 7, 5, 5, 8, 7, 6, 10, 8, 4, 5, 5, 11, 7, 9, 5, 10, 9, 7, 6, 6, 11, 12, 6, 9, 8, 5, 7, 4, 7, 5, 7, 7, 10, 5, 8, 5, 9, 4, 10, 8, 6, 4, 8, 11, 7, 9, 11, 12, 12, 9, 7, 6, 10, 9, 8, 9, 7, 3, 10, 4, 10, 6, 9, 8, 6, 11, 5, 8, 5, 7, 6, 6, 7, 9, 8, 7, 5, 8, 4, 6, 5, 5, 8, 8, 6, 5, 7, 9, 7, 12, 8, 9, 10, 6, 4, 3, 10, 11, 7, 7, 6, 7, 8, 10, 5, 6, 7, 8, 5, 4, 11, 6, 6, 8, 11, 6, 3, 4, 5, 8, 11, 8, 4, 8, 9, 5, 6, 9, 5, 7, 11, 5, 8, 8, 2, 8, 4, 5, 10, 12, 3, 8, 9, 7, 7, 8, 9, 4, 11, 5, 5, 5, 9, 6, 9, 7, 6, 7, 7, 2, 11, 7, 6, 8, 7, 7, 5, 7, 5, 10, 5, 10, 4, 5, 7, 5, 7, 9, 6, 10, 7, 3, 6, 3, 7, 6, 10, 10, 5, 5, 3, 2, 7, 7, 6, 10, 4, 5, 5, 8, 8, 8, 11, 8, 8, 8, 5, 7, 4, 8, 6, 4, 9, 7, 8, 12, 5, 11, 9, 7, 8, 3, 7, 10, 9, 7, 7, 3, 8, 11, 5, 10, 5, 4, 9, 7, 7, 6, 4, 7, 11, 10, 9, 7, 4, 5, 9, 8, 5, 5, 10, 2, 11, 5, 5, 12, 8, 2, 7, 8, 4, 12, 9, 7, 9, 8, 6, 6, 5, 9, 5, 5, 12, 8, 6, 2, 6, 6, 7, 6, 9, 8, 11, 6, 8, 6, 8, 9, 7, 6, 9, 8, 10, 3, 10, 5, 12, 9, 8, 8, 9, 2, 6, 7, 11, 7, 10, 7, 7, 4, 9, 3, 7, 11, 6, 4, 8, 3, 7, 6, 7, 5, 7, 8, 5, 7, 10, 6, 7, 6, 7, 7, 4, 11, 11, 8, 7, 5, 5, 4, 4, 6, 6, 8, 11, 6, 3, 6, 7, 2, 8, 6, 6, 6, 7, 6, 7, 12, 3, 5, 4, 8, 10, 6, 11, 4, 2, 10, 9, 8, 11, 5, 9, 10, 9, 8, 6, 5, 7, 9, 9, 9, 6, 9, 7, 7, 8, 8, 4, 9, 4, 3, 7, 8, 6, 5, 7, 5, 4, 7, 10, 10, 7, 9, 4, 4, 5, 9, 12, 9, 6, 6, 10, 8, 7, 9, 4, 3, 3, 6, 8, 2, 8, 4, 11, 3, 10, 6, 5, 8, 6, 8, 8, 6, 9, 8, 11, 2, 5, 8, 8, 4, 3, 7, 8, 6, 10, 2, 7, 10, 12, 9, 9, 9, 7, 8, 5, 11, 4, 8, 7, 12, 6, 7, 5, 9, 8, 7, 9, 5, 8, 4, 11, 3, 12, 7, 9, 8, 5, 10, 7, 11, 7, 10, 8, 9, 6, 7, 9, 8, 7, 7, 5, 11, 3, 4, 4, 11, 10, 5, 6, 8, 5, 2, 9, 12, 3, 9, 6, 10, 7, 11, 3, 5, 7, 6, 11, 12, 8, 6, 7, 10, 6, 8, 7, 9, 8, 5, 10, 5, 9, 4, 9, 9, 3, 10, 9, 4, 4, 11, 7, 11, 4, 6, 9, 2, 6, 4, 9, 10, 7, 5, 6, 8, 8, 9, 8, 3, 4, 7, 10, 5, 7, 3, 6, 9, 6, 4, 9, 8, 8, 5, 4, 6, 10, 9, 4, 7, 7, 3, 6, 6, 9, 3, 9, 9, 5, 6, 7, 8, 8, 9, 10, 9, 11, 5, 6, 8, 6, 7, 7, 6, 5, 9, 2, 4, 4, 7, 8, 10, 7, 8, 5, 5, 5, 6, 6, 8, 8, 5, 7, 4, 3, 6, 5, 5, 7, 8, 6, 8, 10, 8, 6, 6, 5, 6, 5, 7, 5, 8, 5, 4, 8, 9, 8, 2, 4, 6, 9, 12, 7, 7, 6, 7, 8, 5, 10, 9, 4, 10, 5, 2, 4, 9, 8, 10, 7, 7, 8, 3, 10, 7, 4, 6, 9, 9, 5, 9, 5, 8, 6, 5, 4, 8, 4, 9, 2, 8, 8, 7, 8, 8, 10, 10, 5, 9, 9, 2, 9, 2, 3, 7, 5, 4, 5, 9, 9, 5, 11, 6, 11, 6, 6, 3, 6, 5, 5, 10, 7, 9, 6, 10, 12, 6, 12, 11, 9, 9, 9, 3, 9, 7, 9, 5, 11, 4, 7, 6, 7, 7, 3, 9, 9, 7, 9, 5, 8, 6, 7, 4, 2, 5, 5, 4, 10, 5, 7, 3, 5, 11, 9, 10, 5, 6, 7, 5, 10, 4, 7, 6, 11, 10, 7, 12, 9, 8, 8, 7, 6, 5, 9, 8, 2, 9, 5, 11, 5, 7, 5, 7, 7, 11, 5, 12, 9, 5, 6, 4, 9, 8, 11, 9, 6, 3, 5, 10, 5, 7, 8, 11, 10, 10, 7, 9, 6, 4, 9, 8, 6, 2, 6, 6, 4, 7, 9, 6, 9, 5, 6, 4, 10, 7, 11, 5, 8, 6, 11, 12, 6, 8, 5, 9, 9, 7, 6, 9, 5, 4, 7, 10, 5, 9, 6, 6, 9, 5, 3, 6, 9, 6, 9, 7, 2, 3, 7, 2, 8, 6, 5, 6, 9, 5, 7, 10, 10, 8, 9, 5, 9, 6, 7, 6, 8, 12, 3, 10, 7, 10, 5, 6, 11, 8, 4, 12, 7, 5, 10, 7, 5, 12, 4, 7, 8, 5, 4, 8, 10, 2, 4, 7, 2, 7, 10, 6, 7, 7, 7, 11, 7, 8, 8, 5, 6, 12, 7, 7, 11, 6, 4, 7, 5, 7, 7, 7, 10, 6, 6, 7, 10, 2, 12, 7, 4, 10, 7, 5, 5, 3, 4, 10, 10, 4, 9, 5, 6, 5, 5, 5, 9, 4, 5, 4, 7, 5, 6, 5, 8, 5, 6, 6, 4, 5, 7, 10, 9, 8, 9, 7, 9, 6, 9, 4, 2, 6, 6, 7, 2, 8, 5, 5, 8, 6, 8, 3, 12, 8, 12, 10, 3, 5, 6, 4, 5, 7, 5, 10, 11, 4, 3, 5, 5, 7, 9, 8, 7, 3, 3, 6, 7, 5, 10, 12, 6, 6, 4, 7, 5, 6, 9, 2, 9, 9, 4, 7, 6, 6, 11, 6, 7, 10, 10, 7, 8, 6, 8, 12, 5, 6, 5, 7, 4, 9, 7, 6, 8, 5, 7, 2, 6, 9, 8, 7, 7, 5, 4, 9, 12, 5, 9, 11, 7, 2, 7, 6, 5, 9, 9, 11, 4, 6, 10, 8, 6, 11, 8, 5, 11, 8, 10, 3, 10, 3, 6, 9, 6, 4, 2, 4, 5, 4, 5, 7, 4, 6, 4, 2, 8, 5, 4, 6, 7, 8, 4, 4, 7, 7, 8, 6, 7, 10, 5, 8, 7, 10, 9, 7, 2, 10, 5, 7, 7, 5, 8, 10, 6, 5, 10, 9, 6, 8, 5, 10, 4, 9, 7, 3, 5, 10, 8, 6, 6, 4, 12, 7, 4, 7, 10, 7, 11, 9, 5, 7, 8, 7, 5, 7, 9, 9, 9, 7, 7, 7, 9, 8, 11, 6, 11, 10, 5, 10, 7, 10, 9, 7, 7, 12, 2, 9, 6, 8, 6, 9, 9, 6, 7, 5, 2, 3, 7, 7, 5, 10, 5, 4, 8, 9, 8, 11, 8, 8, 7, 12, 4, 3, 11, 8, 7, 8, 11, 4, 9, 9, 8, 7, 8, 4, 4, 12, 4, 11, 4, 10, 6, 12, 8, 5, 5, 7, 7, 7, 7, 4, 4, 9, 9, 10, 11, 10, 9, 4, 7, 4, 8, 5, 6, 7, 8, 5, 12, 2, 8, 12, 12, 10, 9, 7, 9, 3, 5, 5, 6, 6, 11, 7, 9, 6, 6, 7, 5, 4, 7, 6, 7, 9, 5, 4, 4, 9, 8, 7, 6, 8, 11, 9, 8, 6, 9, 9, 7, 10, 8, 7, 8, 11, 6, 11, 7, 5, 4, 7, 11, 5, 8, 9, 5, 7, 5, 10, 8, 10, 10, 5, 9, 4, 4, 5, 10, 7, 9, 7, 6, 8, 10, 9, 4, 6, 8, 9, 7, 8, 8, 6, 11, 10, 3, 6, 7, 10, 9, 5, 9, 6, 10, 2, 8, 7, 6, 7, 6, 3, 10, 3, 6, 7, 8, 9, 7, 10, 4, 6, 10, 6, 4, 7, 6, 7, 4, 4, 2, 3, 7, 11, 7, 11, 5, 10, 8, 2, 5, 3, 5, 9, 4, 5, 3, 11, 6, 10, 8, 8, 5, 7, 6, 3, 7, 5, 6, 5, 2, 8, 2, 8, 12, 5, 8, 5, 10, 11, 3, 7, 3, 9, 7, 8, 4, 8, 4, 8, 8, 4, 4, 4, 8, 8, 3, 6, 8, 3, 8, 9, 6, 9, 7, 3, 4, 7, 7, 8, 8, 5, 10, 3, 7, 5, 6, 9, 7, 11, 7, 6, 7, 9, 8, 4, 7, 8, 7, 6, 12, 10, 11, 4, 4, 8, 11, 8, 9, 5, 5, 8, 6, 5, 10, 8, 7, 10, 4, 7, 7, 5, 9, 6, 11, 4, 6, 5, 9, 8, 6, 3, 6, 7, 9, 9, 3, 9, 7, 6, 11, 8, 9, 10, 6, 8, 8, 6, 8, 5, 10, 8, 3, 9, 11, 11, 4, 8, 5, 11, 12, 5, 6, 5, 7, 3, 9, 5, 2, 8, 11, 4, 8, 5, 3, 8, 10, 9, 5, 6, 7, 12, 11, 7, 11, 5, 5, 11, 7, 7, 6, 6, 11, 5, 9, 8, 8, 3, 7, 10, 8, 9, 7, 9, 4, 7, 7, 9, 6, 9, 9, 3, 5, 7, 2, 11, 6, 6, 5, 5, 7, 9, 6, 5, 4, 6, 3, 10, 10, 2, 5, 6, 8, 6, 8, 5, 11, 7, 12, 6, 7, 8, 5, 11, 8, 4, 10, 2, 2, 9, 10, 8, 7, 7, 7, 7, 8, 6, 4, 8, 5, 6, 8, 7, 4, 6, 11, 4, 6, 7, 11, 10, 6, 6, 9, 8, 5, 7, 7, 6, 5, 9, 6, 6, 5, 9, 9, 6, 7, 6, 7, 8, 6, 9, 6, 7, 7, 4, 5, 9, 4, 12, 6, 8, 5, 8, 12, 12, 8, 8, 4, 6, 12, 5, 7, 5, 6, 10, 8, 5, 7, 4, 12, 6, 7, 5, 3, 11, 7, 6, 4, 7, 7, 3, 3, 5, 6, 3, 4, 4, 8, 9, 8, 4, 6, 6, 9, 5, 2, 8, 6, 9, 3, 5, 2, 8, 7, 7, 8, 7, 3, 9, 4, 7, 5, 11, 9, 7, 8, 6, 9, 9, 4, 8, 8, 7, 5, 4, 11, 7, 6, 5, 8, 10, 9, 7, 3, 8, 10, 5, 8, 4, 6, 6, 11, 11, 6, 8, 7, 10, 8, 11, 10, 7, 8, 3, 7, 11, 5, 6, 4, 5, 8, 10, 10, 6, 7, 8, 9, 4, 8, 6, 7, 9, 6, 8, 10, 5, 5, 6, 10, 8, 6, 7, 7, 5, 8, 6, 9, 6, 6, 7, 6, 6, 2, 11, 7, 5, 4, 2, 10, 11, 4, 8, 8, 8, 8, 7, 4, 7, 11, 8, 4, 3, 4, 8, 6, 7, 4, 8, 11, 5, 6, 2, 6, 6, 5, 8, 9, 9, 9, 7, 5, 9, 3, 7, 7, 5, 9, 8, 6, 7, 7, 8, 10, 8, 7, 7, 3, 11, 6, 6, 5, 7, 8, 5, 12, 8, 12, 5, 7, 11, 5, 4, 8, 4, 2, 7, 2, 7, 8, 3, 4, 9, 11, 3, 9, 6, 7, 8, 2, 9, 5, 7, 8, 6, 12, 11, 5, 7, 3, 8, 6, 7, 5, 6, 4, 5, 6, 11, 4, 6, 9, 7, 5, 8, 9, 8, 3, 7, 6, 6, 7, 5, 6, 9, 7, 5, 5, 3, 5, 10, 12, 5, 10, 3, 10, 10, 11, 6, 5, 7, 7, 3, 5, 8, 7, 8, 2, 4, 5, 8, 5, 12, 8, 8, 10, 11, 2, 9, 5, 7, 9, 7, 9, 8, 6, 11, 8, 7, 9, 10, 7, 10, 9, 4, 4, 8, 8, 6, 4, 7, 10, 3, 5, 3, 8, 3, 11, 2, 8, 5, 7, 6, 11, 3, 6, 9, 5, 8, 8, 7, 11, 11, 9, 6, 8, 10, 7, 9, 8, 3, 12, 5, 7, 5, 8, 9, 8, 4, 5, 2, 11, 8, 9, 6, 6, 2, 10, 7, 8, 4, 10, 7, 5, 12, 9, 5, 3, 6, 11, 9, 9, 7, 3, 8, 7, 2, 6, 10, 9, 8, 6, 7, 8, 2, 4, 7, 6, 7, 9, 8, 6, 11, 7, 6, 7, 8, 7, 9, 10, 8, 6, 8, 6, 2, 8, 10, 11, 6, 3, 7, 5, 9, 5, 6, 5, 4, 11, 2, 6, 2, 4, 3, 8, 6, 9, 7, 4, 12, 9, 7, 10, 5, 7, 9, 9, 10, 10, 9, 10, 6, 8, 5, 7, 10, 7, 7, 4, 11, 5, 8, 7, 11, 7, 12, 4, 10, 11, 6, 7, 9, 9, 8, 9, 11, 5, 7, 7, 7, 6, 6, 7, 3, 3, 7, 11, 8, 8, 6, 5, 9, 6, 9, 6, 9, 5, 10, 9, 7, 11, 7, 6, 10, 7, 7, 3, 5, 11, 8, 6, 9, 3, 7, 11, 7, 8, 10, 8, 3, 6, 9, 9, 9, 4, 3, 6, 12, 4, 10, 7, 6, 9, 6, 5, 6, 10, 5, 3, 7, 5, 6, 6, 7, 11, 9, 12, 3, 2, 6, 4, 4, 4, 9, 9, 6, 7, 9, 7, 8, 3, 3, 8, 11, 11, 10, 8, 7, 7, 7, 5, 7, 5, 11, 8, 6, 10, 8, 3, 11, 10, 11, 7, 5, 6, 9, 9, 10, 9, 5, 8, 11, 9, 3, 10, 10, 8, 3, 9, 7, 9, 5, 10, 7, 4, 9, 6, 3, 12, 4, 7, 5, 5, 6, 9, 8, 7, 7, 10, 8, 10, 6, 10, 7, 11, 4, 10, 7, 7, 8, 8, 7, 9, 8, 5, 7, 7, 4, 8, 11, 3, 6, 7, 9, 10, 5, 8, 8, 4, 6, 8, 12, 5, 9, 7, 11, 12, 3, 8, 12, 8, 8, 10, 6, 3, 6, 9, 5, 11, 10, 5, 7, 10, 8, 9, 6, 6, 2, 10, 5, 3, 6, 11, 9, 3, 7, 8, 10, 3, 6, 7, 2, 3, 8, 4, 6, 2, 7, 7, 8, 4, 2, 9, 10, 4, 9, 9, 9, 6, 8, 5, 8, 6, 10, 6, 12, 8, 5, 10, 7, 3, 6, 9, 9, 8, 5, 12, 5, 8, 11, 9, 7, 2, 6, 10, 2, 9, 6, 6, 9, 10, 8, 5, 9, 12, 7, 6, 7, 6, 4, 3, 2, 8, 7, 10, 3, 10, 9, 9, 6, 7, 6, 7, 7, 5, 5, 6, 6, 10, 3, 5, 5, 4, 8, 6, 9, 6, 12, 4, 6, 7, 10, 10, 7, 8, 6, 11, 5, 8, 12, 9, 9, 11, 10, 7, 6, 6, 8, 5, 8, 10, 4, 3, 8, 5, 11, 4, 9, 8, 8, 10, 12, 6, 10, 7, 5, 9, 7, 3, 6, 4, 6, 2, 6, 7, 10, 6, 7, 6, 2, 3, 7, 11, 6, 8, 10, 6, 9, 3, 4, 2, 5, 11, 7, 9, 3, 7, 10, 5, 11, 6, 11, 11, 5, 11, 5, 6, 5, 6, 6, 9, 5, 8, 7, 4, 9, 4, 10, 6, 8, 7, 6, 10, 8, 8, 7, 10, 7, 8, 7, 4, 8, 9, 7, 7, 11, 9, 7, 6, 7, 7, 7, 7, 9, 8, 5, 10, 4, 10, 7, 4, 6, 4, 8, 9, 11, 6, 7, 7, 7, 11, 6, 3, 3, 9, 3, 7, 9, 3, 11, 2, 7, 6, 5, 11, 6, 6, 2, 10, 4, 9, 12, 7, 6, 6, 5, 3, 8, 6, 4, 12, 3, 6, 3, 11, 4, 9, 7, 4, 8, 6, 7, 7, 8, 6, 12, 6, 5, 11, 4, 5, 6, 6, 9, 2, 8, 5, 6, 7, 5, 9, 8, 7, 11, 7, 9, 4, 5, 6, 8, 8, 6, 7, 8, 3, 4, 6, 8, 9, 6, 6, 5, 7, 7, 3, 6, 8, 11, 3, 6, 8, 9, 10, 9, 9, 3, 3, 7, 9, 11, 7, 7, 7, 7, 8, 6, 3, 6, 7, 7, 4, 9, 3, 6, 11, 11, 8, 9, 5, 8, 10, 7, 9, 6, 7, 9, 6, 8, 6, 6, 8, 12, 7, 5, 7, 9, 11, 5, 3, 8, 9, 7, 9, 6, 7, 8, 6, 9, 7, 7, 10, 8, 6, 4, 3, 4, 7, 7, 6, 5, 6, 6, 4, 9, 5, 11, 9, 8, 6, 6, 7, 9, 9, 9, 6, 9, 7, 6, 3, 3, 11, 6, 8, 8, 8, 6, 8, 9, 7, 5, 12, 5, 9, 8, 12, 5, 11, 9, 9, 8, 6, 7, 8, 8, 3, 10, 4, 11, 2, 7, 3, 5, 6, 7, 5, 8, 8, 11, 3, 5, 4, 8, 9, 4, 7, 7, 10, 7, 11, 8, 10, 8, 10, 7, 4, 6, 3, 9, 8, 7, 7, 5, 2, 6, 7, 7, 12, 3, 10, 4, 6, 10, 8, 6, 8, 3, 7, 11, 8, 4, 6, 9, 3, 7, 3, 6, 7, 4, 7, 6, 8, 5, 4, 7, 11, 5, 8, 4, 7, 8, 4, 9, 10, 12, 7, 12, 10, 7, 2, 7, 6, 3, 7, 7, 6, 9, 8, 6, 7, 7, 8, 4, 6, 9, 4, 7, 7, 3, 9, 11, 10, 7, 6, 6, 3, 6, 9, 9, 8, 8, 10, 4, 7, 10, 12, 11, 6, 10, 5, 7, 8, 5, 8, 9, 8, 10, 2, 6, 6, 3, 5, 8, 5, 10, 10, 3, 7, 3, 7, 8, 5, 10, 11, 9, 5, 11, 5, 11, 11, 8, 8, 2, 6, 5, 4, 6, 7, 10, 9, 8, 2, 8, 8, 5, 3, 6, 7, 11, 10, 10, 4, 7, 6, 4, 8, 5, 4, 7, 5, 5, 9, 8, 9, 9, 2, 5, 8, 8, 7, 7, 4, 6, 9, 7, 4, 5, 7, 10, 11, 9, 7, 8, 11, 9, 8, 7, 11, 9, 5, 8, 7, 10, 9, 3, 3, 5, 12, 5, 11, 3, 5, 6, 8, 5, 9, 10, 8, 5, 3, 9, 4, 8, 8, 7, 5, 7, 3, 3, 4, 9, 8, 5, 6, 10, 8, 6, 6, 10, 12, 6, 10, 9, 4, 2, 10, 9, 9, 9, 6, 8, 6, 11, 11, 6, 9, 7, 7, 4, 7, 7, 9, 5, 7, 9, 8, 6, 6, 9, 5, 7, 5, 6, 9, 8, 9, 4, 7, 8, 8, 7, 12, 8, 11, 8, 8, 12, 11, 9, 8, 9, 8, 6, 9, 8, 9, 7, 11, 9, 10, 5, 7, 7, 9, 4, 7, 12, 6, 8, 6, 8, 8, 8, 7, 7, 7, 5, 6, 8, 8, 7, 7, 4, 4, 7, 11, 3, 10, 10, 5, 7, 8, 5, 2, 5, 8, 6, 11, 4, 3, 3, 10, 7, 8, 6, 3, 6, 3, 7, 6, 10, 5, 8, 6, 5, 5, 8, 5, 11, 7, 3, 9, 5, 4, 3, 8, 11, 8, 11, 9, 7, 8, 8, 6, 5, 5, 5, 8, 8, 6, 6, 9, 9, 4, 5, 5, 8, 8, 9, 4, 5, 6, 11, 3, 6, 5, 10, 12, 9, 12, 9, 4, 7, 4, 8, 10, 8, 8, 6, 8, 4, 12, 6, 7, 11, 5, 5, 6, 10, 9, 6, 8, 4, 10, 7, 5, 2, 3, 6, 10, 11, 6, 7, 3, 8, 7, 9, 8, 7, 6, 4, 10, 11, 8, 8, 3, 6, 6, 6, 7, 7, 3, 7, 7, 3, 7, 8, 12, 7, 8, 8, 5, 10, 5, 5, 4, 10, 9, 7, 5, 8, 7, 7, 6, 10, 6, 9, 9, 8, 7, 10, 3, 7, 10, 7, 4, 12, 11, 8, 10, 10, 3, 6, 9, 3, 7, 10, 10, 10, 9, 7, 6, 12, 2, 8, 6, 12, 7, 10, 11, 12, 7, 11, 6, 8, 8, 9, 2, 4, 7, 3, 11, 8, 2, 5, 4, 5, 7, 8, 5, 3, 11, 7, 6, 7, 7, 7, 10, 6, 11, 7, 9, 7, 11, 6, 4, 10, 8, 9, 5, 7, 11, 7, 2, 12, 6, 10, 3, 9, 6, 7, 9, 3, 5, 3, 9, 8, 7, 4, 4, 5, 6, 6, 4, 5, 8, 9, 9, 11, 5, 10, 7, 7, 8, 9, 8, 8, 10, 6, 3, 7, 11, 8, 7, 3, 6, 6, 9, 6, 6, 7, 12, 5, 4, 11, 7, 6, 12, 7, 8, 8, 10, 11, 5, 6, 4, 6, 5, 2, 4, 3, 5, 5, 2, 5, 6, 8, 5, 9, 8, 3, 9, 12, 8, 10, 6, 12, 8, 8, 10, 11, 7, 6, 6, 6, 6, 8, 6, 7, 7, 10, 12, 8, 6, 9, 8, 10, 4, 6, 7, 9, 6, 9, 3, 8, 10, 7, 9, 7, 9, 7, 5, 8, 8, 11, 8, 10, 8, 3, 6, 5, 6, 9, 6, 6, 4, 9, 7, 5, 7, 7, 7, 5, 7, 7, 5, 11, 7, 4, 10, 8, 6, 8, 8, 11, 9, 11, 5, 7, 7, 7, 10, 5, 6, 11, 5, 7, 7, 11, 7, 9, 8, 5, 9, 7, 4, 8, 7, 8, 10, 4, 6, 6, 5, 5, 6, 5, 9, 8, 6, 2, 7, 3, 7, 10, 10, 4, 3, 11, 10, 5, 8, 6, 2, 9, 6, 7, 12, 10, 2, 7, 9, 8, 9, 9, 10, 7, 6, 6, 10, 3, 6, 11, 6, 4, 5, 7, 2, 3, 9, 7, 5, 11, 5, 8, 4, 8, 8, 4, 12, 5, 10, 11, 8, 9, 10, 4, 9, 8, 9, 6, 5, 10, 4, 6, 8, 11, 5, 9, 9, 9, 5, 2, 8, 9, 5, 10, 2, 11, 7, 10, 7, 8, 5, 3, 7, 8, 9, 7, 5, 3, 6, 8, 7, 12, 10, 3, 9, 8, 9, 8, 7, 8, 5, 3, 6, 5, 8, 10, 3, 5, 7, 4, 7, 8, 6, 4, 4, 11, 11, 4, 7, 4, 6, 8, 8, 8, 10, 6, 7, 11, 3, 12, 4, 6, 10, 7, 6, 7, 11, 2, 7, 4, 8, 7, 7, 9, 10, 12, 6, 3, 12, 4, 10, 2, 8, 7, 7, 9, 8, 4, 10, 10, 8, 9, 4, 11, 8, 7, 6, 12, 10, 7, 9, 8, 6, 12, 5, 10, 9, 2, 8, 9, 10, 7, 4, 5, 9, 7, 2, 7, 8, 6, 7, 6, 7, 8, 11, 5, 9, 7, 2, 11, 7, 9, 10, 11, 3, 9, 8, 6, 3, 8, 12, 7, 11, 6, 2, 6, 7, 6, 6, 6, 7, 7, 7, 11, 10, 10, 7, 8, 5, 3, 7, 5, 8, 9, 10, 12, 9, 2, 9, 10, 5, 9, 5, 5, 6, 8, 7, 9, 9, 4, 11, 9, 5, 9, 7, 3, 2, 8, 7, 7, 7, 7, 11, 11, 5, 7, 9, 3, 8, 10, 10, 6, 7, 7, 7, 8, 4, 3, 6, 9, 9, 6, 7, 3, 3, 9, 4, 6, 6, 8, 9, 10, 8, 8, 7, 6, 6, 7, 6, 8, 8, 11, 6, 10, 9, 6, 7, 7, 7, 9, 5, 6, 9, 3, 7, 8, 5, 8, 3, 9, 7, 2, 10, 2, 7, 7, 4, 9, 4, 6, 6, 7, 8, 11, 11, 6, 7, 8, 6, 4, 7, 2, 5, 2, 6, 10, 8, 6, 9, 7, 7, 4, 10, 5, 2, 8, 7, 7, 9, 8, 5, 7, 12, 8, 6, 10, 4, 5, 8, 9, 10, 7, 8, 7, 7, 10, 7, 5, 3, 9, 11, 10, 11, 9, 7, 4, 7, 9, 8, 8, 8, 8, 10, 4, 5, 4, 7, 7, 9, 2, 11, 7, 6, 7, 7, 3, 7, 7, 9, 7, 7, 9, 9, 2, 4, 3, 10, 8, 6, 5, 12, 6, 6, 9, 4, 3, 9, 5, 6, 7, 9, 5, 10, 12, 3, 11, 5, 9, 5, 8, 12, 7, 4, 9, 10, 5, 6, 6, 9, 4, 4, 6, 6, 9, 11, 5, 9, 5, 4, 4, 6, 2, 10, 5, 10, 3, 12, 12, 7, 10, 9, 8, 3, 6, 9, 4, 3, 8, 7, 6, 11, 7, 5, 3, 7, 10, 9, 6, 7, 6, 11, 3, 8, 5, 8, 8, 9, 6, 9, 5, 6, 9, 6, 10, 8, 4, 10, 4, 7, 7, 7, 5, 7, 4, 4, 6, 5, 7, 9, 2, 8, 3, 5, 8, 7, 11, 6, 2, 4, 6, 7, 3, 6, 5, 2, 6, 5, 5, 10, 6, 4, 4, 9, 5, 5, 10, 2, 9, 10, 7, 3, 4, 10, 4, 6, 9, 7, 6, 2, 7, 5, 3, 5, 6, 7, 7, 3, 3, 7, 6, 3, 11, 9, 6, 7, 6, 9, 8, 7, 7, 8, 4, 5, 9, 8, 10, 8, 6, 5, 8, 9, 8, 8, 7, 10, 5, 10, 11, 9, 9, 3, 10, 5, 7, 6, 2, 4, 3, 5, 5, 7, 9, 7, 6, 3, 6, 5, 7, 8, 7, 5, 7, 8, 12, 3, 10, 8, 6, 11, 8, 6, 3, 10, 5, 7, 7, 8, 11, 8, 9, 10, 2, 9, 11, 9, 8, 7, 4, 11, 3, 7, 7, 3, 4, 8, 7, 5, 2, 6, 7, 5, 7, 9, 5, 7, 9, 6, 8, 7, 11, 8, 4, 7, 8, 6, 7, 3, 10, 9, 7, 5, 7, 9, 5, 5, 6, 10, 5, 4, 5, 6, 8, 5, 3, 9, 5, 12, 8, 7, 9, 5, 5, 7, 4, 6, 5, 4, 4, 5, 5, 6, 3, 7, 6, 7, 7, 8, 9, 5, 6, 6, 8, 11, 3, 6, 6, 9, 7, 5, 7, 7, 8, 10, 2, 4, 5, 7, 6, 4, 8, 4, 7, 12, 6, 4, 7, 10, 9, 9, 10, 6, 6, 10, 4, 9, 7, 6, 8, 11, 9, 8, 6, 9, 9, 7, 8, 7, 6, 7, 9, 10, 12, 8, 8, 6, 9, 6, 7, 8, 8, 9, 10, 5, 5, 5, 7, 8, 10, 10, 4, 9, 9, 7, 8, 9, 9, 6, 7, 4, 10, 7, 3, 6, 4, 9, 10, 7, 11, 6, 6, 6, 7, 9, 5, 8, 5, 7, 7, 3, 10, 6, 6, 8, 7, 4, 7, 4, 3, 8, 10, 10, 5, 7, 7, 8, 7, 7, 9, 9, 7, 4, 9, 3, 7, 4, 8, 8, 6, 7, 10, 9, 9, 5, 11, 11, 10, 10, 10, 10, 12, 6, 8, 9, 8, 5, 5, 2, 10, 7, 10, 9, 4, 3, 8, 3, 4, 6, 8, 10, 6, 7, 6, 7, 10, 6, 12, 3, 6, 6, 6, 7, 10, 5, 7, 9, 9, 8, 12, 12, 8, 10, 6, 7, 7, 6, 9, 9, 8, 8, 5, 10, 5, 7, 9, 3, 8, 11, 2, 9, 9, 5, 2, 4, 3, 10, 7, 6, 2, 7, 11, 6, 7, 9, 6, 4, 7, 7, 9, 5, 10, 7, 6, 6, 7, 7, 3, 4, 10, 4, 11, 4, 7, 6, 3, 12, 8, 10, 7, 7, 7, 12, 7, 8, 11, 5, 8, 4, 4, 9, 6, 6, 9, 2, 11, 7, 4, 3, 10, 7, 9, 4, 7, 10, 11, 11, 7, 4, 11, 7, 8, 9, 9, 11, 7, 5, 6, 5, 6, 9, 6, 7, 10, 8, 10, 7, 2, 9, 6, 9, 8, 10, 6, 2, 5, 6, 9, 8, 11, 7, 4, 9, 8, 7, 6, 9, 6, 9, 7, 8, 5, 7, 10, 8, 8, 7, 7, 3, 3, 5, 9, 10, 4, 5, 6, 8, 11, 4, 8, 3, 7, 8, 8, 7, 8, 7, 4, 5, 11, 10, 4, 6, 9, 4, 9, 10, 9, 2, 6, 6, 6, 8, 7, 9, 9, 9, 10, 6, 12, 7, 6, 5, 6, 4, 8, 7, 4, 6, 6, 3, 9, 8, 9, 3, 10, 9, 12, 5, 7, 7, 7, 8, 4, 7, 6, 11, 5, 12, 8, 7, 8, 5, 5, 8, 6, 8, 7, 9, 3, 7, 9, 7, 4, 8, 4, 9, 6, 7, 5, 7, 4, 10, 7, 4, 8, 6, 7, 7, 6, 5, 7, 8, 6, 5, 11, 2, 7, 10, 6, 6, 9, 7, 6, 9, 6, 2, 11, 9, 6, 5, 10, 6, 12, 8, 11, 6, 10, 9, 6, 3, 10, 3, 9, 3, 6, 11, 8, 7, 11, 7, 6, 9, 8, 7, 5, 5, 12, 10, 7, 6, 7, 8, 5, 12, 6, 7, 4, 7, 8, 5, 5, 6, 6, 7, 6, 8, 8, 2, 8, 2, 9, 6, 12, 5, 10, 10, 4, 7, 5, 3, 7, 5, 8, 3, 5, 8, 7, 6, 8, 6, 7, 5, 9, 3, 10, 7, 4, 6, 4, 7, 11, 6, 6, 3, 7, 9, 6, 6, 3, 4, 5, 5, 11, 6, 8, 2, 6, 10, 12, 7, 5, 10, 8, 9, 4, 6, 5, 7, 5, 6, 11, 6, 8, 8, 7, 2, 6, 6, 7, 8, 4, 5, 7, 7, 7, 8, 11, 3, 6, 8, 8, 6, 5, 9, 12, 7, 4, 10, 7, 2, 3, 3, 7, 9, 4, 9, 7, 5, 10, 7, 3, 8, 9, 9, 8, 5, 4, 4, 9, 8, 7, 4, 7, 5, 7, 10, 9, 7, 6, 9, 3, 8, 8, 9, 10, 12, 4, 6, 12, 4, 11, 5, 6, 6, 9, 9, 9, 7, 7, 8, 7, 6, 3, 11, 7, 7, 10, 5, 5, 8, 6, 6, 8, 9, 10, 5, 3, 11, 7, 8, 5, 4, 7, 6, 6, 6, 6, 8, 7, 7, 7, 6, 9, 6, 9, 8, 5, 5, 7, 6, 11, 2, 10, 5, 10, 7, 12, 9, 4, 7, 9, 7, 10, 11, 6, 5, 4, 6, 5, 6, 4, 6, 10, 12, 6, 8, 9, 6, 11, 10, 7, 6, 5, 9, 3, 9, 10, 8, 5, 12, 7, 5, 9, 11, 4, 8, 6, 4, 7, 8, 6, 4, 5, 7, 5, 5, 7, 7, 12, 7, 9, 5, 6, 7, 9, 5, 10, 8, 4, 4, 11, 6, 2, 8, 7, 4, 8, 5, 5, 10, 7, 7, 7, 8, 3, 6, 9, 3, 6, 5, 11, 5, 8, 7, 8, 7, 5, 9, 6, 8, 10, 9, 4, 12, 3, 10, 9, 5, 6, 5, 9, 8, 5, 4, 8, 5, 8, 5, 9, 11, 7, 4, 8, 6, 6, 11, 8, 7, 6, 5, 7, 9, 9, 8, 9, 5, 8, 8, 7, 10, 2, 5, 4, 5, 7, 6, 2, 7, 9, 10, 8, 7, 7, 9, 6, 7, 8, 6, 4, 3, 6, 8, 7, 4, 4, 7, 11, 10, 7, 8, 10, 8, 7, 8, 5, 9, 7, 8, 5, 9, 8, 6, 7, 6, 4, 5, 8, 6, 9, 7, 9, 3, 9, 8, 3, 2, 9, 3, 10, 9, 5, 7, 7, 7, 8, 4, 4, 8, 9, 6, 5, 8, 10, 6, 7, 7, 4, 7, 2, 12, 8, 5, 6, 11, 5, 4, 8, 2, 10, 6, 7, 6, 4, 2, 6, 3, 7, 3, 7, 8, 5, 7, 8, 7, 9, 8, 9, 8, 3, 6, 7, 7, 5, 8, 4, 8, 9, 6, 7, 9, 9, 5, 11, 8, 9, 6, 6, 6, 9, 3, 8, 4, 7, 12, 5, 5, 4, 10, 5, 3, 3, 3, 8, 8, 9, 4, 5, 5, 7, 4, 9, 9, 3, 7, 2, 3, 11, 2, 12, 2, 7, 4, 4, 6, 8, 4, 7, 7, 7, 5, 10, 6, 5, 5, 9, 4, 9, 3, 8, 8, 2, 8, 7, 6, 4, 9, 3, 7, 3, 9, 5, 10, 3, 9, 7, 9, 3, 7, 3, 4, 10, 7, 6, 4, 8, 7, 7, 6, 5, 9, 9, 6, 11, 8, 6, 9, 5, 11, 11, 9, 11, 8, 12, 5, 4, 7, 9, 12, 4, 5, 10, 12, 9, 7, 6, 10, 5, 6, 7, 5, 9, 10, 3, 4, 6, 2, 5, 6, 8, 9, 7, 6, 6, 8, 5, 8, 6, 5, 7, 6, 9, 4, 6, 10, 9, 8, 5, 7, 10, 11, 10, 7, 7, 4, 8, 7, 7, 7, 11, 8, 6, 12, 3, 4, 6, 8, 5, 10, 11, 10, 10, 6, 7, 7, 5, 10, 5, 9, 11, 7, 8, 5, 7, 10, 12, 5, 7, 8, 7, 10, 10, 9, 12, 6, 4, 9, 8, 12, 10, 4, 4, 4, 7, 11, 7, 9, 10, 3, 10, 6, 8, 9, 8, 8, 8, 8, 10, 6, 5, 8, 7, 7, 11, 5, 11, 9, 8, 12, 6, 10, 4, 8, 11, 9, 8, 6, 10, 11, 5, 11, 7, 9, 8, 12, 8, 6, 12, 6, 3, 7, 2, 7, 5, 5, 9, 10, 2, 5, 8, 8, 11, 8, 6, 3, 12, 10, 8, 6, 8, 7, 5, 9, 10, 2, 10, 4, 2, 7, 5, 7, 7, 6, 9, 6, 5, 11, 5, 9, 8, 12, 6, 9, 6, 7, 7, 7, 9, 7, 10, 6, 5, 2, 9, 10, 9, 9, 3, 7, 6, 7, 4, 12, 7, 9, 11, 3, 10, 5, 5, 2, 11, 7, 8, 2, 4, 7, 7, 5, 7, 3, 9, 8, 5, 5, 6, 7, 10, 8, 8, 12, 8, 5, 9, 6, 9, 6, 8, 4, 5, 4, 8, 12, 12, 8, 12, 7, 4, 12, 7, 9, 6, 6, 9, 9, 5, 10, 3, 12, 6, 7, 5, 7, 6, 8, 5, 6, 5, 8, 4, 7, 6, 6, 5, 10, 3, 6, 10, 9, 9, 6, 12, 8, 4, 12, 9, 9, 11, 7, 9, 6, 8, 10, 8, 5, 6, 7, 9, 9, 5, 8, 10, 4, 5, 10, 6, 9, 5, 6, 6, 5, 5, 7, 2, 6, 9, 8, 10, 4, 10, 3, 3, 8, 9, 10, 8, 6, 7, 6, 5, 9, 8, 11, 11, 9, 12, 4, 6, 7, 9, 6, 8, 6, 5, 10, 11, 9, 4, 6, 8, 7, 10, 6, 7, 10, 12, 10, 8, 6, 8, 5, 8, 9, 5, 3, 12, 4, 7, 8, 9, 10, 10, 5, 11, 9, 6, 8, 9, 8, 8, 7, 11, 10, 7, 6, 9, 4, 6, 5, 7, 8, 4, 11, 7, 8, 2, 8, 8, 2, 11, 7, 9, 6, 6, 10, 10, 8, 10, 11, 3, 5, 5, 8, 5, 7, 4, 4, 9, 7, 8, 9, 6, 7, 2, 7, 9, 6, 5, 4, 4, 8, 7, 7, 8, 9, 5, 2, 6, 2, 3, 9, 9, 6, 4, 11, 5, 6, 7, 5, 5, 5, 7, 7, 10, 8, 2, 4, 7, 8, 7, 3, 10, 10, 7, 8, 6, 4, 4, 9, 9, 8, 8, 9, 7, 8, 10, 7, 3, 9, 8, 3, 8, 8, 5, 6, 5, 6, 3, 9, 5, 2, 12, 4, 5, 8, 9, 3, 7, 6, 6, 2, 4, 8, 11, 7, 10, 10, 7, 3, 6, 6, 10, 7, 8, 5, 5, 7, 2, 6, 6, 7, 9, 4, 7, 5, 11, 5, 7, 2, 7, 4, 7, 11, 6, 7, 8, 8, 11, 6, 8, 9, 7, 9, 12, 8, 9, 9, 7, 10, 6, 6, 6, 7, 9, 2, 2, 7, 4, 8, 5, 2, 6, 6, 7, 12, 5, 7, 4, 4, 6, 8, 8, 3, 5, 8, 4, 4, 9, 5, 9, 12, 8, 8, 10, 5, 7, 8, 5, 5, 4, 9, 6, 5, 8, 4, 4, 6, 7, 6, 10, 8, 12, 7, 10, 2, 6, 8, 8, 5, 7, 8, 5, 5, 2, 4, 7, 2, 9, 9, 11, 4, 8, 8, 2, 6, 5, 8, 9, 8, 5, 9, 6, 3, 8, 12, 9, 10, 6, 4, 7, 5, 4, 12, 7, 11, 8, 8, 9, 9, 8, 2, 8, 8, 6, 9, 7, 8, 3, 8, 6, 11, 3, 7, 9, 10, 2, 11, 3, 11, 6, 4, 8, 11, 4, 7, 7, 4, 6, 11, 10, 3, 6, 10, 4, 3, 6, 4, 5, 6, 6, 9, 11, 5, 7, 8, 5, 7, 10, 9, 9, 7, 4, 10, 2, 2, 2, 6, 5, 5, 6, 10, 2, 9, 3, 7, 10, 3, 6, 4, 7, 7, 10, 2, 9, 6, 5, 9, 5, 9, 2, 7, 4, 11, 4, 7, 11, 6, 10, 5, 8, 11, 11, 6, 8, 9, 8, 8, 9, 11, 9, 2, 11, 8, 7, 6, 7, 7, 9, 4, 8, 9, 5, 11, 9, 8, 3, 8, 8, 10, 8, 7, 11, 4, 9, 2, 8, 7, 5, 7, 8, 7, 12, 10, 9, 6, 4, 8, 12, 4, 5, 7, 11, 6, 7, 11, 10, 7, 4, 8, 5, 5, 6, 4, 7, 7, 10, 9, 5, 10, 5, 3, 7, 4, 7, 6, 8, 7, 4, 2, 7, 5, 4, 7, 8, 5, 3, 8, 11, 8, 5, 6, 11, 8, 6, 8, 6, 10, 7, 8, 9, 8, 5, 4, 4, 5, 9, 11, 6, 6, 4, 3, 7, 8, 7, 5, 4, 8, 9, 8, 8, 8, 3, 4, 7, 9, 9, 6, 10, 10, 12, 2, 8, 2, 7, 5, 8, 10, 10, 9, 4, 5, 11, 9, 8, 12, 6, 6, 10, 8, 7, 6, 5, 9, 9, 10, 8, 5, 6, 4, 12, 7, 7, 10, 4, 6, 7, 2, 9, 4, 6, 8, 6, 8, 5, 7, 10, 6, 10, 5, 3, 4, 6, 6, 5, 7, 10, 6, 8, 6, 4, 12, 4, 7, 11, 7, 8, 3, 3, 9, 7, 10, 9, 10, 4, 7, 10, 5, 7, 12, 11, 8, 11, 5, 4, 7, 8, 6, 8, 4, 12, 7, 5, 5, 8, 11, 5, 9, 11, 6, 7, 3, 7, 6, 8, 7, 8, 4, 6, 7, 3, 9, 3, 8, 9, 8, 5, 7, 8, 3, 3, 6, 4, 6, 3, 8, 11, 9, 10, 6, 8, 7, 6, 5, 11, 10, 7, 9, 6, 12, 5, 8, 7, 4, 7, 6, 9, 8, 6, 5, 11, 10, 4, 2, 12, 4, 6, 7, 10, 6, 8, 9, 8, 6, 9, 8, 9, 2, 7, 6, 5, 5, 10, 7, 6, 6, 8, 4, 9, 5, 5, 5, 10, 6, 6, 7, 8, 12, 5, 11, 9, 5, 9, 7, 9, 3, 9, 9, 8, 6, 6, 5, 7, 6, 9, 8, 7, 9, 6, 9, 5, 7, 8, 10, 7, 5, 10, 5, 10, 6, 6, 8, 9, 6, 6, 9, 6, 7, 12, 5, 7, 7, 6, 2, 2, 7, 9, 3, 7, 7, 7, 6, 4, 6, 12, 6, 4, 5, 8, 5, 9, 10, 11, 9, 7, 7, 7, 3, 8, 11, 8, 6, 2, 8, 6, 7, 3, 10, 4, 6, 6, 8, 5, 4, 7, 10, 9, 5, 6, 7, 3, 8, 5, 5, 9, 7, 12, 10, 7, 6, 10, 2, 7, 7, 7, 10, 3, 9, 5, 9, 3, 7, 6, 12, 4, 7, 6, 12, 9, 8, 6, 4, 10, 5, 4, 4, 5, 5, 10, 11, 10, 6, 3, 7, 10, 4, 6, 8, 4, 11, 6, 8, 7, 8, 7, 4, 8, 2, 8, 10, 10, 6, 11, 7, 8, 4, 3, 7, 9, 10, 5, 10, 5, 4, 8, 6, 5, 8, 9, 5, 4, 8, 8, 7, 5, 6, 7, 10, 7, 6, 4, 7, 10, 7, 6, 5, 8, 5, 8, 9, 6, 8, 9, 9, 9, 2, 7, 5, 4, 7, 11, 10, 2, 5, 7, 3, 10, 4, 7, 9, 8, 2, 7, 11, 7, 10, 3, 3, 7, 11, 10, 4, 5, 9, 11, 7, 9, 8, 5, 8, 8, 6, 9, 8, 5, 7, 8, 5, 3, 9, 3, 8, 8, 3, 6, 2, 8, 4, 7, 4, 5, 8, 6, 10, 3, 3, 5, 4, 7, 5, 5, 10, 10, 2, 9, 7, 8, 8, 7, 7, 11, 4, 7, 5, 8, 9, 7, 3, 7, 8, 9, 8, 3, 4, 2, 4, 11, 10, 5, 7, 9, 12, 10, 6, 8, 5, 10, 4, 10, 3, 4, 7, 5, 9, 6, 8, 5, 8, 3, 9, 9, 10, 5, 4, 3, 6, 11, 11, 10, 4, 8, 10, 7, 6, 7, 4, 7, 11, 5, 7, 5, 4, 4, 9, 6, 6, 7, 4, 8, 2, 5, 11, 5, 3, 5, 6, 9, 6, 4, 8, 5, 7, 10, 8, 12, 12, 9, 11, 6, 7, 8, 7, 4, 12, 9, 9, 5, 8, 5, 9, 3, 2, 5, 6, 5, 5, 12, 10, 12, 4, 5, 9, 8, 6, 6, 11, 5, 10, 3, 9, 2, 8, 8, 5, 12, 7, 8, 5, 12, 5, 4, 7, 12, 6, 8, 7, 5, 10, 4, 9, 9, 8, 9, 4, 7, 9, 8, 5, 6, 10, 3, 6, 9, 8, 10, 8, 11, 6, 7, 3, 4, 7, 7, 11, 6, 11, 5, 10, 11, 4, 9, 3, 10, 9, 6, 9, 5, 5, 9, 10, 6, 3, 5, 9, 2, 5, 6, 9, 6, 4, 6, 6, 3, 3, 6, 9, 7, 3, 7, 11, 6, 4, 6, 5, 11, 8, 9, 8, 5, 8, 8, 5, 8, 9, 6, 11, 7, 9, 11, 8, 5, 4, 11, 8, 11, 8, 8, 5, 5, 8, 4, 6, 5, 6, 4, 9, 6, 5, 9, 11, 8, 9, 9, 7, 9, 10, 10, 10, 7, 5, 4, 7, 10, 7, 9, 5, 5, 9, 10, 8, 9, 4, 8, 8, 9, 8, 3, 6, 6, 6, 9, 4, 9, 6, 8, 3, 7, 8, 7, 2, 2, 9, 8, 7, 8, 8, 4, 10, 2, 9, 10, 6, 4, 5, 6, 5, 5, 9, 7, 11, 7, 12, 9, 6, 9, 5, 10, 7, 2, 3, 7, 8, 3, 4, 8, 8, 6, 6, 9, 9, 8, 12, 9, 10, 3, 8, 2, 5, 8, 7, 8, 8, 9, 2, 7, 7, 6, 7, 10, 6, 7, 6, 3, 11, 6, 3, 8, 4, 8, 5, 6, 5, 7, 7, 3, 6, 8, 10, 7, 4, 9, 7, 6, 9, 4, 7, 5, 10, 10, 7, 6, 8, 10, 7, 6, 8, 6, 7, 5, 6, 9, 5, 6, 10, 9, 8, 9, 9, 4, 9, 7, 5, 8, 8, 10, 5, 9, 11, 5, 10, 8, 9, 7, 7, 9, 8, 8, 7, 3, 9, 7, 4, 5, 2, 6, 8, 11, 12, 4, 4, 10, 8, 6, 8, 9, 8, 8, 2, 5, 10, 11, 7, 2, 10, 4, 10, 5, 4, 4, 9, 4, 8, 6, 8, 6, 6, 9, 6, 11, 6, 8, 7, 6, 8, 8, 5, 4, 10, 4, 11, 12, 3, 7, 8, 9, 9, 9, 9, 8, 8, 8, 7, 8, 5, 7, 7, 5, 6, 9, 9, 7, 11, 8, 6, 2, 3, 11, 6, 6, 4, 8, 12, 8, 5, 7, 5, 10, 9, 3, 8, 7, 12, 7, 9, 3, 5, 7, 6, 5, 6, 9, 7, 8, 2, 10, 8, 5, 12, 4, 8, 6, 10, 4, 7, 9, 9, 10, 8, 9, 6, 8, 7, 7, 5, 9, 7, 5, 5, 5, 6, 7, 12, 4, 6, 8, 5, 7, 11, 6, 9, 11, 7, 7, 8, 8, 8, 6, 2, 7, 6, 7, 9, 3, 8, 8, 9, 7, 5, 11, 6, 8, 7, 11, 7, 5, 3, 7, 5, 6, 9, 11, 10, 5, 11, 7, 8, 4, 7, 10, 7, 5, 10, 10, 9, 5, 8, 5, 10, 9, 8, 9, 9, 7, 3, 2, 8, 9, 5, 8, 9, 10, 6, 8, 6, 12, 11, 5, 2, 3, 5, 6, 10, 6, 9, 6, 12, 4, 6, 11, 8, 7, 7, 4, 9, 5, 6, 7, 2, 2, 7, 9, 4, 7, 8, 5, 10, 8, 9, 9, 5, 7, 5, 4, 5, 10, 10, 11, 9, 11, 6, 11, 7, 9, 8, 8, 5, 10, 5, 6, 10, 10, 5, 8, 9, 7, 5, 4, 7, 5, 7, 7, 6, 11, 9, 6, 5, 6, 7, 9, 5, 5, 12, 5, 8, 9, 11, 4, 6, 12, 9, 6, 7, 8, 7, 9, 5, 6, 9, 9, 10, 9, 4, 8, 9, 6, 8, 11, 8, 10, 9, 10, 5, 8, 7, 12, 4, 11, 4, 7, 7, 7, 8, 3, 8, 9, 5, 3, 8, 7, 7, 8, 6, 8, 6, 7, 2, 10, 12, 6, 6, 9, 10, 12, 6, 5, 9, 8, 8, 6, 5, 8, 5, 10, 6, 4, 8, 7, 8, 2, 7, 10, 6, 6, 11, 5, 7, 6, 6, 11, 5, 6, 7, 10, 8, 6, 7, 8, 10, 2, 3, 9, 8, 5, 8, 8, 10, 8, 7, 9, 7, 6, 10, 7, 8, 6, 8, 5, 9, 12, 5, 7, 6, 4, 5, 8, 6, 7, 7, 5, 7, 3, 10, 7, 5, 10, 12, 8, 10, 7, 6, 5, 4, 5, 12, 5, 6, 11, 12, 7, 4, 3, 3, 5, 5, 6, 7, 8, 8, 2, 6, 10, 6, 10, 10, 7, 4, 12, 3, 5, 11, 6, 7, 12, 5, 6, 8, 4, 7, 7, 5, 8, 9, 4, 4, 6, 10, 4, 3, 10, 9, 5, 11, 8, 12, 9, 6, 11, 6, 4, 7, 7, 11, 8, 4, 7, 9, 6, 10, 5, 7, 6, 12, 5, 11, 7, 9, 7, 4, 10, 8, 7, 8, 8, 4, 2, 10, 12, 5, 7, 12, 7, 7, 7, 4, 8, 7, 4, 9, 12, 8, 9, 9, 9, 6, 6, 7, 5, 3, 5, 4, 8, 6, 8, 9, 7, 2, 11, 6, 10, 8, 3, 8, 5, 8, 3, 12, 5, 10, 8, 7, 9, 7, 9, 7, 6, 5, 7, 5, 9, 4, 6, 9, 7, 9, 9, 10, 9, 4, 10, 9, 9, 7, 5, 6, 5, 7, 12, 7, 8, 6, 10, 9, 8, 8, 9, 2, 6, 4, 9, 8, 4, 11, 5, 7, 6, 2, 9, 7, 7, 4, 12, 9, 9, 6, 9, 9, 4, 8, 7, 7, 8, 5, 5, 3, 8, 2, 7, 9, 3, 11, 4, 6, 4, 5, 3, 2, 8, 8, 10, 8, 4, 5, 5, 2, 2, 7, 7, 6, 3, 8, 6, 7, 4, 9, 8, 7, 6, 11, 6, 6, 5, 4, 10, 3, 7, 8, 9, 5, 8, 7, 8, 7, 7, 6, 7, 5, 6, 6, 2, 7, 5, 8, 6, 6, 2, 7, 6, 3, 2, 4, 7, 9, 10, 8, 5, 7, 7, 12, 9, 9, 7, 7, 7, 3, 4, 5, 4, 11, 5, 4, 5, 9, 5, 7, 6, 10, 10, 4, 4, 8, 3, 7, 5, 12, 7, 9, 7, 6, 8, 3, 3, 4, 9, 7, 11, 8, 3, 6, 10, 9, 8, 3, 7, 7, 8, 10, 6, 6, 10, 5, 4, 4, 8, 11, 11, 6, 10, 8, 7, 3, 6, 3, 7, 11, 8, 7, 11, 7, 7, 11, 10, 3, 7, 4, 11, 5, 12, 10, 8, 7, 3, 11, 2, 9, 3, 10, 3, 8, 6, 6, 10, 7, 5, 5, 7, 7, 10, 8, 8, 3, 4, 5, 5, 7, 6, 10, 4, 7, 11, 3, 8, 4, 5, 10, 9, 4, 6, 7, 11, 3, 7, 9, 9, 9, 7, 9, 10, 5, 2, 7, 4, 6, 7, 7, 11, 2, 4, 5, 6, 11, 3, 3, 3, 12, 7, 9, 9, 10, 8, 6, 2, 12, 10, 7, 5, 4, 8, 6, 6, 9, 6, 8, 7, 7, 9, 5, 10, 8, 7, 7, 5, 6, 4, 7, 3, 4, 10, 7, 3, 10, 4, 3, 8, 10, 5, 9, 6, 5, 7, 6, 10, 7, 5, 6, 5, 9, 7, 6, 5, 6, 6, 9, 9, 7, 11, 6, 6, 4, 10, 2, 7, 10, 3, 6, 8, 5, 3, 7, 11, 11, 8, 3, 6, 5, 7, 8, 4, 7, 5, 8, 7, 7, 10, 6, 7, 10, 3, 7, 3, 6, 3, 7, 5, 7, 7, 5, 2, 8, 9, 6, 10, 6, 11, 10, 6, 11, 7, 7, 5, 12, 8, 7, 6, 4, 4, 7, 5, 7, 7, 7, 8, 7, 3, 2, 3, 9, 6, 5, 8, 8, 4, 4, 5, 6, 6, 6, 6, 6, 7, 6, 4, 4, 5, 7, 6, 6, 11, 5, 10, 3, 6, 10, 5, 6, 9, 10, 9, 8, 8, 6, 11, 7, 6, 10, 9, 7, 12, 4, 3, 9, 6, 8, 5, 11, 9, 7, 6, 8, 12, 10, 5, 7, 11, 7, 8, 7, 7, 11, 6, 8, 8, 3, 5, 8, 6, 5, 10, 9, 7, 9, 10, 4, 4, 9, 4, 5, 9, 6, 7, 10, 4, 9, 7, 6, 10, 7, 10, 8, 8, 7, 7, 5, 5, 4, 11, 8, 4, 6, 11, 5, 5, 9, 6, 6, 5, 5, 9, 7, 10, 5, 5, 6, 7, 8, 7, 6, 6, 3, 8, 8, 5, 4, 4, 7, 8, 4, 6, 11, 11, 9, 5, 2, 5, 9, 4, 7, 5, 6, 5, 10, 9, 3, 6, 7, 8, 6, 11, 11, 11, 10, 6, 7, 7, 9, 8, 2, 7, 8, 11, 8, 12, 7, 5, 10, 7, 12, 9, 7, 8, 8, 8, 4, 8, 7, 6, 6, 9, 4, 7, 11, 8, 3, 10, 6, 4, 8, 10, 6, 8, 5, 7, 6, 8, 8, 6, 6, 5, 2, 7, 10, 8, 6, 3, 3, 8, 4, 4, 6, 3, 11, 8, 6, 10, 2, 8, 10, 7, 10, 5, 2, 6, 8, 3, 8, 8, 4, 11, 4, 5, 6, 8, 8, 8, 9, 7, 7, 8, 4, 6, 6, 11, 9, 10, 7, 2, 6, 11, 6, 5, 9, 8, 7, 9, 8, 10, 6, 9, 8, 5, 9, 10, 10, 8, 10, 4, 8, 8, 4, 6, 10, 10, 7, 10, 8, 8, 6, 9, 11, 4, 7, 7, 8, 4, 2, 6, 8, 6, 8, 7, 4, 4, 5, 5, 7, 5, 8, 2, 3, 7, 9, 4, 7, 10, 9, 7, 11, 10, 4, 6, 9, 10, 4, 6, 10, 5, 11, 4, 5, 4, 10, 8, 8, 11, 8, 4, 6, 11, 8, 11, 9, 7, 7, 4, 5, 7, 8, 10, 7, 4, 8, 9, 9, 5, 6, 4, 10, 7, 6, 6, 3, 4, 9, 8, 7, 9, 7, 9, 5, 6, 7, 7, 9, 7, 7, 6, 7, 5, 5, 5, 6, 9, 8, 10, 3, 8, 6, 6, 6, 7, 8, 9, 6, 7, 6, 5, 6, 6, 5, 4, 2, 6, 10, 4, 8, 7, 4, 10, 3, 12, 6, 11, 9, 7, 11, 7, 3, 7, 3, 6, 6, 7, 8, 12, 7, 4, 10, 8, 7, 6, 8, 7, 11, 9, 6, 7, 11, 7, 6, 9, 10, 5, 9, 8, 5, 6, 5, 4, 4, 11, 5, 7, 6, 11, 3, 7, 6, 7, 7, 6, 4, 4, 7, 7, 7, 6, 7, 11, 3, 8, 8, 12, 3, 11, 6, 7, 4, 7, 6, 7, 8, 8, 5, 6, 4, 10, 7, 5, 11, 6, 6, 8, 3, 6, 9, 6, 12, 9, 4, 5, 3, 9, 3, 11, 4, 10, 8, 8, 8, 11, 11, 11, 7, 8, 8, 11, 7, 6, 7, 7, 11, 3, 5, 11, 6, 5, 8, 6, 3, 2, 3, 7, 5, 3, 9, 8, 11, 9, 6, 4, 7, 7, 11, 6, 8, 9, 5, 7, 11, 9, 3, 6, 7, 5, 7, 5, 5, 5, 10, 8, 9, 4, 5, 9, 9, 6, 8, 4, 5, 9, 3, 8, 9, 7, 11, 8, 4, 3, 6, 8, 6, 8, 8, 10, 4, 8, 4, 9, 8, 11, 12, 8, 11, 6, 7, 4, 5, 6, 9, 6, 9, 12, 11, 10, 8, 7, 5, 6, 8, 10, 6, 8, 12, 9, 7, 6, 8, 5, 11, 11, 4, 6, 8, 5, 7, 8, 5, 10, 10, 6, 8, 10, 4, 10, 4, 11, 3, 9, 4, 10, 9, 4, 8, 5, 11, 6, 8, 7, 5, 8, 6, 10, 6, 6, 6, 9, 11, 11, 12, 8, 7, 8, 7, 4, 12, 4, 8, 6, 4, 9, 11, 9, 11, 7, 7, 5, 3, 3, 3, 6, 5, 6, 3, 10, 8, 7, 4, 4, 9, 11, 10, 6, 9, 8, 9, 6, 4, 3, 7, 8, 12, 7, 7, 9, 10, 5, 11, 5, 6, 8, 9, 3, 4, 9, 3, 12, 5, 5, 7, 8, 4, 7, 6, 7, 8, 8, 4, 5, 8, 6, 8, 3, 2, 3, 4, 7, 6, 3, 7, 11, 9, 9, 6, 6, 8, 9, 8, 4, 8, 11, 6, 10, 6, 3, 8, 8, 9, 7, 6, 6, 8, 5, 4, 7, 8, 8, 4, 7, 7, 7, 6, 12, 4, 7, 10, 4, 4, 6, 6, 5, 4, 6, 6, 6, 3, 6, 8, 7, 9, 3, 9, 3, 6, 10, 7, 2, 7, 4, 8, 5, 12, 11, 7, 8, 11, 9, 6, 7, 8, 8, 7, 12, 9, 10, 10, 8, 8, 9, 3, 4, 9, 9, 10, 4, 10, 7, 3, 8, 3, 4, 7, 8, 6, 7, 8, 11, 10, 2, 6, 8, 11, 9, 3, 5, 7, 5, 6, 12, 5, 5, 7, 8, 9, 5, 6, 11, 6, 5, 10, 8, 10, 12, 9, 8, 9, 6, 7, 7, 7, 6, 7, 8, 8, 8, 6, 9, 4, 3, 7, 4, 4, 4, 11, 7, 7, 8, 11, 6, 8, 7, 8, 7, 4, 8, 8, 7, 8, 7, 6, 9, 2, 12, 7, 7, 8, 7, 2, 8, 4, 6, 5, 8, 10, 4, 6, 8, 8, 11, 7, 9, 8, 12, 7, 7, 6, 11, 11, 10, 7, 10, 10, 7, 9, 9, 7, 10, 6, 10, 7, 7, 7, 4, 4, 5, 7, 9, 7, 7, 8, 3, 8, 5, 9, 9, 10, 11, 5, 8, 4, 6, 5, 4, 11, 3, 5, 10, 6, 4, 9, 10, 6, 6, 3, 8, 7, 5, 5, 2, 5, 5, 7, 11, 6, 4, 7, 9, 6, 2, 10, 3, 9, 7, 7, 4, 11, 9, 10, 11, 10, 4, 7, 7, 7, 5, 10, 4, 6, 6, 5, 8, 3, 7, 4, 8, 5, 10, 9, 4, 9, 8, 10, 6, 8, 10, 8, 5, 5, 6, 9, 7, 5, 6, 2, 6, 9, 9, 3, 5, 6, 3, 10, 9, 8, 4, 5, 7, 10, 5, 10, 10, 8, 4, 3, 3, 7, 7, 7, 8, 6, 7, 4, 9, 8, 5, 4, 7, 4, 4, 8, 9, 7, 8, 5, 11, 5, 11, 8, 4, 8, 7, 11, 4, 2, 10, 9, 6, 10, 11, 8, 6, 10, 10, 8, 6, 9, 4, 8, 4, 9, 9, 10, 5, 7, 12, 7, 7, 8, 6, 7, 8, 4, 9, 5, 9, 5, 12, 3, 9, 12, 8, 6, 5, 12, 8, 10, 7, 4, 7, 7, 4, 2, 9, 6, 10, 10, 4, 4, 8, 6, 5, 8, 10, 7, 9, 10, 5, 7, 6, 8, 10, 6, 5, 3, 4, 7, 7, 8, 8, 7, 6, 8, 4, 7, 9, 4, 3, 5, 10, 7, 7, 5, 2, 4, 9, 12, 4, 8, 11, 5, 6, 11, 6, 11, 2, 6, 7, 11, 8, 12, 8, 3, 7, 12, 7, 2, 7, 8, 8, 7, 5, 12, 8, 7, 9, 8, 10, 8, 10, 6, 7, 3, 11, 12, 11, 4, 7, 11, 8, 4, 3, 4, 6, 8, 6, 5, 9, 5, 8, 11, 9, 5, 7, 3, 11, 7, 8, 5, 3, 7, 4, 8, 4, 3, 8, 7, 10, 7, 5, 6, 7, 10, 9, 6, 11, 8, 7, 8, 6, 7, 8, 12, 2, 4, 9, 9, 12, 5, 8, 8, 4, 8, 4, 6, 6, 7, 9, 7, 3, 8, 9, 8, 6, 8, 12, 10, 10, 4, 7, 4, 11, 10, 12, 12, 6, 6, 6, 4, 3, 8, 6, 8, 5, 9, 11, 9, 8, 6, 6, 11, 8, 7, 9, 3, 9, 6, 7, 6, 7, 7, 9, 8, 9, 4, 8, 4, 6, 6, 6, 8, 9, 4, 6, 4, 10, 12, 6, 9, 11, 8, 9, 8, 6, 9, 11, 6, 3, 10, 9, 7, 4, 12, 7, 8, 3, 11, 6, 4, 6, 8, 6, 8, 4, 7, 8, 7, 11, 5, 6, 4, 7, 4, 9, 7, 6, 8, 8, 5, 4, 8, 9, 6, 9, 5, 6, 8, 11, 10, 10, 4, 7, 8, 4, 8, 2, 5, 7, 5, 8, 6, 8, 11, 7, 6, 8, 7, 10, 6, 6, 2, 5, 3, 12, 5, 4, 6, 8, 10, 6, 3, 7, 9, 3, 12, 5, 10, 5, 8, 11, 9, 4, 7, 7, 10, 7, 8, 6, 4, 10, 8, 7, 8, 4, 8, 8, 8, 6, 11, 9, 6, 11, 8, 8, 5, 8, 9, 8, 6, 12, 4, 5, 8, 6, 8, 6, 8, 3, 7, 11, 6, 9, 6, 11, 3, 11, 8, 8, 6, 7, 7, 9, 9, 7, 12, 6, 9, 8, 5, 6, 9, 6, 7, 5, 7, 6, 11, 6, 6, 11, 3, 6, 5, 9, 6, 8, 5, 9, 9, 6, 7, 5, 7, 5, 10, 8, 8, 5, 3, 11, 5, 7, 9, 11, 5, 8, 5, 8, 8, 5, 8, 8, 6, 2, 5, 5, 6, 7, 4, 8, 10, 7, 4, 3, 5, 9, 9, 5, 5, 6, 3, 10, 8, 5, 12, 6, 8, 7, 6, 11, 5, 5, 11, 6, 6, 8, 9, 8, 4, 4, 11, 6, 7, 7, 5, 10, 3, 8, 8, 5, 10, 8, 12, 12, 5, 7, 7, 8, 9, 8, 2, 8, 9, 11, 7, 9, 8, 8, 9, 7, 7, 8, 7, 7, 5, 9, 9, 10, 6, 11, 8, 8, 3, 6, 7, 10, 10, 5, 3, 9, 7, 3, 4, 5, 7, 5, 4, 7, 7, 4, 7, 5, 5, 4, 8, 5, 11, 8, 7, 10, 5, 10, 2, 8, 11, 6, 9, 7, 4, 5, 7, 6, 7, 7, 8, 4, 7, 9, 8, 10, 8, 12, 6, 6, 7, 9, 12, 5, 4, 4, 6, 2, 10, 11, 10, 11, 4, 7, 7, 5, 8, 7, 7, 9, 5, 7, 9, 7, 7, 10, 8, 9, 7, 6, 9, 8, 8, 9, 9, 7, 6, 5, 11, 5, 8, 8, 5, 4, 7, 9, 11, 6, 4, 11, 6, 8, 5, 8, 8, 9, 9, 6, 2, 7, 4, 4, 5, 8, 10, 7, 9, 11, 10, 7, 6, 12, 6, 7, 8, 12, 9, 4, 7, 7, 5, 6, 11, 6, 7, 7, 5, 4, 7, 9, 6, 12, 5, 9, 7, 6, 11, 9, 3, 4, 8, 10, 7, 10, 12, 5, 7, 4, 6, 5, 4, 10, 6, 11, 7, 8, 8, 5, 3, 5, 6, 7, 6, 6, 8, 4, 3, 9, 7, 6, 4, 10, 4, 9, 11, 10, 5, 5, 9, 7, 10, 8, 7, 8, 5, 11, 2, 6, 7, 6, 6, 10, 4, 8, 4, 4, 11, 10, 6, 4, 4, 8, 8, 4, 5, 7, 8, 7, 7, 8, 3, 7, 10, 10, 2, 8, 7, 5, 11, 7, 5, 10, 7, 4, 10, 5, 10, 11, 9, 10, 6, 5, 9, 11, 5, 12, 8, 7, 9, 5, 7, 8, 10, 10, 10, 5, 3, 10, 9, 11, 10, 5, 9, 3, 8, 9, 12, 8, 4, 11, 7, 3, 8, 4, 5, 9, 4, 5, 8, 9, 6, 10, 9, 5, 9, 7, 7, 5, 5, 8, 5, 9, 7, 7, 12, 6, 2, 5, 9, 7, 5, 11, 7, 11, 11, 5, 9, 11, 8, 8, 6, 10, 8, 7, 9, 10, 8, 6, 11, 5, 10, 6, 9, 9, 8, 8, 7, 9, 8, 7, 7, 3, 8, 10, 7, 6, 7, 6, 10, 8, 10, 9, 11, 9, 5, 6, 6, 6, 10, 9, 7, 7, 8, 8, 8, 8, 6, 11, 6, 5, 4, 12, 10, 7, 7, 8, 8, 9, 4, 5, 12, 6, 3, 8, 6, 6, 10, 9, 5, 5, 9, 2, 4, 9, 8, 6, 7, 4, 5, 8, 12, 10, 8, 4, 6, 9, 6, 6, 7, 3, 9, 10, 8, 5, 9, 4, 4, 7, 10, 5, 12, 7, 6, 6, 11, 8, 7, 4, 11, 8, 6, 10, 6, 6, 9, 12, 10, 10, 6, 6, 8, 10, 8, 6, 6, 7, 5, 9, 10, 7, 8, 5, 6, 3, 3, 10, 2, 7, 3, 2, 6, 5, 6, 4, 6, 7, 7, 9, 10, 11, 10, 8, 9, 8, 6, 10, 6, 9, 2, 9, 7, 7, 7, 2, 7, 7, 4, 10, 7, 7, 5, 2, 5, 2, 6, 4, 10, 8, 11, 9, 4, 8, 7, 7, 6, 12, 4, 7, 8, 5, 5, 6, 7, 3, 11, 7, 8, 9, 5, 10, 7, 2, 11, 4, 8, 3, 6, 4, 7, 7, 9, 4, 9, 5, 4, 6, 6, 10, 8, 9, 5, 8, 11, 10, 4, 7, 4, 5, 10, 9, 6, 4, 7, 8, 6, 5, 4, 4, 8, 5, 5, 8, 8, 6, 4, 5, 11, 7, 5, 5, 6, 4, 10, 4, 6, 8, 6, 9, 8, 6, 10, 10, 10, 10, 7, 4, 9, 9, 8, 10, 7, 7, 9, 11, 8, 4, 7, 9, 3, 7, 9, 8, 8, 9, 7, 8, 7, 10, 10, 11, 6, 11, 10, 11, 6, 9, 5, 5, 9, 5, 7, 6, 2, 8, 10, 7, 8, 4, 7, 5, 8, 5, 7, 9, 5, 6, 7, 6, 8, 8, 8, 6, 4, 3, 6, 5, 6, 8, 9, 3, 9, 3, 9, 6, 8, 6, 8, 7, 4, 10, 7, 7, 5, 7, 8, 10, 8, 5, 9, 12, 7, 6, 6, 5, 11, 5, 7, 7, 9, 4, 9, 8, 12, 4, 8, 6, 6, 10, 8, 11, 6, 9, 5, 5, 4, 6, 2, 10, 6, 8, 3, 8, 7, 11, 7, 3, 8, 9, 6, 6, 5, 4, 8, 5, 5, 7, 8, 7, 12, 11, 12, 11, 7, 7, 6, 8, 7, 11, 8, 7, 8, 5, 3, 10, 9, 7, 7, 8, 5, 7, 5, 10, 5, 9, 6, 5, 9, 7, 6, 6, 4, 7, 9, 9, 9, 7, 6, 4, 5, 2, 6, 7, 4, 10, 5, 12, 6, 9, 7, 7, 2, 4, 6, 7, 8, 9, 6, 6, 5, 7, 6, 8, 8, 7, 9, 6, 8, 7, 12, 9, 7, 3, 4, 8, 8, 5, 8, 7, 6, 4, 9, 10, 8, 6, 6, 4, 8, 5, 11, 8, 10, 7, 6, 5, 3, 10, 6, 10, 10, 11, 9, 6, 8, 4, 2, 5, 6, 8, 6, 8, 7, 6, 8, 3, 10, 7, 11, 3, 7, 12, 9, 11, 8, 11, 4, 4, 9, 8, 11, 11, 10, 7, 9, 6, 5, 8, 9, 8, 7, 12, 11, 9, 8, 3, 6, 10, 9, 10, 9, 2, 8, 6, 6, 7, 7, 8, 10, 7, 11, 11, 8, 9, 7, 2, 8, 9, 6, 8, 10, 6, 10, 8, 2, 9, 11, 6, 7, 5, 10, 10, 7, 8, 12, 4, 8, 7, 8, 6, 10, 7, 5, 7, 11, 5, 7, 6, 9, 7, 8, 2, 9, 8, 8, 3, 8, 10, 9, 8, 9, 11, 9, 9, 8, 10, 3, 4, 10, 6, 9, 9, 5, 4, 9, 8, 9, 5, 6, 8, 4, 7, 6, 3, 10, 2, 6, 4, 6, 7, 10, 6, 11, 7, 2, 7, 9, 5, 3, 2, 11, 9, 5, 12, 3, 5, 9, 6, 7, 5, 10, 12, 7, 4, 7, 8, 9, 6, 4, 7, 4, 7, 9, 4, 6, 5, 8, 7, 8, 4, 7, 10, 7, 7, 10, 4, 8, 8, 10, 8, 6, 5, 7, 4, 7, 7, 8, 8, 7, 12, 6, 10, 5, 4, 3, 7, 7, 5, 8, 6, 7, 7, 3, 4, 4, 8, 11, 9, 10, 6, 8, 4, 6, 3, 10, 8, 9, 5, 10, 8, 3, 5, 5, 9, 8, 7, 8, 6, 8, 9, 5, 5, 7, 7, 4, 8, 8, 7, 7, 6, 9, 6, 2, 11, 6, 10, 2, 9, 9, 6, 9, 9, 9, 9, 10, 5, 7, 7, 6, 5, 6, 11, 5, 8, 7, 8, 7, 10, 6, 9, 5, 10, 11, 5, 9, 7, 10, 8, 5, 2, 8, 12, 4, 3, 10, 12, 6, 11, 4, 7, 5, 2, 4, 6, 6, 6, 6, 10, 3, 7, 3, 7, 6, 7, 4, 8, 7, 12, 8, 9, 8, 12, 3, 4, 6, 7, 8, 10, 3, 12, 9, 9, 9, 2, 4, 5, 6, 10, 10, 8, 7, 10, 6, 9, 10, 10, 9, 10, 4, 7, 8, 5, 8, 4, 8, 7, 5, 3, 4, 11, 7, 5, 6, 7, 3, 9, 9, 9, 11, 7, 8, 5, 6, 6, 9, 8, 3, 7, 8, 8, 6, 6, 7, 6, 7, 7, 3, 7, 9, 12, 2, 7, 5, 6, 10, 3, 10, 9, 6, 8, 9, 7, 6, 5, 10, 4, 3, 8, 7, 8, 4, 4, 7, 3, 6, 8, 6, 7, 8, 2, 8, 5, 10, 7, 8, 4, 7, 5, 7, 4, 4, 8, 3, 5, 5, 7, 8, 5, 12, 7, 9, 10, 3, 5, 5, 2, 4, 10, 7, 4, 12, 12, 3, 7, 4, 11, 4, 7, 11, 9, 8, 7, 5, 11, 7, 11, 9, 10, 4, 10, 8, 2, 3, 9, 7, 9, 7, 8, 8, 10, 8, 11, 6, 7, 3, 7, 2, 4, 10, 7, 4, 8, 11, 7, 9, 8, 9, 11, 7, 11, 10, 5, 3, 8, 4, 12, 8, 6, 4, 10, 6, 9, 8, 5, 7, 5, 3, 7, 7, 6, 9, 12, 5, 8, 11, 4, 9, 8, 2, 6, 5, 10, 10, 2, 8, 9, 3, 5, 3, 4, 4, 7, 9, 6, 2, 11, 6, 11, 7, 9, 11, 5, 11, 8, 5, 5, 9, 8, 7, 10, 5, 9, 8, 6, 5, 9, 4, 8, 4, 8, 9, 5, 6, 12, 11, 11, 12, 5, 7, 8, 6, 9, 6, 8, 6, 9, 5, 11, 5, 7, 4, 7, 10, 8, 6, 7, 10, 6, 9, 4, 10, 6, 11, 3, 6, 7, 8, 12, 5, 12, 12, 4, 8, 10, 7, 4, 3, 9, 12, 7, 4, 8, 11, 5, 6, 6, 8, 9, 5, 8, 9, 12, 8, 8, 9, 4, 6, 9, 9, 9, 4, 7, 7, 7, 2, 9, 10, 4, 9, 10, 6, 5, 8, 8, 9, 6, 9, 7, 12, 8, 7, 8, 6, 9, 4, 9, 4, 4, 7, 6, 5, 11, 6, 10, 4, 8, 12, 8, 7, 7, 3, 3, 9, 12, 5, 5, 3, 3, 9, 9, 7, 6, 9, 4, 6, 4, 8, 10, 5, 5, 10, 5, 8, 7, 6, 12, 6, 10, 9, 4, 9, 7, 3, 4, 7, 6, 6, 9, 5, 8, 7, 9, 10, 9, 6, 8, 9, 8, 11, 10, 10, 4, 7, 10, 3, 5, 9, 5, 6, 7, 8, 7, 12, 9, 7, 9, 7, 6, 5, 9, 6, 8, 7, 6, 7, 4, 4, 7, 11, 11, 10, 6, 6, 7, 11, 6, 7, 8, 8, 10, 8, 8, 11, 6, 6, 3, 10, 3, 2, 6, 5, 4, 3, 8, 6, 8, 4, 3, 5, 4, 3, 5, 5, 5, 5, 7, 8, 6, 5, 7, 7, 7, 7, 9, 12, 8, 9, 7, 7, 7, 6, 10, 5, 4, 5, 3, 8, 8, 3, 2, 7, 7, 7, 7, 9, 7, 4, 11, 3, 10, 10, 7, 11, 9, 7, 11, 4, 11, 5, 8, 5, 6, 3, 6, 12, 4, 5, 10, 11, 6, 8, 3, 8, 8, 5, 3, 6, 12, 3, 10, 9, 8, 12, 10, 6, 8, 10, 9, 10, 5, 7, 12, 10, 11, 6, 3, 8, 8, 4, 6, 3, 10, 4, 3, 6, 12, 3, 5, 7, 7, 4, 8, 9, 7, 8, 11, 5, 8, 7, 8, 7, 8, 9, 10, 9, 6, 8, 5, 7, 9, 9, 6, 11, 2, 10, 7, 11, 6, 5, 3, 7, 8, 9, 5, 6, 8, 5, 6, 10, 5, 6, 6, 3, 8, 8, 5, 9, 3, 8, 12, 11, 6, 6, 10, 5, 4, 6, 10, 6, 12, 7, 3, 6, 5, 10, 7, 8, 5, 3, 6, 10, 8, 4, 5, 9, 12, 5, 8, 6, 6, 8, 6, 6, 7, 6, 6, 7, 9, 6, 5, 6, 10, 5, 6, 5, 3, 8, 6, 8, 4, 11, 9, 2, 6, 11, 6, 5, 7, 5, 7, 7, 5, 6, 7, 3, 7, 5, 2, 2, 4, 6, 9, 10, 9, 7, 10, 5, 8, 5, 5, 7, 4, 5, 9, 11, 7, 7, 12, 5, 3, 9, 7, 5, 6, 12, 7, 6, 6, 8, 8, 11, 8, 6, 7, 3, 5, 10, 7, 4, 2, 8, 12, 9, 8, 6, 7, 9, 6, 8, 4, 6, 10, 5, 8, 9, 7, 12, 12, 4, 8, 6, 10, 10, 7, 5, 8, 7, 9, 7, 10, 9, 9, 11, 10, 6, 6, 6, 4, 5, 10, 9, 6, 4, 6, 6, 9, 4, 12, 7, 5, 7, 11, 8, 5, 3, 8, 12, 4, 6, 5, 5, 7, 9, 6, 7, 10, 11, 8, 9, 5, 8, 5, 6, 11, 7, 8, 10, 9, 2, 6, 7, 7, 8, 2, 4, 9, 7, 6, 10, 9, 10, 9, 10, 5, 6, 5, 9, 11, 7, 2, 6, 5, 5, 7, 6, 9, 10, 4, 7, 8, 3, 9, 3, 4, 12, 8, 8, 6, 9, 5, 8, 4, 7, 5, 7, 9, 6, 10, 6, 6, 7, 4, 5, 7, 10, 5, 6, 4, 8, 7, 3, 9, 6, 8, 11, 9, 7, 5, 11, 2, 8, 5, 9, 5, 8, 4, 7, 10, 12, 8, 3, 5, 7, 6, 9, 10, 5, 9, 5, 6, 2, 9, 7, 9, 8, 6, 8, 10, 11, 9, 9, 10, 5, 8, 6, 4, 7, 4, 5, 9, 10, 3, 6, 9, 8, 9, 8, 4, 7, 4, 6, 6, 10, 7, 5, 8, 12, 5, 5, 7, 8, 10, 9, 11, 10, 9, 7, 7, 6, 9, 6, 9, 6, 5, 7, 12, 3, 7, 9, 3, 3, 5, 11, 7, 6, 6, 8, 3, 6, 9, 9, 6, 5, 4, 6, 7, 7, 8, 9, 2, 8, 8, 2, 6, 8, 8, 10, 4, 10, 9, 3, 11, 10, 7, 7, 9, 5, 7, 10, 3, 5, 9, 4, 9, 7, 10, 10, 6, 7, 6, 10, 11, 4, 3, 4, 4, 9, 7, 4, 8, 4, 7, 4, 4, 8, 7, 8, 11, 7, 9, 8, 5, 9, 8, 8, 6, 9, 5, 11, 7, 8, 4, 9, 7, 5, 3, 5, 7, 6, 7, 9, 7, 4, 6, 7, 7, 12, 10, 11, 3, 7, 10, 6, 8, 4, 4, 4, 10, 4, 7, 4, 6, 7, 9, 8, 3, 2, 2, 10, 7, 5, 9, 6, 8, 9, 5, 9, 7, 7, 5, 10, 10, 6, 9, 6, 11, 4, 3, 7, 8, 7, 7, 9, 7, 11, 2, 11, 4, 12, 5, 6, 7, 11, 5, 10, 12, 9, 6, 4, 8, 10, 11, 8, 2, 10, 4, 9, 7, 4, 7, 8, 7, 6, 6, 3, 6, 5, 9, 6, 5, 5, 8, 7, 2, 9, 10, 6, 5, 6, 6, 8, 7, 7, 7, 10, 7, 9, 7, 7, 7, 5, 8, 8, 7, 9, 7, 10, 8, 7, 4, 11, 9, 3, 11, 8, 5, 6, 4, 6, 10, 7, 10, 3, 5, 11, 6, 12, 6, 7, 9, 9, 7, 8, 8, 4, 4, 8, 5, 4, 5, 3, 6, 7, 7, 11, 7, 7, 10, 5, 3, 5, 7, 6, 8, 7, 3, 9, 8, 8, 7, 10, 5, 6, 8, 2, 8, 7, 2, 8, 6, 10, 7, 7, 4, 7, 9, 8, 9, 10, 2, 5, 7, 9, 4, 7, 6, 7, 5, 7, 8, 7, 8, 7, 7, 5, 8, 9, 7, 7, 8, 3, 7, 4, 4, 4, 5, 10, 11, 4, 5, 10, 8, 8, 7, 6, 2, 9, 5, 7, 6, 12, 8, 3, 12, 9, 8, 5, 7, 3, 8, 3, 8, 5, 5, 10, 9, 8, 10, 7, 8, 7, 4, 9, 6, 10, 5, 7, 7, 10, 4, 8, 8, 5, 10, 9, 10, 9, 11, 7, 7, 11, 6, 11, 8, 11, 8, 6, 10, 10, 3, 11, 7, 9, 7, 5, 4, 8, 7, 10, 10, 9, 8, 7, 3, 5, 3, 4, 4, 6, 6, 3, 8, 9, 6, 9, 7, 9, 11, 8, 6, 5, 5, 6, 5, 5, 6, 6, 8, 9, 4, 6, 8, 5, 7, 9, 4, 5, 3, 6, 9, 6, 9, 11, 11, 5, 10, 6, 9, 6, 10, 5, 8, 10, 7, 8, 7, 8, 8, 11, 7, 12, 4, 7, 8, 11, 8, 7, 9, 2, 6, 8, 8, 5, 8, 3, 9, 8, 7, 10, 9, 10, 10, 5, 4, 9, 9, 7, 6, 5, 6, 5, 6, 10, 8, 4, 5, 4, 8, 7, 4, 6, 5, 5, 11, 9, 5, 8, 8, 9, 9, 8, 3, 11, 7, 6, 9, 5, 3, 6, 9, 4, 4, 11, 4, 8, 3, 8, 6, 5, 4, 3, 7, 8, 8, 10, 6, 10, 4, 7, 9, 7, 7, 6, 6, 7, 9, 12, 3, 7, 8, 5, 10, 9, 8, 11, 4, 10, 9, 5, 12, 8, 6, 9, 4, 7, 7, 6, 4, 8, 7, 7, 3, 8, 7, 6, 6, 5, 4, 6, 9, 7, 8, 7, 10, 7, 3, 9, 3, 3, 9, 9, 11, 10, 8, 8, 9, 5, 9, 10, 9, 5, 10, 7, 9, 11, 8, 4, 10, 8, 8, 10, 4, 5, 6, 12, 7, 5, 9, 10, 6, 8, 7, 9, 6, 6, 6, 6, 9, 5, 8, 6, 6, 3, 6, 9, 6, 6, 9, 9, 7, 8, 8, 3, 7, 3, 7, 7, 3, 9, 7, 8, 7, 12, 4, 6, 10, 9, 7, 9, 12, 3, 12, 9, 3, 10, 3, 5, 4, 7, 5, 3, 7, 6, 8, 11, 8, 7, 9, 4, 4, 5, 7, 7, 8, 7, 8, 5, 3, 10, 7, 8, 11, 9, 2, 10, 7, 6, 6, 8, 4, 3, 4, 6, 5, 7, 9, 8, 8, 11, 9, 5, 9, 11, 7, 9, 12, 9, 4, 11, 4, 7, 7, 10, 10, 8, 5, 8, 9, 10, 7, 6, 4, 8, 6, 6, 9, 5, 3, 6, 8, 9, 4, 6, 9, 12, 6, 6, 5, 4, 9, 6, 8, 9, 5, 7, 7, 8, 6, 6, 6, 8, 9, 6, 7, 7, 8, 3, 6, 7, 8, 9, 4, 6, 2, 8, 9, 5, 7, 8, 5, 9, 5, 9, 5, 4, 6, 4, 9, 8, 3, 9, 8, 9, 9, 8, 7, 4, 2, 5, 8, 7, 9, 4, 8, 11, 8, 5, 9, 3, 11, 3, 6, 7, 9, 9, 7, 7, 8, 6, 7, 5, 9, 5, 9, 7, 11, 9, 3, 3, 3, 5, 3, 10, 3, 7, 7, 8, 9, 4, 7, 3, 9, 8, 8, 7, 4, 5, 10, 6, 5, 9, 8, 3, 7, 6, 7, 7, 4, 6, 11, 7, 9, 8, 7, 7, 9, 8, 12, 4, 2, 8, 6, 5, 7, 5, 3, 8, 7, 6, 6, 3, 3, 9, 9, 6, 10, 3, 5, 8, 8, 7, 10, 9, 5, 4, 3, 8, 6, 11, 3, 4, 7, 6, 3, 8, 10, 3, 5, 10, 9, 9, 11, 7, 6, 12, 5, 8, 7, 8, 7, 7, 10, 4, 8, 8, 7, 3, 7, 7, 5, 8, 8, 10, 6, 10, 4, 8, 9, 7, 5, 7, 8, 4, 10, 3, 7, 8, 10, 5, 5, 4, 9, 10, 8, 9, 4, 4, 7, 2, 7, 10, 7, 9, 11, 7, 9, 4, 6, 5, 9, 10, 10, 4, 10, 8, 9, 8, 7, 10, 9, 7, 3, 3, 8, 3, 11, 5, 9, 8, 4, 4, 8, 6, 9, 6, 6, 6, 7, 5, 7, 11, 7, 8, 9, 7, 7, 9, 5, 6, 11, 9, 9, 5, 6, 9, 6, 8, 10, 2, 4, 9, 8, 11, 8, 8, 4, 8, 6, 5, 9, 5, 4, 6, 4, 8, 11, 6, 7, 11, 8, 6, 5, 10, 11, 4, 7, 7, 2, 10, 6, 7, 8, 11, 7, 8, 9, 6, 5, 8, 9, 9, 6, 9, 6, 3, 5, 7, 8, 9, 8, 7, 7, 4, 3, 8, 12, 7, 6, 6, 3, 9, 8, 10, 11, 2, 8, 9, 10, 9, 5, 11, 8, 7, 9, 6, 10, 6, 5, 8, 8, 2, 6, 8, 6, 7, 11, 7, 4, 12, 6, 3, 9, 7, 5, 12, 7, 6, 6, 8, 2, 6, 6, 6, 8, 4, 3, 5, 3, 11, 7, 6, 6, 7, 9, 8, 11, 4, 4, 3, 11, 9, 12, 2, 6, 6, 5, 9, 9, 5, 5, 5, 9, 6, 5, 2, 5, 7, 8, 5, 5, 12, 7, 10, 8, 7, 3, 10, 7, 7, 5, 11, 7, 7, 9, 5, 6, 7, 6, 8, 10, 2, 6, 11, 3, 6, 8, 8, 7, 12, 6, 9, 8, 4, 8, 9, 3, 5, 10, 11, 7, 5, 6, 9, 7, 8, 4, 10, 4, 11, 8, 5, 4, 10, 10, 4, 11, 7, 9, 4, 10, 7, 8, 7, 6, 5, 7, 9, 7, 9, 3, 9, 6, 3, 9, 4, 9, 4, 8, 5, 6, 9, 11, 10, 5, 6, 4, 5, 12, 12, 8, 5, 3, 5, 8, 8, 9, 8, 4, 8, 4, 8, 7, 6, 4, 6, 3, 5, 6, 10, 4, 7, 12, 3, 6, 8, 7, 9, 4, 9, 5, 2, 12, 8, 4, 8, 8, 11, 11, 7, 7, 9, 7, 10, 12, 9, 3, 5, 4, 4, 7, 3, 9, 7, 8, 12, 5, 6, 7, 7, 10, 8, 10, 9, 4, 8, 7, 7, 12, 3, 7, 3, 7, 5, 7, 7, 7, 7, 10, 4, 11, 8, 4, 8, 3, 7, 5, 10, 10, 8, 3, 6, 4, 10, 3, 4, 6, 7, 5, 11, 10, 8, 5, 6, 5, 4, 11, 8, 7, 4, 5, 7, 4, 7, 6, 3, 3, 9, 3, 4, 8, 12, 6, 6, 9, 7, 10, 10, 9, 12, 6, 12, 7, 8, 7, 11, 10, 9, 10, 11, 10, 8, 6, 5, 11, 7, 7, 7, 5, 11, 10, 9, 10, 9, 11, 8, 5, 7, 6, 6, 4, 6, 6, 5, 5, 6, 5, 5, 4, 3, 5, 4, 10, 9, 10, 2, 6, 8, 8, 11, 3, 7, 8, 11, 10, 8, 11, 8, 6, 10, 7, 3, 3, 5, 4, 6, 7, 7, 4, 9, 9, 7, 6, 7, 9, 6, 7, 4, 8, 4, 7, 10, 12, 8, 5, 9, 11, 8, 8, 9, 7, 7, 7, 5, 10, 11, 6, 8, 8, 5, 7, 4, 10, 8, 5, 6, 7, 8, 8, 10, 7, 3, 8, 5, 10, 6, 8, 5, 10, 10, 10, 6, 8, 7, 7, 4, 8, 6, 6, 9, 5, 4, 6, 3, 4, 9, 7, 8, 2, 10, 9, 7, 6, 4, 7, 10, 8, 6, 7, 5, 4, 4, 6, 8, 9, 8, 8, 6, 10, 11, 6, 6, 7, 10, 3, 2, 7, 2, 5, 7, 6, 5, 6, 2, 8, 7, 7, 5, 11, 7, 9, 4, 8, 9, 7, 9, 4, 4, 6, 7, 10, 8, 4, 9, 10, 10, 6, 6, 6, 4, 12, 8, 12, 10, 3, 5, 8, 4, 9, 8, 9, 8, 7, 5, 5, 10, 9, 10, 10, 8, 4, 9, 10, 12, 9, 6, 3, 5, 8, 8, 7, 9, 10, 9, 12, 10, 7, 9, 8, 6, 8, 4, 9, 8, 3, 5, 9, 5, 3, 12, 7, 7, 5, 8, 7, 5, 4, 8, 5, 5, 8, 6, 12, 6, 6, 6, 9, 9, 5, 8, 6, 5, 12, 12, 9, 7, 9, 8, 8, 7, 2, 5, 6, 5, 11, 8, 9, 5, 11, 8, 4, 11, 7, 2, 6, 11, 11, 4, 4, 5, 10, 3, 6, 2, 7, 6, 9, 12, 6, 4, 5, 6, 6, 5, 6, 8, 10, 8, 7, 8, 6, 8, 8, 5, 10, 8, 10, 9, 6, 7, 6, 12, 7, 4, 6, 6, 9, 4, 9, 9, 6, 8, 8, 10, 7, 7, 5, 7, 2, 6, 6, 5, 4, 6, 5, 9, 7, 6, 5, 10, 6, 6, 3, 9, 10, 2, 10, 7, 9, 10, 5, 7, 7, 5, 6, 9, 2, 9, 8, 7, 9, 2, 5, 5, 7, 8, 8, 6, 10, 8, 5, 4, 5, 3, 8, 3, 11, 8, 5, 7, 5, 5, 6, 6, 9, 10, 6, 5, 8, 10, 6, 3, 12, 10, 11, 5, 9, 4, 5, 6, 5, 10, 8, 10, 8, 5, 6, 8, 9, 12, 11, 10, 8, 6, 8, 9, 8, 5, 9, 7, 7, 7, 6, 10, 6, 4, 7, 7, 7, 7, 11, 8, 6, 9, 4, 5, 5, 9, 10, 7, 7, 8, 7, 6, 4, 5, 3, 5, 10, 7, 7, 7, 10, 7, 10, 11, 8, 3, 8, 7, 8, 9, 7, 8, 7, 6, 5, 3, 4, 5, 4, 4, 7, 8, 5, 8, 10, 8, 6, 9, 8, 3, 7, 8, 3, 6, 7, 4, 2, 5, 8, 6, 6, 4, 5, 7, 10, 10, 6, 7, 9, 11, 5, 6, 3, 10, 4, 6, 6, 9, 7, 6, 3, 5, 6, 7, 7, 7, 8, 8, 11, 9, 6, 10, 6, 7, 6, 9, 2, 8, 9, 3, 6, 7, 2, 11, 9, 4, 9, 5, 5, 9, 6, 7, 8, 10, 11, 6, 11, 3, 6, 2, 7, 11, 6, 7, 11, 10, 7, 10, 10, 4, 10, 8, 11, 3, 8, 6, 11, 7, 7, 5, 11, 6, 9, 7, 7, 5, 11, 11, 10, 9, 5, 7, 3, 4, 7, 8, 6, 8, 8, 5, 6, 7, 7, 7, 12, 8, 7, 6, 11, 5, 6, 5, 6, 7, 9, 9, 7, 7, 10, 6, 6, 7, 2, 7, 2, 6, 10, 11, 5, 9, 8, 6, 8, 3, 6, 7, 7, 8, 5, 6, 7, 8, 6, 3, 6, 10, 5, 5, 9, 5, 4, 6, 3, 7, 7, 7, 7, 3, 6, 8, 8, 9, 6, 6, 7, 4, 6, 12, 7, 2, 9, 7, 10, 6, 4, 8, 10, 7, 6, 5, 3, 6, 6, 7, 10, 6, 7, 8, 6, 4, 8, 3, 10, 8, 10, 11, 6, 5, 9, 10, 10, 9, 10, 5, 8, 9, 8, 9, 10, 3, 9, 12, 9, 9, 3, 6, 5, 8, 2, 4, 10, 7, 4, 5, 8, 6, 9, 4, 12, 8, 6, 9, 7, 9, 7, 9, 2, 5, 6, 5, 9, 9, 5, 7, 7, 9, 10, 5, 6, 9, 7, 4, 9, 7, 4, 9, 5, 4, 9, 4, 7, 6, 4, 4, 6, 11, 8, 7, 2, 2, 8, 7, 10, 8, 10, 6, 8, 2, 8, 9, 5, 6, 8, 11, 6, 6, 10, 6, 8, 4, 10, 2, 7, 4, 3, 10, 3, 5, 9, 9, 3, 3, 10, 6, 9, 12, 7, 7, 4, 2, 5, 6, 10, 7, 7, 9, 3, 7, 10, 7, 10, 8, 5, 8, 7, 5, 4, 7, 11, 4, 5, 6, 6, 6, 10, 9, 11, 8, 7, 8, 7, 8, 7, 9, 6, 4, 10, 6, 7, 11, 6, 8, 5, 6, 6, 9, 5, 4, 7, 7, 7, 12, 6, 9, 8, 6, 7, 5, 6, 4, 4, 6, 8, 4, 5, 5, 2, 7, 6, 9, 8, 8, 7, 7, 7, 7, 8, 3, 6, 9, 6, 11, 9, 8, 5, 3, 7, 9, 10, 2, 2, 6, 5, 10, 11, 8, 7, 7, 7, 11, 8, 5, 6, 2, 7, 10, 7, 5, 7, 10, 9, 7, 6, 4, 6, 7, 12, 5, 5, 9, 12, 4, 8, 9, 7, 12, 5, 9, 6, 7, 4, 3, 6, 11, 7, 10, 10, 9, 3, 6, 6, 9, 7, 11, 4, 6, 11, 7, 7, 7, 10, 10, 6, 6, 5, 8, 11, 8, 5, 5, 5, 6, 7, 6, 6, 9, 6, 11, 7, 5, 7, 4, 8, 8, 10, 4, 9, 5, 4, 3, 5, 3, 9, 2, 7, 6, 7, 11, 8, 3, 9, 4, 9, 11, 9, 9, 10, 7, 7, 9, 6, 6, 11, 6, 8, 8, 12, 7, 3, 7, 11, 5, 10, 6, 4, 6, 5, 6, 10, 6, 8, 6, 6, 6, 4, 8, 3, 6, 4, 7, 6, 8, 5, 8, 11, 5, 5, 7, 7, 10, 9, 2, 10, 8, 9, 5, 7, 7, 6, 11, 2, 6, 5, 11, 10, 6, 5, 7, 6, 4, 8, 8, 5, 7, 8, 8, 4, 8, 4, 5, 10, 5, 12, 9, 7, 5, 10, 10, 6, 6, 6, 9, 11, 6, 10, 7, 6, 7, 7, 7, 7, 5, 2, 8, 8, 8, 8, 7, 9, 6, 8, 6, 5, 4, 6, 3, 6, 7, 7, 9, 11, 11, 2, 6, 2, 7, 12, 7, 2, 8, 6, 10, 10, 6, 5, 6, 6, 9, 4, 10, 7, 7, 7, 12, 9, 3, 6, 7, 6, 7, 5, 6, 5, 5, 4, 3, 8, 7, 6, 7, 4, 4, 6, 7, 4, 3, 9, 9, 4, 7, 7, 12, 12, 11, 6, 2, 7, 8, 5, 8, 4, 7, 8, 9, 5, 8, 7, 10, 6, 3, 12, 4, 11, 7, 8, 5, 6, 7, 7, 5, 6, 7, 4, 5, 12, 2, 9, 7, 9, 7, 8, 8, 5, 5, 7, 10, 8, 9, 7, 7, 6, 6, 6, 2, 5, 2, 8, 7, 12, 10, 7, 3, 5, 10, 7, 8, 7, 7, 8, 9, 9, 5, 8, 6, 7, 8, 7, 7, 8, 7, 8, 2, 8, 9, 7, 9, 7, 4, 7, 8, 5, 6, 7, 9, 8, 6, 6, 2, 8, 6, 9, 5, 3, 5, 8, 11, 9, 4, 8, 8, 9, 2, 9, 11, 7, 6, 4, 8, 4, 7, 7, 7, 2, 5, 4, 8, 7, 8, 9, 11, 3, 8, 9, 10, 6, 3, 6, 4, 7, 6, 8, 7, 3, 8, 7, 9, 7, 11, 6, 11, 3, 2, 6, 8, 6, 10, 4, 5, 9, 6, 7, 6, 7, 8, 7, 11, 7, 4, 7, 10, 10, 8, 7, 6, 2, 4, 8, 11, 11, 8, 9, 6, 5, 11, 6, 4, 8, 9, 9, 7, 5, 4, 9, 5, 5, 6, 6, 7, 4, 7, 9, 7, 11, 4, 7, 7, 6, 8, 10, 7, 7, 9, 3, 7, 3, 8, 7, 9, 7, 11, 7, 9, 6, 6, 9, 10, 4, 7, 11, 7, 6, 4, 5, 7, 9, 9, 6, 7, 8, 5, 7, 7, 6, 5, 3, 4, 6, 4, 6, 3, 6, 11, 9, 11, 6, 6, 9, 5, 6, 9, 2, 4, 11, 8, 7, 9, 7, 3, 4, 8, 7, 2, 5, 6, 4, 2, 6, 6, 9, 8, 12, 4, 3, 5, 7, 12, 5, 6, 11, 9, 11, 9, 5, 9, 6, 7, 5, 7, 8, 4, 10, 7, 5, 4, 10, 5, 9, 9, 2, 9, 10, 4, 8, 5, 6, 7, 12, 8, 8, 7, 10, 6, 5, 7, 9, 11, 9, 9, 4, 7, 3, 6, 10, 11, 6, 3, 3, 6, 4, 10, 11, 5, 6, 8, 7, 6, 10, 10, 6, 5, 3, 4, 10, 6, 8, 7, 6, 6, 3, 5, 10, 12, 7, 7, 6, 9, 6, 7, 6, 6, 5, 10, 5, 6, 11, 12, 4, 7, 7, 4, 5, 7, 10, 6, 6, 8, 6, 7, 7, 12, 5, 10, 7, 7, 6, 6, 3, 5, 8, 8, 3, 6, 9, 7, 6, 5, 9, 6, 7, 5, 8, 10, 7, 4, 6, 7, 6, 6, 8, 9, 9, 11, 9, 9, 11, 8, 4, 9, 7, 5, 9, 11, 8, 10, 8, 8, 8, 4, 6, 8, 12, 4, 6, 7, 5, 6, 7, 3, 9, 6, 9, 6, 5, 11, 8, 3, 7, 4, 6, 6, 8, 3, 7, 6, 9, 6, 7, 6, 12, 7, 6, 7, 8, 6, 2, 10, 8, 7, 9, 6, 7, 8, 5, 11, 7, 5, 4, 5, 8, 8, 3, 2, 5, 9, 6, 7, 4, 6, 9, 4, 9, 4, 6, 12, 9, 5, 8, 10, 10, 7, 5, 3, 6, 4, 3, 2, 2, 2, 7, 8, 3, 5, 10, 9, 5, 5, 3, 5, 3, 3, 12, 4, 9, 11, 5, 3, 9, 4, 11, 5, 7, 5, 7, 9, 6, 12, 3, 8, 9, 9, 7, 9, 3, 9, 9, 12, 12, 7, 11, 3, 4, 12, 5, 5, 5, 7, 6, 7, 7, 5, 9, 11, 10, 3, 5, 7, 9, 9, 8, 8, 5, 7, 4, 5, 11, 4, 8, 4, 6, 7, 7, 6, 5, 7, 11, 7, 6, 9, 9, 6, 4, 6, 10, 6, 6, 8, 7, 8, 8, 3, 8, 6, 7, 10, 7, 9, 7, 8, 9, 10, 3, 4, 5, 7, 4, 8, 2, 12, 6, 8, 7, 7, 6, 8, 6, 10, 4, 12, 11, 9, 8, 7, 4, 5, 3, 12, 10, 9, 5, 2, 10, 4, 8, 5, 4, 8, 7, 5, 9, 6, 7, 5, 3, 5, 8, 7, 3, 8, 2, 3, 3, 8, 4, 7, 7, 6, 8, 10, 6, 9, 9, 7, 4, 9, 7, 12, 9, 7, 8, 11, 7, 3, 8, 6, 5, 4, 10, 5, 6, 9, 12, 10, 8, 7, 7, 9, 7, 5, 8, 6, 7, 11, 11, 8, 11, 10, 6, 6, 11, 9, 2, 7, 10, 12, 6, 8, 9, 9, 6, 5, 6, 2, 8, 9, 5, 12, 4, 6, 8, 4, 9, 10, 2, 9, 7, 6, 5, 5, 6, 7, 7, 9, 7, 7, 7, 11, 10, 10, 9, 5, 6, 3, 11, 3, 8, 9, 10, 9, 6, 6, 12, 6, 9, 5, 6, 7, 8, 4, 3, 12, 10, 7, 6, 5, 3, 8, 7, 9, 6, 10, 6, 8, 9, 6, 9, 6, 4, 6, 2, 8, 6, 8, 7, 6, 10, 7, 11, 11, 6, 8, 10, 7, 7, 8, 8, 5, 9, 6, 5, 7, 11, 9, 8, 7, 8, 10, 6, 6, 9, 8, 5, 6, 11, 8, 11, 11, 9, 8, 9, 6, 5, 8, 5, 8, 12, 9, 4, 9, 4, 10, 7, 6, 6, 5, 6, 7, 9, 8, 9, 7, 7, 8, 9, 10, 6, 10, 7, 8, 8, 4, 5, 4, 9, 5, 7, 7, 6, 8, 9, 5, 4, 5, 7, 6, 9, 8, 8, 8, 4, 8, 10, 2, 4, 9, 9, 6, 7, 10, 6, 5, 9, 6, 6, 6, 4, 10, 7, 10, 4, 5, 11, 7, 7, 4, 4, 2, 4, 9, 2, 11, 3, 8, 12, 5, 3, 12, 12, 3, 4, 8, 4, 4, 4, 8, 5, 4, 8, 10, 6, 11, 12, 7, 7, 4, 4, 7, 7, 10, 9, 7, 2, 7, 3, 8, 3, 5, 7, 9, 7, 7, 8, 6, 5, 5, 8, 10, 10, 2, 3, 5, 7, 6, 4, 5, 10, 7, 7, 10, 3, 9, 7, 7, 9, 5, 3, 6, 8, 2, 8, 5, 4, 6, 5, 4, 4, 6, 10, 11, 2, 6, 5, 5, 2, 8, 5, 9, 11, 3, 3, 6, 6, 9, 5, 10, 6, 9, 7, 6, 5, 10, 4, 10, 4, 9, 8, 10, 10, 5, 8, 8, 6, 3, 6, 9, 9, 4, 5, 9, 3, 10, 7, 4, 8, 3, 10, 7, 6, 8, 9, 3, 8, 6, 8, 6, 7, 6, 5, 7, 7, 6, 7, 6, 7, 10, 12, 5, 6, 5, 4, 7, 5, 3, 6, 6, 6, 7, 8, 7, 5, 6, 11, 5, 10, 9, 9, 12, 5, 6, 5, 7, 8, 12, 5, 7, 3, 4, 9, 5, 3, 7, 3, 7, 9, 9, 3, 7, 3, 5, 10, 12, 7, 4, 8, 2, 4, 9, 7, 9, 10, 8, 7, 11, 9, 5, 7, 5, 5, 6, 5, 7, 10, 7, 4, 11, 4, 5, 8, 7, 12, 7, 6, 10, 9, 3, 6, 10, 4, 6, 4, 5, 2, 12, 9, 8, 6, 8, 7, 4, 7, 4, 8, 7, 5, 7, 7, 2, 6, 5, 5, 7, 8, 8, 11, 5, 10, 9, 11, 2, 9, 3, 9, 9, 9, 2, 7, 8, 8, 9, 2, 11, 5, 6, 7, 9, 7, 4, 8, 11, 9, 7, 6, 7, 9, 8, 9, 10, 9, 6, 6, 7, 11, 5, 11, 6, 10, 3, 5, 11, 9, 7, 3, 6, 8, 8, 3, 10, 11, 8, 6, 7, 8, 4, 9, 4, 5, 11, 5, 6, 6, 9, 11, 9, 7, 7, 10, 9, 3, 9, 6, 4, 6, 8, 7, 6, 6, 8, 6, 6, 9, 3, 7, 5, 8, 9, 6, 5, 8, 5, 6, 9, 3, 7, 4, 9, 10, 3, 5, 6, 4, 6, 2, 11, 9, 9, 4, 6, 6, 6, 11, 8, 4, 4, 10, 7, 8, 7, 6, 10, 10, 5, 5, 4, 11, 5, 4, 5, 4, 5, 5, 7, 8, 10, 2, 7, 7, 7, 10, 6, 5, 7, 3, 5, 10, 11, 6, 4, 9, 5, 2, 7, 6, 9, 5, 8, 8, 8, 4, 3, 5, 9, 12, 8, 5, 6, 7, 4, 7, 2, 10, 10, 7, 5, 10, 11, 7, 8, 6, 8, 8, 10, 12, 7, 4, 9, 9, 5, 5, 5, 3, 8, 12, 8, 10, 3, 8, 8, 10, 6, 6, 7, 8, 4, 6, 4, 7, 6, 5, 4, 3, 3, 8, 4, 7, 7, 7, 2, 9, 5, 8, 8, 8, 7, 4, 8, 10, 9, 7, 12, 12, 9, 6, 8, 11, 8, 4, 2, 2, 7, 6, 10, 5, 9, 5, 8, 7, 8, 5, 4, 11, 7, 8, 7, 4, 6, 5, 10, 9, 9, 8, 10, 2, 5, 2, 5, 7, 7, 8, 9, 7, 6, 3, 10, 2, 8, 8, 8, 6, 12, 7, 8, 5, 11, 4, 2, 11, 8, 7, 3, 5, 9, 6, 6, 4, 11, 4, 12, 4, 12, 9, 11, 7, 5, 8, 6, 8, 6, 6, 5, 8, 8, 8, 5, 8, 7, 7, 8, 9, 6, 11, 8, 7, 12, 8, 7, 4, 6, 10, 5, 5, 4, 7, 9, 8, 11, 8, 5, 6, 10, 5, 7, 7, 6, 5, 9, 6, 10, 7, 6, 2, 8, 7, 8, 4, 11, 8, 12, 7, 7, 9, 8, 12, 8, 9, 10, 6, 7, 5, 9, 6, 9, 4, 5, 8, 8, 7, 4, 6, 3, 4, 5, 10, 8, 9, 7, 7, 9, 7, 6, 9, 5, 11, 7, 9, 6, 4, 5, 4, 7, 10, 8, 2, 5, 8, 5, 3, 6, 11, 6, 12, 7, 8, 11, 4, 7, 4, 5, 5, 12, 5, 7, 11, 5, 2, 7, 7, 4, 7, 8, 7, 8, 5, 11, 6, 12, 3, 8, 10, 8, 8, 4, 7, 8, 12, 11, 11, 10, 7, 6, 7, 8, 3, 7, 10, 8, 10, 8, 3, 6, 9, 8, 5, 7, 9, 8, 5, 9, 3, 7, 10, 8, 5, 6, 7, 9, 7, 5, 5, 9, 3, 12, 9, 10, 6, 5, 3, 8, 9, 7, 10, 6, 5, 8, 4, 5, 10, 5, 7, 9, 3, 4, 6, 9, 6, 7, 8, 5, 7, 9, 11, 7, 7, 11, 2, 7, 7, 7, 5, 7, 6, 9, 9, 4, 4, 7, 8, 7, 7, 6, 3, 9, 8, 6, 10, 11, 8, 9, 7, 6, 5, 4, 10, 12, 6, 5, 11, 10, 9, 11, 5, 10, 8, 6, 6, 10, 5, 8, 8, 12, 7, 6, 8, 8, 3, 12, 12, 11, 5, 10, 3, 7, 8, 5, 11, 7, 4, 8, 12, 5, 5, 9, 6, 6, 8, 7, 5, 10, 5, 8, 5, 6, 8, 6, 4, 10, 7, 7, 8, 8, 6, 8, 8, 8, 3, 5, 5, 5, 6, 5, 9, 9, 10, 9, 10, 10, 12, 4, 10, 10, 6, 8, 5, 9, 9, 3, 9, 9, 3, 8, 10, 10, 6, 8, 8, 8, 8, 9, 10, 3, 7, 7, 6, 7, 9, 10, 5, 8, 4, 10, 8, 10, 7, 7, 8, 9, 8, 6, 6, 9, 5, 6, 6, 4, 4, 11, 9, 7, 11, 11, 8, 10, 8, 5, 7, 7, 5, 4, 7, 6, 8, 7, 10, 4, 10, 9, 8, 5, 9, 3, 5, 6, 12, 11, 11, 7, 5, 7, 6, 7, 3, 10, 9, 7, 10, 8, 5, 7, 11, 10, 5, 2, 8, 11, 8, 5, 7, 6, 11, 10, 7, 11, 9, 7, 8, 4, 2, 6, 3, 9, 8, 9, 9, 8, 4, 6, 10, 7, 6, 9, 10, 4, 3, 10, 7, 9, 5, 12, 7, 8, 7, 2, 4, 5, 11, 4, 5, 4, 9, 11, 2, 4, 8, 6, 8, 2, 9, 8, 4, 7, 7, 6, 3, 8, 7, 3, 7, 4, 3, 5, 10, 4, 8, 7, 9, 10, 10, 12, 5, 5, 4, 7, 7, 8, 3, 5, 8, 9, 8, 5, 7, 10, 2, 7, 5, 5, 7, 6, 8, 4, 10, 5, 3, 7, 9, 5, 7, 8, 9, 6, 9, 8, 7, 8, 5, 6, 5, 6, 10, 8, 6, 8, 9, 7, 6, 8, 10, 4, 8, 10, 7, 5, 6, 7, 6, 4, 5, 5, 9, 7, 7, 3, 7, 7, 4, 5, 7, 6, 8, 8, 5, 7, 3, 7, 4, 2, 6, 7, 6, 5, 3, 9, 9, 6, 9, 9, 5, 4, 8, 4, 7, 8, 4, 9, 6, 7, 6, 12, 3, 6, 5, 3, 9, 6, 11, 4, 4, 10, 5, 4, 8, 12, 10, 11, 5, 10, 7, 11, 8, 9, 7, 8, 5, 9, 7, 8, 3, 9, 5, 3, 4, 9, 4, 10, 5, 5, 10, 10, 4, 2, 4, 3, 5, 4, 3, 7, 12, 3, 3, 3, 8, 4, 4, 2, 4, 8, 5, 7, 7, 7, 11, 9, 9, 7, 10, 7, 9, 8, 10, 6, 6, 8, 5, 12, 5, 5, 12, 3, 7, 9, 8, 4, 5, 6, 9, 11, 5, 4, 2, 7, 10, 4, 12, 6, 11, 9, 3, 6, 3, 4, 8, 5, 4, 10, 5, 9, 3, 6, 8, 8, 6, 7, 11, 5, 9, 10, 7, 7, 6, 6, 9, 9, 7, 8, 6, 8, 10, 6, 10, 8, 7, 7, 7, 4, 7, 3, 5, 8, 2, 8, 7, 10, 4, 11, 6, 7, 3, 10, 4, 4, 6, 8, 5, 9, 7, 9, 8, 5, 4, 8, 5, 9, 7, 8, 8, 9, 10, 6, 11, 9, 4, 6, 9, 6, 5, 10, 11, 11, 10, 7, 9, 5, 5, 4, 3, 6, 10, 6, 9, 6, 6, 11, 9, 12, 12, 2, 7, 9, 2, 2, 5, 7, 8, 7, 8, 8, 9, 8, 5, 4, 6, 8, 10, 9, 6, 5, 6, 10, 3, 8, 6, 12, 5, 8, 8, 5, 8, 9, 8, 7, 5, 7, 8, 10, 6, 3, 7, 6, 8, 7, 11, 6, 7, 9, 9, 3, 7, 12, 9, 6, 12, 7, 7, 6, 3, 9, 7, 11, 7, 6, 6, 7, 7, 9, 11, 4, 9, 9, 9, 8, 11, 10, 8, 7, 6, 8, 6, 6, 5, 6, 9, 7, 3, 3, 9, 4, 8, 6, 9, 7, 11, 2, 6, 8, 4, 6, 10, 5, 8, 12, 5, 3, 6, 6, 7, 6, 3, 8, 4, 3, 9, 6, 5, 8, 8, 3, 7, 5, 6, 9, 10, 10, 6, 11, 6, 8, 5, 5, 7, 7, 6, 6, 9, 5, 9, 11, 7, 7, 6, 4, 8, 6, 7, 11, 11, 6, 4, 7, 8, 12, 6, 9, 10, 12, 8, 7, 6, 12, 7, 12, 11, 4, 5, 8, 7, 4, 12, 7, 12, 10, 8, 4, 2, 6, 9, 9, 4, 7, 6, 10, 9, 11, 7, 3, 4, 6, 5, 7, 8, 6, 11, 6, 6, 5, 6, 2, 4, 3, 9, 7, 4, 8, 8, 8, 7, 7, 9, 6, 10, 10, 12, 5, 6, 9, 8, 11, 8, 9, 9, 5, 9, 5, 4, 7, 3, 8, 7, 5, 9, 9, 3, 7, 6, 11, 12, 6, 8, 7, 9, 8, 8, 11, 9, 4, 9, 3, 4, 9, 4, 11, 11, 7, 10, 5, 7, 3, 4, 8, 8, 7, 8, 7, 7, 5, 10, 7, 8, 2, 10, 6, 6, 5, 6, 8, 5, 4, 7, 8, 7, 4, 3, 4, 2, 5, 10, 6, 5, 9, 2, 6, 7, 10, 11, 10, 5, 5, 4, 10, 6, 9, 7, 11, 12, 9, 6, 3, 7, 2, 5, 9, 8, 7, 3, 6, 9, 5, 10, 11, 5, 7, 10, 5, 2, 8, 12, 4, 9, 8, 7, 7, 7, 7, 11, 11, 5, 6, 6, 3, 6, 5, 4, 9, 7, 7, 2, 9, 6, 7, 7, 6, 6, 7, 7, 6, 7, 7, 7, 6, 7, 8, 10, 4, 8, 3, 6, 12, 11, 7, 6, 10, 6, 6, 5, 6, 11, 6, 4, 6, 8, 10, 5, 11, 6, 10, 6, 8, 3, 7, 9, 7, 6, 7, 4, 7, 7, 12, 9, 6, 6, 5, 8, 8, 5, 7, 5, 6, 7, 11, 9, 10, 7, 2, 6, 7, 5, 2, 6, 11, 4, 3, 11, 2, 3, 7, 8, 6, 4, 7, 9, 10, 6, 10, 9, 9, 11, 8, 5, 8, 3, 5, 3, 11, 3, 8, 8, 9, 10, 3, 10, 9, 5, 11, 9, 7, 5, 9, 8, 3, 4, 8, 3, 7, 8, 5, 4, 10, 4, 6, 4, 6, 2, 7, 9, 5, 3, 11, 6, 12, 5, 8, 2, 7, 9, 8, 5, 7, 6, 2, 10, 6, 2, 5, 6, 9, 7, 6, 8, 6, 6, 3, 5, 6, 6, 3, 2, 8, 4, 8, 2, 11, 6, 4, 7, 6, 4, 3, 6, 7, 6, 7, 8, 5, 4, 8, 6, 12, 10, 11, 3, 10, 7, 8, 8, 6, 5, 5, 8, 8, 10, 4, 9, 3, 4, 2, 4, 6, 7, 7, 7, 6, 6, 10, 3, 4, 4, 10, 11, 8, 11, 4, 11, 8, 9, 6, 4, 9, 2, 8, 6, 8, 11, 7, 8, 7, 7, 3, 5, 6, 7, 6, 8, 9, 6, 5, 2, 10, 8, 9, 7, 9, 7, 6, 9, 4, 4, 4, 11, 9, 7, 10, 5, 11, 7, 10, 4, 6, 9, 9, 2, 8, 10, 5, 10, 4, 6, 5, 9, 11, 9, 6, 7, 8, 4, 5, 9, 3, 7, 4, 11, 9, 8, 8, 8, 7, 9, 11, 5, 4, 7, 7, 10, 6, 7, 10, 9, 9, 6, 3, 9, 11, 12, 3, 5, 5, 10, 2, 2, 8, 6, 6, 3, 11, 9, 9, 4, 6, 4, 6, 9, 6, 9, 4, 9, 4, 6, 12, 5, 9, 5, 6, 10, 8, 8, 12, 7, 9, 6, 8, 8, 6, 7, 7, 12, 6, 3, 7, 9, 9, 7, 4, 6, 6, 9, 9, 8, 7, 9, 7, 4, 8, 7, 10, 7, 7, 8, 2, 10, 12, 6, 6, 7, 11, 6, 4, 9, 10, 3, 6, 5, 6, 4, 10, 5, 11, 7, 3, 3, 2, 5, 10, 5, 8, 11, 3, 5, 8, 5, 8, 6, 9, 8, 3, 9, 9, 8, 6, 7, 7, 4, 5, 11, 9, 4, 11, 2, 3, 5, 5, 9, 7, 5, 9, 3, 5, 12, 7, 6, 4, 2, 9, 8, 7, 6, 8, 8, 10, 7, 3, 7, 4, 8, 5, 5, 10, 3, 7, 4, 11, 6, 9, 9, 9, 10, 10, 7, 4, 4, 4, 7, 6, 9, 9, 7, 9, 10, 9, 7, 2, 6, 7, 4, 10, 2, 5, 10, 8, 4, 7, 3, 7, 4, 6, 7, 10, 2, 7, 11, 7, 5, 9, 8, 6, 10, 10, 4, 4, 6, 7, 8, 7, 6, 10, 11, 5, 4, 7, 6, 4, 5, 9, 5, 3, 10, 11, 9, 6, 8, 8, 10, 4, 7, 9, 10, 6, 11, 4, 5, 9, 6, 9, 4, 7, 7, 5, 8, 3, 8, 9, 12, 4, 10, 7, 11, 7, 6, 2, 11, 7, 7, 8, 6, 8, 7, 6, 5, 8, 2, 7, 4, 2, 4, 9, 6, 5, 5, 6, 5, 5, 10, 5, 7, 7, 8, 7, 8, 9, 7, 12, 12, 12, 10, 9, 5, 10, 10, 7, 11, 6, 11, 10, 8, 10, 9, 5, 7, 8, 6, 10, 11, 9, 11, 10, 9, 6, 8, 7, 5, 7, 5, 6, 7, 5, 7, 4, 7, 7, 12, 9, 7, 6, 6, 7, 9, 6, 10, 7, 6, 6, 5, 7, 10, 7, 6, 6, 10, 6, 6, 7, 4, 6, 9, 10, 3, 12, 6, 7, 8, 8, 6, 8, 4, 7, 5, 6, 7, 9, 7, 11, 6, 5, 10, 10, 5, 9, 6, 6, 7, 9, 6, 7, 9, 8, 8, 12, 11, 5, 5, 9, 7, 5, 3, 9, 3, 10, 9, 10, 6, 3, 9, 4, 3, 6, 5, 5, 7, 8, 7, 2, 12, 8, 9, 7, 6, 8, 2, 8, 8, 6, 8, 8, 4, 8, 8, 6, 8, 9, 8, 9, 7, 5, 6, 7, 6, 6, 10, 6, 8, 3, 11, 8, 2, 7, 9, 3, 8, 7, 7, 9, 8, 11, 5, 6, 12, 7, 9, 3, 11, 3, 9, 2, 10, 8, 5, 4, 6, 10, 7, 6, 7, 3, 6, 5, 11, 11, 12, 10, 8, 5, 10, 6, 10, 12, 6, 5, 9, 6, 7, 7, 7, 7, 7, 8, 9, 8, 7, 3, 6, 7, 9, 5, 12, 6, 8, 8, 9, 5, 9, 5, 8, 12, 10, 7, 7, 4, 8, 9, 7, 5, 9, 12, 6, 3, 6, 5, 7, 6, 10, 3, 6, 10, 10, 4, 6, 5, 11, 8, 7, 6, 3, 9, 6, 4, 11, 8, 6, 2, 9, 7, 6, 11, 9, 11, 8, 8, 4, 7, 12, 3, 6, 3, 4, 5, 4, 8, 5, 7, 4, 9, 10, 12, 6, 7, 8, 8, 7, 6, 7, 4, 2, 4, 8, 7, 9, 8, 7, 2, 7, 7, 8, 4, 3, 9, 7, 8, 7, 5, 5, 9, 7, 9, 7, 7, 5, 9, 6, 10, 6, 7, 8, 5, 10, 9, 4, 4, 7, 5, 4, 7, 5, 9, 9, 9, 7, 3, 7, 4, 5, 6, 11, 6, 6, 8, 3, 4, 10, 11, 8, 3, 10, 4, 3, 9, 7, 10, 10, 5, 8, 5, 8, 8, 5, 7, 5, 8, 8, 10, 6, 12, 7, 8, 3, 12, 6, 5, 9, 3, 5, 10, 7, 10, 7, 7, 8, 11, 4, 8, 9, 4, 10, 10, 7, 5, 11, 3, 4, 5, 3, 7, 5, 6, 8, 6, 11, 9, 7, 8, 7, 4, 8, 9, 8, 5, 9, 7, 5, 8, 4, 7, 10, 8, 7, 11, 9, 10, 5, 5, 5, 6, 4, 7, 6, 7, 6, 12, 7, 5, 6, 4, 4, 9, 4, 7, 8, 6, 5, 8, 7, 5, 7, 8, 6, 5, 6, 8, 8, 6, 10, 7, 5, 6, 3, 6, 5, 9, 10, 8, 3, 9, 9, 12, 5, 4, 7, 8, 7, 5, 7, 6, 5, 7, 11, 8, 10, 8, 8, 7, 6, 3, 6, 8, 3, 9, 7, 7, 4, 9, 8, 9, 6, 4, 4, 5, 7, 5, 9, 6, 4, 10, 11, 2, 7, 4, 9, 5, 8, 9, 10, 3, 9, 6, 7, 6, 3, 6, 5, 5, 10, 9, 6, 7, 4, 8, 6, 8, 8, 9, 11, 8, 6, 7, 4, 7, 11, 4, 4, 5, 5, 7, 6, 8, 10, 7, 8, 11, 6, 7, 7, 11, 9, 12, 8, 5, 8, 9, 6, 2, 6, 8, 10, 6, 5, 9, 5, 9, 5, 7, 10, 7, 12, 8, 6, 2, 6, 7, 8, 8, 4, 7, 6, 6, 4, 4, 8, 8, 8, 2, 9, 7, 7, 8, 8, 8, 11, 5, 8, 5, 8, 12, 7, 11, 11, 11, 5, 5, 8, 4, 10, 7, 5, 6, 8, 7, 6, 9, 9, 12, 11, 11, 7, 9, 8, 6, 5, 4, 5, 10, 7, 6, 5, 7, 6, 9, 3, 10, 10, 7, 6, 10, 7, 10, 5, 4, 7, 4, 11, 8, 3, 10, 7, 11, 10, 6, 7, 5, 4, 5, 11, 9, 7, 3, 10, 10, 6, 4, 7, 2, 5, 4, 11, 3, 6, 6, 8, 7, 7, 8, 9, 7, 9, 8, 12, 6, 7, 11, 6, 8, 5, 10, 12, 8, 9, 8, 3, 9, 7, 9, 5, 11, 9, 7, 6, 7, 10, 6, 4, 12, 2, 4, 6, 9, 3, 7, 4, 8, 6, 6, 5, 7, 6, 8, 10, 9, 10, 10, 11, 4, 7, 4, 3, 3, 9, 6, 12, 2, 4, 6, 6, 7, 9, 2, 8, 8, 3, 7, 11, 3, 3, 3, 7, 7, 12, 6, 8, 4, 7, 6, 9, 7, 8, 9, 6, 6, 10, 8, 10, 10, 6, 2, 10, 9, 6, 11, 6, 11, 11, 5, 8, 9, 11, 11, 7, 7, 7, 7, 6, 9, 4, 6, 7, 6, 10, 5, 8, 2, 9, 5, 10, 4, 4, 8, 6, 7, 7, 3, 8, 4, 4, 5, 10, 8, 5, 11, 8, 7, 4, 8, 9, 12, 10, 2, 5, 7, 4, 8, 3, 7, 6, 9, 6, 9, 3, 10, 5, 8, 5, 9, 8, 7, 10, 8, 7, 6, 10, 8, 6, 12, 6, 8, 5, 11, 7, 10, 12, 10, 7, 9, 6, 4, 5, 6, 10, 7, 11, 10, 6, 7, 8, 11, 7, 2, 3, 6, 11, 9, 3, 7, 8, 8, 7, 4, 4, 7, 8, 8, 6, 2, 7, 4, 8, 3, 11, 11, 5, 6, 8, 7, 6, 12, 7, 4, 11, 9, 5, 3, 7, 8, 5, 7, 6, 5, 10, 5, 6, 8, 5, 9, 11, 7, 6, 6, 7, 8, 9, 7, 6, 10, 7, 7, 8, 7, 11, 3, 8, 5, 7, 4, 8, 4, 9, 7, 9, 2, 6, 6, 7, 7, 7, 10, 8, 9, 6, 3, 4, 4, 5, 7, 9, 8, 7, 8, 6, 5, 5, 5, 7, 8, 8, 10, 8, 7, 4, 6, 11, 7, 7, 4, 4, 12, 7, 7, 10, 4, 7, 7, 7, 5, 3, 6, 7, 5, 3, 2, 8, 9, 9, 7, 6, 10, 6, 12, 7, 7, 10, 8, 8, 5, 11, 10, 8, 9, 7, 10, 4, 8, 9, 11, 7, 5, 10, 4, 6, 9, 5, 5, 4, 9, 4, 2, 7, 11, 7, 9, 5, 5, 8, 7, 9, 6, 6, 10, 4, 10, 3, 11, 10, 10, 10, 2, 10, 11, 7, 6, 10, 4, 4, 8, 9, 10, 6, 5, 6, 9, 11, 10, 6, 3, 3, 4, 10, 8, 7, 8, 9, 7, 5, 12, 11, 8, 2, 7, 4, 2, 8, 9, 4, 2, 3, 5, 10, 10, 8, 9, 3, 9, 5, 7, 7, 11, 7, 8, 12, 8, 7, 3, 6, 6, 8, 9, 7, 5, 8, 7, 6, 5, 8, 10, 2, 5, 8, 5, 10, 3, 3, 9, 5, 10, 5, 7, 10, 7, 11, 5, 5, 9, 9, 3, 10, 2, 4, 5, 4, 8, 3, 8, 9, 7, 9, 7, 5, 6, 4, 4, 5, 6, 9, 6, 4, 6, 9, 3, 9, 5, 7, 2, 8, 10, 5, 9, 11, 5, 7, 6, 6, 5, 8, 9, 5, 6, 8, 7, 4, 6, 9, 8, 6, 6, 2, 6, 9, 10, 10, 7, 6, 9, 7, 8, 2, 6, 5, 4, 4, 8, 10, 7, 3, 8, 11, 3, 12, 5, 7, 12, 6, 7, 8, 10, 7, 4, 12, 11, 5, 8, 5, 9, 5, 11, 10, 9, 9, 6, 8, 4, 5, 8, 7, 3, 4, 5, 5, 9, 7, 9, 9, 9, 6, 4, 6, 11, 10, 10, 5, 5, 6, 4, 7, 5, 8, 8, 8, 6, 5, 3, 4, 6, 3, 10, 6, 2, 6, 8, 6, 6, 11, 7, 6, 9, 4, 7, 5, 9, 7, 11, 8, 7, 11, 6, 8, 8, 9, 7, 8, 7, 10, 8, 6, 7, 7, 5, 8, 8, 10, 7, 3, 3, 4, 7, 11, 7, 7, 6, 11, 7, 8, 11, 6, 8, 5, 7, 7, 9, 4, 5, 6, 6, 6, 6, 4, 7, 2, 5, 3, 7, 9, 12, 4, 10, 5, 7, 5, 4, 8, 11, 8, 4, 4, 7, 7, 7, 3, 5, 8, 4, 8, 9, 7, 7, 7, 6, 9, 10, 5, 4, 7, 7, 5, 4, 11, 8, 3, 9, 7, 8, 6, 7, 9, 3, 5, 8, 7, 10, 2, 7, 9, 3, 7, 9, 5, 7, 2, 4, 7, 7, 9, 4, 9, 6, 7, 11, 4, 10, 6, 7, 8, 8, 4, 10, 11, 8, 5, 6, 6, 7, 9, 5, 12, 7, 6, 5, 5, 4, 9, 8, 7, 10, 10, 6, 7, 10, 2, 2, 10, 5, 6, 8, 12, 12, 3, 6, 4, 4, 6, 5, 7, 8, 9, 5, 9, 5, 8, 8, 10, 11, 5, 8, 4, 10, 5, 5, 2, 7, 4, 8, 11, 4, 12, 11, 8, 9, 6, 11, 5, 8, 9, 5, 6, 6, 4, 9, 9, 7, 7, 8, 8, 2, 4, 9, 8, 6, 6, 11, 6, 12, 6, 2, 2, 10, 3, 7, 2, 10, 8, 4, 5, 11, 6, 5, 7, 8, 11, 4, 8, 8, 7, 7, 9, 5, 6, 6, 4, 7, 3, 5, 12, 10, 11, 4, 7, 2, 5, 4, 10, 7, 7, 9, 10, 7, 6, 7, 6, 8, 6, 9, 4, 7, 10, 11, 9, 3, 8, 12, 6, 8, 8, 9, 4, 11, 9, 4, 10, 12, 12, 9, 8, 6, 8, 11, 9, 9, 5, 5, 2, 3, 8, 7, 6, 6, 11, 7, 7, 4, 6, 8, 7, 8, 9, 3, 4, 9, 8, 3, 11, 3, 7, 10, 4, 6, 8, 5, 6, 8, 5, 11, 11, 8, 4, 5, 8, 10, 8, 5, 6, 7, 8, 6, 6, 12, 6, 5, 6, 10, 3, 5, 7, 6, 9, 11, 9, 6, 11, 7, 8, 5, 4, 9, 7, 3, 8, 11, 6, 6, 10, 8, 8, 6, 6, 11, 8, 10, 10, 4, 11, 6, 10, 12, 5, 5, 9, 8, 11, 4, 10, 6, 11, 8, 10, 9, 3, 6, 8, 2, 10, 7, 5, 9, 8, 11, 6, 5, 9, 8, 5, 12, 3, 11, 8, 6, 3, 5, 8, 8, 7, 3, 9, 8, 7, 4, 5, 8, 6, 6, 3, 6, 6, 11, 6, 6, 8, 9, 6, 10, 8, 4, 11, 5, 4, 8, 8, 8, 7, 7, 3, 12, 8, 7, 7, 8, 4, 7, 8, 9, 11, 11, 6, 5, 10, 4, 8, 7, 2, 7, 4, 4, 5, 9, 7, 10, 9, 3, 7, 7, 6, 3, 3, 11, 9, 8, 2, 6, 11, 9, 8, 8, 4, 10, 9, 2, 3, 7, 8, 6, 8, 7, 6, 5, 3, 4, 6, 5, 12, 3, 7, 7, 7, 7, 11, 4, 5, 5, 5, 9, 8, 8, 5, 11, 8, 9, 5, 7, 5, 6, 12, 6, 9, 5, 10, 10, 7, 6, 4, 9, 10, 9, 2, 11, 8, 5, 10, 10, 7, 8, 9, 11, 10, 7, 4, 6, 7, 3, 8, 5, 6, 10, 8, 3, 4, 6, 10, 11, 4, 8, 9, 7, 11, 8, 9, 10, 11, 10, 6, 10, 9, 11, 7, 7, 10, 4, 8, 6, 11, 4, 5, 6, 11, 8, 12, 7, 7, 5, 5, 4, 8, 4, 8, 3, 8, 4, 11, 5, 4, 7, 6, 12, 6, 9, 3, 10, 5, 6, 4, 8, 8, 4, 10, 7, 9, 8, 12, 5, 5, 9, 6, 11, 11, 4, 5, 9, 8, 11, 9, 11, 2, 4, 4, 8, 12, 3, 7, 11, 7, 7, 11, 5, 10, 5, 10, 6, 10, 9, 10, 3, 6, 9, 10, 12, 6, 9, 10, 6, 7, 11, 9, 5, 5, 11, 7, 2, 11, 7, 4, 6, 6, 5, 11, 6, 8, 7, 8, 11, 4, 10, 6, 4, 7, 5, 6, 9, 7, 4, 5, 5, 7, 10, 7, 2, 5, 2, 7, 7, 9, 3, 5, 7, 8, 12, 10, 12, 6, 10, 8, 5, 7, 7, 7, 6, 9, 10, 4, 5, 7, 6, 4, 6, 7, 5, 6, 4, 4, 4, 10, 4, 2, 9, 7, 7, 12, 8, 5, 2, 2, 4, 4, 5, 10, 5, 8, 8, 5, 9, 5, 4, 6, 8, 8, 7, 4, 6, 12, 10, 6, 7, 11, 11, 8, 8, 4, 9, 7, 7, 5, 8, 6, 5, 3, 8, 7, 7, 5, 10, 6, 4, 10, 10, 6, 9, 11, 9, 7, 12, 9, 7, 6, 7, 8, 8, 4, 3, 7, 6, 8, 7, 3, 2, 6, 8, 11, 8, 7, 6, 3, 9, 6, 3, 8, 5, 8, 6, 7, 8, 3, 7, 7, 6, 5, 9, 5, 6, 6, 8, 6, 2, 6, 11, 4, 11, 6, 4, 10, 7, 4, 5, 3, 9, 9, 6, 4, 7, 4, 5, 11, 8, 10, 6, 6, 3, 8, 7, 2, 5, 10, 7, 8, 7, 10, 9, 10, 9, 11, 8, 7, 9, 8, 6, 9, 9, 6, 3, 7, 9, 8, 8, 11, 3, 7, 7, 8, 2, 10, 9, 6, 2, 6, 7, 8, 8, 3, 3, 6, 6, 6, 7, 9, 7, 7, 6, 9, 9, 6, 4, 3, 6, 5, 7, 9, 8, 7, 5, 6, 12, 8, 7, 9, 9, 8, 7, 7, 11, 10, 3, 6, 9, 8, 4, 11, 7, 3, 7, 5, 10, 7, 9, 9, 5, 5, 4, 10, 9, 10, 6, 8, 4, 9, 7, 8, 9, 10, 4, 4, 11, 3, 6, 2, 6, 5, 8, 4, 8, 5, 6, 9, 9, 10, 7, 7, 9, 5, 6, 7, 6, 3, 6, 12, 12, 6, 10, 4, 3, 9, 6, 10, 8, 10, 5, 7, 9, 7, 4, 5, 7, 11, 5, 4, 7, 4, 7, 8, 7, 11, 3, 12, 6, 9, 4, 5, 9, 7, 11, 3, 4, 6, 7, 5, 4, 2, 6, 4, 3, 7, 9, 6, 7, 7, 11, 8, 5, 8, 9, 12, 8, 9, 8, 8, 9, 8, 6, 7, 5, 6, 12, 9, 3, 8, 2, 12, 6, 11, 5, 11, 9, 12, 5, 10, 10, 3, 3, 6, 6, 8, 9, 8, 9, 2, 8, 8, 5, 9, 12, 6, 7, 11, 3, 7, 7, 8, 7, 7, 7, 9, 7, 5, 5, 11, 12, 7, 7, 6, 9, 11, 4, 6, 10, 9, 8, 6, 9, 6, 5, 7, 7, 7, 11, 6, 3, 4, 4, 4, 6, 9, 7, 8, 6, 5, 8, 10, 8, 10, 3, 10, 9, 4, 8, 7, 5, 6, 8, 6, 4, 9, 10, 11, 4, 7, 6, 7, 9, 3, 4, 4, 8, 4, 3, 5, 9, 3, 9, 5, 7, 10, 11, 9, 8, 6, 12, 11, 9, 9, 2, 10, 9, 11, 7, 6, 7, 7, 4, 6, 7, 3, 7, 10, 6, 10, 9, 11, 5, 12, 5, 4, 2, 10, 11, 2, 11, 2, 3, 5, 4, 4, 8, 7, 6, 4, 7, 8, 6, 7, 6, 10, 7, 6, 10, 9, 8, 8, 5, 6, 10, 6, 7, 2, 10, 5, 4, 9, 4, 10, 11, 7, 11, 3, 8, 8, 3, 4, 7, 9, 7, 6, 4, 6, 8, 7, 8, 7, 10, 8, 8, 9, 5, 6, 9, 5, 11, 5, 9, 7, 11, 8, 3, 9, 7, 9, 7, 6, 5, 5, 8, 6, 8, 6, 3, 10, 4, 7, 3, 10, 7, 7, 10, 6, 6, 11, 5, 8, 5, 10, 6, 2, 8, 8, 7, 4, 5, 5, 6, 8, 4, 6, 8, 6, 5, 8, 6, 6, 6, 7, 5, 2, 5, 6, 9, 8, 7, 4, 10, 12, 5, 4, 8, 7, 5, 9, 9, 9, 2, 9, 8, 8, 7, 4, 10, 6, 6, 4, 4, 4, 9, 5, 8, 10, 3, 9, 11, 7, 10, 9, 6, 3, 6, 5, 5, 8, 10, 3, 7, 10, 9, 7, 4, 12, 6, 4, 7, 11, 9, 6, 2, 10, 5, 9, 8, 3, 6, 2, 10, 8, 6, 7, 7, 8, 5, 5, 8, 6, 4, 3, 7, 5, 8, 4, 11, 5, 6, 10, 12, 7, 3, 6, 7, 7, 7, 5, 8, 2, 5, 4, 3, 8, 9, 9, 8, 11, 7, 7, 7, 5, 3, 4, 4, 5, 5, 6, 12, 7, 5, 5, 4, 8, 7, 7, 4, 5, 9, 8, 8, 6, 8, 5, 4, 4, 12, 3, 8, 6, 7, 4, 9, 9, 8, 6, 8, 8, 4, 9, 3, 8, 4, 2, 7, 6, 7, 5, 4, 8, 6, 6, 7, 12, 8, 7, 5, 5, 10, 7, 4, 5, 10, 5, 5, 3, 5, 7, 9, 10, 9, 7, 11, 6, 11, 10, 9, 6, 8, 4, 2, 2, 9, 3, 7, 4, 8, 7, 9, 12, 7, 9, 4, 5, 8, 5, 8, 8, 8, 3, 11, 8, 7, 8, 8, 8, 9, 10, 9, 11, 9, 12, 9, 9, 4, 4, 6, 8, 12, 7, 7, 8, 9, 11, 6, 9, 5, 7, 4, 6, 3, 9, 6, 10, 5, 8, 10, 7, 6, 10, 6, 7, 6, 10, 7, 7, 7, 12, 5, 6, 8, 8, 4, 6, 8, 5, 11, 6, 8, 6, 8, 7, 9, 11, 8, 8, 9, 6, 6, 11, 7, 5, 4, 7, 9, 10, 4, 6, 3, 7, 12, 5, 10, 5, 3, 3, 10, 8, 5, 8, 7, 9, 6, 6, 11, 9, 6, 6, 7, 6, 2, 7, 10, 8, 7, 7, 6, 4, 6, 8, 11, 4, 2, 2, 10, 9, 8, 8, 7, 8, 4, 7, 4, 6, 9, 9, 8, 11, 10, 7, 8, 4, 5, 8, 4, 9, 5, 5, 8, 5, 5, 9, 8, 10, 6, 5, 11, 12, 8, 7, 7, 9, 9, 3, 3, 9, 6, 8, 9, 7, 11, 11, 8, 11, 4, 6, 5, 3, 9, 9, 11, 9, 6, 5, 9, 4, 11, 5, 4, 9, 8, 9, 6, 6, 4, 9, 5, 12, 5, 9, 4, 10, 4, 2, 7, 11, 9, 7, 8, 8, 5, 11, 3, 10, 8, 7, 5, 4, 7, 11, 5, 5, 4, 7, 9, 3, 9, 10, 7, 12, 8, 7, 9, 7, 8, 11, 4, 7, 7, 7, 6, 6, 4, 4, 7, 8, 3, 9, 9, 8, 4, 8, 5, 9, 4, 5, 6, 2, 7, 10, 5, 11, 6, 11, 3, 12, 6, 7, 9, 8, 5, 7, 3, 9, 7, 9, 7, 5, 7, 5, 10, 10, 8, 9, 6, 7, 8, 11, 7, 8, 3, 6, 7, 8, 4, 11, 10, 6, 7, 8, 8, 3, 5, 7, 12, 6, 6, 9, 7, 3, 6, 6, 9, 7, 4, 6, 6, 10, 6, 4, 2, 6, 8, 3, 5, 6, 5, 4, 3, 3, 2, 7, 10, 8, 7, 4, 8, 8, 8, 10, 9, 10, 3, 8, 5, 11, 6, 4, 9, 11, 10, 8, 5, 11, 12, 9, 4, 9, 7, 2, 5, 5, 9, 4, 5, 4, 6, 4, 6, 12, 5, 11, 10, 7, 6, 8, 10, 12, 7, 9, 4, 9, 10, 5, 4, 4, 9, 7, 7, 7, 3, 2, 5, 4, 8, 7, 4, 7, 6, 6, 4, 8, 6, 6, 6, 4, 5, 8, 3, 11, 4, 12, 9, 6, 12, 8, 6, 2, 3, 8, 8, 4, 6, 3, 6, 6, 9, 8, 4, 9, 11, 10, 10, 10, 7, 11, 7, 7, 10, 7, 7, 7, 4, 8, 4, 8, 8, 7, 10, 7, 10, 9, 12, 6, 8, 7, 6, 7, 6, 5, 10, 11, 7, 5, 7, 7, 5, 10, 7, 4, 7, 8, 7, 3, 9, 8, 6, 11, 8, 5, 9, 11, 4, 5, 8, 10, 6, 12, 9, 7, 5, 4, 6, 10, 4, 7, 3, 6, 4, 9, 6, 6, 4, 9, 6, 7, 10, 9, 11, 8, 7, 4, 3, 3, 11, 3, 11, 2, 8, 2, 2, 10, 8, 6, 10, 7, 7, 5, 10, 4, 11, 6, 4, 6, 9, 8, 6, 3, 8, 6, 7, 7, 11, 7, 9, 8, 11, 5, 7, 9, 7, 7, 5, 4, 7, 5, 11, 6, 7, 7, 6, 7, 10, 5, 3, 6, 10, 8, 6, 7, 4, 10, 8, 2, 11, 7, 5, 9, 8, 8, 7, 7, 8, 6, 5, 8, 7, 7, 12, 8, 5, 4, 3, 8, 6, 2, 3, 7, 6, 9, 8, 8, 5, 4, 5, 11, 5, 3, 11, 10, 7, 12, 10, 11, 7, 7, 4, 4, 8, 7, 3, 8, 10, 7, 8, 9, 3, 5, 8, 12, 6, 7, 5, 7, 5, 8, 8, 5, 3, 7, 7, 5, 6, 3, 5, 7, 7, 10, 5, 5, 7, 7, 8, 9, 8, 8, 8, 7, 8, 9, 8, 8, 4, 2, 7, 9, 5, 11, 8, 11, 10, 5, 7, 6, 5, 2, 6, 11, 10, 7, 4, 7, 6, 11, 10, 7, 5, 2, 8, 6, 10, 5, 9, 6, 10, 7, 7, 6, 2, 8, 6, 9, 9, 11, 5, 6, 7, 4, 8, 12, 5, 4, 6, 6, 7, 8, 3, 3, 6, 10, 11, 2, 4, 4, 6, 8, 5, 6, 10, 6, 7, 6, 7, 5, 8, 5, 7, 6, 3, 7, 4, 8, 8, 7, 7, 12, 3, 8, 11, 4, 3, 9, 6, 7, 5, 11, 6, 7, 3, 10, 2, 7, 7, 8, 5, 11, 6, 7, 7, 7, 9, 10, 3, 5, 9, 4, 7, 3, 6, 7, 4, 6, 5, 6, 9, 8, 4, 2, 7, 5, 2, 3, 7, 2, 7, 8, 10, 10, 8, 10, 3, 4, 11, 5, 6, 8, 7, 9, 4, 7, 3, 7, 9, 8, 3, 3, 9, 5, 6, 8, 4, 7, 10, 10, 7, 10, 3, 7, 6, 10, 4, 10, 5, 2, 7, 10, 9, 7, 5, 5, 6, 7, 3, 4, 8, 10, 8, 6, 10, 5, 6, 4, 7, 7, 6, 7, 4, 10, 6, 5, 11, 9, 7, 3, 6, 10, 8, 3, 7, 5, 5, 8, 5, 2, 4, 8, 7, 8, 11, 7, 5, 5, 8, 6, 8, 10, 5, 3, 10, 7, 9, 4, 7, 9, 5, 4, 5, 6, 7, 6, 6, 8, 11, 6, 7, 10, 11, 4, 5, 7, 12, 7, 9, 7, 10, 3, 5, 8, 9, 3, 10, 5, 11, 2, 5, 7, 10, 8, 10, 7, 9, 7, 4, 2, 11, 12, 7, 7, 7, 7, 7, 5, 8, 7, 6, 7, 3, 7, 12, 7, 6, 7, 9, 9, 11, 7, 8, 6, 5, 4, 9, 8, 5, 9, 4, 5, 8, 7, 7, 6, 5, 7, 6, 5, 6, 9, 6, 6, 3, 3, 9, 6, 11, 8, 8, 9, 7, 4, 9, 9, 7, 8, 4, 6, 7, 8, 12, 4, 10, 8, 6, 7, 6, 10, 5, 10, 11, 4, 5, 4, 6, 5, 8, 9, 7, 8, 11, 8, 7, 2, 8, 3, 5, 7, 5, 5, 6, 4, 8, 11, 6, 12, 7, 6, 7, 6, 5, 5, 9, 9, 9, 9, 7, 3, 2, 9, 5, 7, 8, 9, 6, 7, 8, 7, 7, 7, 9, 10, 6, 10, 9, 10, 7, 5, 5, 5, 11, 10, 5, 6, 3, 5, 7, 10, 3, 5, 10, 6, 7, 8, 6, 8, 4, 6, 8, 12, 8, 4, 5, 4, 7, 5, 9, 3, 6, 4, 4, 5, 7, 7, 9, 6, 9, 9, 11, 9, 7, 9, 4, 7, 5, 6, 7, 6, 8, 8, 8, 9, 6, 6, 8, 6, 9, 9, 9, 5, 11, 3, 4, 10, 6, 8, 6, 11, 9, 4, 6, 3, 10, 6, 5, 7, 5, 8, 5, 8, 6, 11, 6, 9, 3, 8, 6, 11, 6, 7, 4, 9, 7, 4, 7, 9, 11, 9, 4, 2, 10, 5, 10, 6, 8, 8, 5, 8, 12, 6, 12, 7, 7, 8, 10, 4, 9, 10, 4, 8, 9, 8, 5, 10, 6, 5, 6, 8, 10, 7, 9, 7, 2, 9, 7, 6, 4, 8, 9, 6, 6, 7, 6, 6, 7, 10, 9, 9, 3, 7, 9, 5, 9, 7, 4, 8, 7, 5, 6, 3, 5, 8, 3, 3, 9, 6, 7, 8, 4, 7, 10, 7, 6, 7, 10, 9, 7, 5, 7, 6, 7, 5, 8, 8, 7, 4, 9, 8, 12, 6, 8, 6, 2, 9, 10, 6, 9, 5, 9, 6, 7, 7, 6, 4, 7, 8, 5, 5, 11, 7, 8, 5, 9, 9, 6, 10, 9, 4, 8, 2, 12, 6, 7, 5, 7, 5, 5, 6, 5, 8, 8, 3, 8, 8, 7, 7, 8, 9, 6, 7, 8, 8, 7, 3, 4, 8, 9, 7, 10, 6, 2, 7, 4, 8, 9, 8, 4, 6, 5, 7, 4, 8, 5, 10, 8, 9, 8, 8, 7, 6, 7, 7, 9, 8, 4, 5, 10, 9, 8, 4, 11, 10, 8, 4, 3, 9, 5, 3, 12, 10, 11, 7, 2, 7, 3, 2, 8, 8, 9, 11, 7, 8, 5, 12, 6, 5, 9, 6, 11, 5, 8, 9, 7, 3, 4, 12, 7, 3, 7, 8, 6, 10, 8, 8, 9, 7, 9, 8, 5, 11, 3, 9, 6, 6, 11, 12, 8, 4, 7, 2, 7, 7, 11, 10, 8, 3, 8, 6, 8, 5, 12, 3, 10, 10, 4, 10, 8, 8, 6, 6, 10, 9, 8, 7, 5, 4, 4, 7, 3, 8, 6, 9, 8, 11, 9, 8, 2, 4, 9, 7, 6, 8, 6, 7, 6, 8, 5, 5, 10, 3, 9, 2, 7, 10, 9, 7, 7, 8, 4, 7, 6, 5, 11, 2, 2, 3, 7, 5, 5, 7, 9, 6, 5, 7, 7, 4, 8, 9, 10, 10, 8, 6, 9, 8, 8, 7, 10, 12, 12, 5, 4, 6, 9, 8, 12, 3, 9, 10, 7, 11, 7, 11, 7, 12, 7, 4, 5, 6, 12, 7, 3, 5, 9, 5, 6, 7, 7, 7, 4, 10, 3, 6, 9, 11, 6, 4, 8, 8, 9, 5, 7, 6, 6, 7, 6, 8, 7, 6, 10, 7, 3, 6, 3, 6, 8, 7, 7, 6, 4, 3, 8, 7, 8, 5, 2, 8, 10, 6, 11, 4, 8, 4, 7, 7, 8, 12, 10, 8, 8, 5, 10, 9, 2, 7, 9, 9, 12, 8, 7, 6, 11, 8, 6, 4, 4, 4, 3, 6, 4, 6, 8, 6, 4, 8, 8, 8, 4, 7, 7, 9, 6, 6, 9, 7, 10, 3, 9, 5, 7, 6, 5, 7, 4, 6, 4, 8, 7, 10, 8, 7, 3, 9, 8, 4, 8, 8, 7, 4, 6, 8, 5, 6, 5, 5, 3, 9, 5, 5, 5, 9, 3, 3, 4, 10, 10, 7, 4, 10, 8, 11, 5, 6, 8, 6, 11, 7, 5, 8, 3, 11, 4, 8, 9, 5, 7, 12, 3, 5, 6, 10, 8, 5, 9, 8, 4, 8, 6, 12, 7, 8, 9, 4, 7, 6, 7, 3, 7, 4, 6, 10, 4, 7, 10, 9, 8, 4, 4, 2, 7, 7, 10, 9, 6, 3, 5, 12, 7, 7, 7, 6, 4, 9, 8, 4, 8, 2, 6, 12, 5, 11, 8, 7, 10, 8, 7, 8, 4, 5, 5, 7, 7, 10, 5, 10, 7, 6, 9, 9, 3, 7, 9, 10, 7, 3, 7, 7, 8, 6, 12, 11, 8, 7, 12, 6, 6, 7, 12, 6, 3, 6, 6, 9, 11, 9, 10, 3, 3, 11, 12, 8, 8, 6, 5, 9, 6, 11, 6, 4, 10, 3, 11, 12, 7, 10, 4, 6, 10, 2, 8, 3, 7, 4, 5, 3, 6, 10, 10, 7, 11, 11, 8, 8, 7, 5, 6, 2, 5, 5, 10, 9, 10, 10, 5, 5, 5, 12, 10, 8, 7, 10, 8, 8, 11, 9, 6, 2, 5, 7, 7, 10, 11, 6, 6, 9, 9, 7, 9, 9, 6, 2, 10, 4, 2, 7, 8, 5, 2, 5, 5, 3, 7, 12, 8, 6, 5, 6, 4, 4, 6, 6, 8, 8, 11, 4, 9, 4, 10, 10, 7, 6, 11, 9, 5, 10, 6, 12, 10, 8, 10, 8, 9, 2, 7, 12, 8, 5, 8, 4, 8, 3, 5, 3, 6, 11, 11, 8, 9, 7, 8, 6, 6, 7, 7, 10, 7, 10, 7, 9, 9, 10, 8, 8, 6, 10, 5, 5, 6, 6, 8, 7, 6, 8, 7, 5, 6, 3, 7, 4, 12, 10, 9, 12, 6, 8, 7, 7, 3, 7, 7, 3, 8, 9, 5, 2, 7, 6, 7, 7, 6, 5, 9, 2, 5, 8, 7, 6, 9, 8, 11, 7, 10, 7, 9, 10, 2, 5, 2, 6, 5, 9, 5, 7, 9, 8, 12, 7, 4, 3, 4, 11, 6, 7, 4, 7, 6, 8, 8, 8, 6, 7, 9, 7, 11, 5, 10, 9, 8, 7, 7, 7, 6, 6, 10, 6, 9, 5, 10, 6, 2, 2, 3, 4, 6, 9, 8, 4, 10, 6, 4, 4, 9, 8, 7, 3, 5, 2, 11, 10, 3, 4, 7, 7, 5, 9, 6, 3, 10, 7, 9, 10, 8, 4, 10, 6, 6, 5, 5, 2, 5, 6, 2, 8, 12, 12, 10, 10, 8, 12, 6, 6, 2, 6, 7, 10, 7, 6, 6, 7, 7, 7, 5, 6, 10, 6, 8, 6, 8, 3, 8, 3, 10, 12, 6, 5, 4, 5, 5, 7, 8, 6, 10, 8, 5, 10, 6, 3, 7, 7, 4, 10, 6, 6, 10, 6, 3, 7, 7, 10, 9, 4, 7, 4, 9, 6, 6, 8, 8, 7, 10, 10, 11, 11, 10, 6, 5, 6, 8, 7, 9, 7, 9, 4, 9, 5, 7, 5, 7, 9, 9, 7, 12, 5, 9, 5, 2, 10, 7, 6, 5, 5, 6, 8, 6, 6, 5, 6, 5, 7, 7, 5, 4, 7, 10, 10, 7, 7, 6, 5, 5, 10, 6, 3, 3, 10, 11, 12, 4, 5, 2, 4, 11, 4, 7, 11, 10, 10, 12, 5, 7, 10, 12, 12, 3, 7, 8, 3, 2, 7, 10, 6, 8, 5, 11, 6, 6, 4, 9, 10, 6, 6, 7, 4, 4, 7, 11, 8, 5, 4, 8, 6, 11, 7, 10, 6, 4, 4, 5, 8, 9, 9, 4, 8, 9, 5, 6, 7, 8, 5, 3, 9, 3, 10, 8, 6, 7, 7, 11, 6, 7, 4, 9, 4, 7, 4, 5, 7, 6, 9, 6, 6, 8, 10, 3, 8, 6, 3, 7, 6, 9, 11, 8, 7, 8, 10, 9, 9, 7, 4, 7, 8, 10, 3, 9, 7, 4, 8, 4, 8, 7, 12, 9, 9, 3, 8, 7, 3, 5, 9, 7, 4, 4, 6, 8, 6, 4, 11, 11, 3, 8, 9, 7, 9, 8, 4, 6, 7, 8, 6, 5, 9, 8, 9, 7, 2, 10, 7, 10, 6, 9, 7, 10, 9, 11, 6, 4, 8, 8, 10, 6, 6, 8, 12, 4, 2, 5, 2, 4, 5, 8, 5, 3, 12, 4, 5, 8, 4, 6, 6, 4, 10, 8, 6, 3, 8, 10, 7, 4, 2, 8, 7, 7, 6, 4, 8, 9, 12, 12, 3, 6, 6, 7, 4, 4, 4, 6, 3, 6, 9, 9, 5, 6, 8, 10, 7, 8, 12, 11, 5, 10, 7, 5, 6, 10, 3, 7, 6, 10, 5, 9, 4, 8, 7, 8, 4, 8, 7, 10, 5, 3, 7, 7, 8, 4, 7, 8, 3, 9, 2, 7, 7, 7, 8, 5, 3, 8, 9, 5, 7, 6, 8, 4, 9, 11, 10, 11, 3, 6, 10, 8, 8, 8, 9, 4, 6, 6, 8, 10, 5, 6, 7, 5, 9, 6, 5, 5, 6, 7, 9, 3, 8, 5, 10, 7, 8, 8, 9, 10, 3, 12, 12, 9, 6, 4, 4, 3, 7, 10, 9, 5, 5, 5, 7, 10, 7, 9, 8, 6, 8, 8, 7, 2, 3, 3, 7, 12, 4, 7, 5, 12, 5, 9, 9, 9, 7, 9, 8, 11, 4, 9, 9, 7, 5, 8, 6, 8, 7, 3, 7, 3, 6, 7, 6, 5, 6, 7, 3, 6, 4, 9, 5, 9, 11, 7, 6, 8, 5, 4, 9, 11, 8, 6, 4, 7, 7, 7, 4, 5, 7, 10, 6, 4, 9, 5, 4, 5, 7, 10, 8, 10, 9, 4, 7, 11, 7, 8, 8, 3, 9, 5, 10, 8, 11, 7, 7, 5, 8, 7, 11, 10, 2, 10, 6, 6, 8, 8, 9, 10, 9, 9, 6, 4, 6, 10, 7, 10, 9, 9, 7, 3, 8, 5, 9, 6, 9, 7, 8, 7, 7, 7, 5, 9, 6, 9, 9, 7, 4, 5, 7, 9, 7, 10, 5, 6, 4, 5, 5, 11, 10, 11, 6, 8, 8, 5, 9, 7, 11, 6, 8, 10, 9, 12, 2, 7, 6, 12, 9, 8, 10, 6, 4, 9, 8, 8, 9, 7, 2, 6, 7, 10, 6, 4, 5, 9, 12, 6, 3, 11, 8, 5, 5, 7, 7, 6, 6, 4, 9, 7, 4, 6, 4, 3, 6, 7, 6, 7, 8, 6, 10, 9, 6, 3, 6, 6, 6, 8, 3, 7, 9, 8, 8, 8, 4, 7, 8, 6, 6, 11, 10, 11, 4, 7, 3, 2, 6, 10, 5, 8, 10, 11, 8, 11, 8, 2, 3, 6, 4, 5, 6, 10, 7, 6, 9, 10, 4, 8, 3, 7, 6, 4, 7, 6, 3, 5, 6, 9, 6, 8, 8, 9, 9, 9, 8, 5, 9, 6, 7, 5, 9, 7, 7, 9, 7, 6, 11, 5, 8, 5, 8, 7, 12, 10, 9, 7, 9, 11, 4, 11, 2, 7, 7, 2, 8, 9, 6, 8, 7, 8, 11, 2, 4, 3, 11, 7, 9, 6, 8, 7, 2, 2, 10, 9, 7, 6, 11, 7, 6, 11, 5, 8, 5, 12, 5, 3, 9, 6, 8, 11, 11, 9, 7, 7, 5, 11, 5, 9, 7, 7, 8, 3, 7, 6, 2, 8, 7, 4, 5, 6, 7, 8, 8, 2, 2, 7, 8, 4, 6, 10, 5, 7, 5, 3, 7, 11, 2, 4, 7, 7, 6, 8, 3, 8, 9, 6, 7, 5, 9, 10, 11, 3, 9, 10, 12, 2, 6, 5, 4, 9, 8, 5, 2, 4, 9, 8, 8, 10, 6, 8, 7, 5, 12, 3, 4, 10, 6, 9, 5, 7, 3, 9, 9, 12, 4, 3, 3, 7, 11, 6, 9, 10, 7, 10, 8, 11, 10, 10, 8, 12, 9, 12, 8, 5, 8, 5, 10, 5, 4, 9, 6, 5, 6, 3, 8, 12, 6, 6, 12, 6, 9, 11, 5, 5, 8, 7, 6, 8, 8, 4, 9, 6, 6, 7, 12, 3, 5, 4, 11, 5, 9, 5, 4, 12, 5, 10, 11, 7, 12, 10, 7, 6, 9, 8, 6, 6, 5, 4, 3, 2, 8, 11, 6, 8, 9, 6, 8, 8, 10, 10, 12, 6, 7, 6, 8, 3, 7, 5, 10, 11, 7, 3, 4, 6, 11, 7, 3, 7, 5, 11, 5, 11, 5, 3, 12, 4, 4, 7, 4, 8, 7, 6, 7, 5, 8, 10, 7, 8, 5, 8, 9, 5, 10, 3, 10, 7, 9, 11, 8, 10, 3, 3, 10, 7, 5, 3, 11, 7, 7, 7, 10, 5, 9, 6, 6, 6, 9, 7, 10, 9, 7, 10, 10, 5, 6, 8, 7, 5, 3, 11, 8, 5, 5, 3, 6, 4, 8, 11, 10, 3, 11, 8, 2, 7, 5, 7, 5, 10, 7, 6, 5, 8, 6, 9, 2, 9, 9, 9, 9, 7, 9, 10, 3, 7, 7, 6, 7, 6, 5, 3, 7, 7, 7, 6, 10, 8, 4, 5, 5, 5, 6, 8, 12, 12, 8, 11, 7, 9, 9, 8, 3, 9, 6, 8, 8, 9, 8, 11, 9, 8, 12, 8, 2, 7, 2, 9, 9, 9, 9, 5, 5, 9, 9, 4, 9, 6, 10, 8, 7, 10, 8, 6, 6, 7, 5, 8, 4, 7, 10, 6, 6, 7, 8, 6, 5, 9, 8, 7, 11, 8, 11, 8, 4, 6, 7, 8, 5, 3, 5, 5, 10, 12, 4, 5, 9, 11, 5, 7, 8, 6, 4, 7, 4, 4, 6, 9, 3, 2, 6, 12, 5, 9, 7, 10, 6, 5, 6, 6, 7, 6, 6, 2, 9, 5, 6, 8, 5, 4, 10, 7, 8, 10, 9, 11, 8, 10, 10, 8, 9, 3, 10, 4, 12, 12, 6, 7, 10, 3, 8, 4, 10, 4, 7, 4, 7, 8, 9, 12, 11, 11, 10, 7, 9, 6, 11, 8, 6, 7, 8, 10, 10, 9, 8, 6, 11, 7, 10, 6, 6, 8, 4, 5, 3, 8, 2, 7, 8, 7, 3, 6, 7, 5, 11, 10, 8, 3, 9, 3, 8, 10, 7, 9, 7, 8, 5, 9, 5, 5, 9, 8, 6, 7, 8, 3, 7, 8, 9, 8, 5, 3, 9, 6, 7, 5, 7, 11, 6, 11, 2, 9, 10, 6, 11, 6, 5, 7, 5, 11, 4, 6, 4, 7, 9, 5, 6, 5, 5, 2, 9, 5, 5, 12, 8, 2, 3, 5, 7, 6, 3, 6, 9, 6, 6, 7, 7, 5, 5, 7, 5, 4, 7, 5, 8, 8, 5, 3, 8, 7, 7, 8, 6, 12, 6, 7, 7, 7, 6, 11, 12, 8, 6, 6, 3, 10, 8, 6, 5, 11, 10, 10, 11, 3, 10, 8, 7, 10, 10, 10, 3, 7, 4, 2, 6, 8, 7, 9, 8, 7, 4, 10, 8, 5, 7, 7, 6, 5, 9, 5, 10, 2, 5, 7, 9, 9, 5, 5, 8, 7, 7, 10, 7, 9, 8, 4, 7, 6, 6, 11, 11, 10, 7, 9, 3, 7, 5, 6, 8, 11, 6, 11, 6, 5, 12, 9, 7, 9, 5, 4, 8, 5, 8, 8, 9, 6, 9, 6, 9, 8, 8, 5, 12, 12, 8, 8, 3, 6, 3, 8, 9, 11, 9, 4, 6, 7, 10, 9, 4, 6, 7, 5, 7, 9, 7, 9, 10, 4, 7, 9, 8, 6, 6, 8, 10, 4, 6, 7, 8, 5, 3, 8, 8, 8, 7, 6, 11, 5, 6, 4, 10, 8, 12, 8, 12, 10, 4, 5, 2, 4, 7, 7, 10, 3, 7, 4, 6, 4, 6, 11, 3, 5, 8, 3, 10, 7, 6, 7, 9, 5, 6, 4, 11, 9, 10, 5, 8, 7, 6, 8, 8, 6, 9, 9, 8, 8, 8, 7, 3, 10, 10, 8, 5, 7, 10, 6, 10, 12, 6, 4, 4, 6, 7, 11, 4, 6, 7, 4, 9, 8, 5, 9, 6, 11, 5, 7, 7, 5, 10, 7, 6, 8, 9, 7, 7, 10, 10, 9, 9, 9, 3, 11, 8, 5, 4, 11, 6, 8, 6, 9, 6, 9, 11, 6, 10, 2, 7, 10, 6, 10, 11, 8, 6, 12, 7, 3, 4, 7, 5, 7, 6, 2, 8, 8, 6, 9, 9, 2, 9, 7, 9, 5, 11, 7, 2, 4, 12, 6, 12, 8, 5, 8, 10, 10, 9, 11, 7, 8, 9, 6, 3, 3, 9, 10, 5, 11, 6, 9, 9, 6, 7, 7, 8, 2, 6, 5, 3, 6, 2, 6, 4, 10, 7, 9, 11, 5, 8, 7, 6, 6, 8, 6, 2, 9, 6, 6, 6, 2, 10, 6, 8, 6, 7, 5, 8, 8, 7, 5, 10, 7, 4, 7, 3, 7, 4, 6, 10, 9, 5, 6, 9, 2, 7, 5, 8, 9, 7, 6, 6, 6, 9, 5, 10, 7, 7, 5, 2, 7, 3, 7, 7, 8, 10, 11, 8, 7, 5, 3, 4, 6, 11, 5, 4, 6, 6, 8, 4, 9, 8, 10, 6, 5, 8, 4, 11, 7, 5, 7, 9, 9, 4, 5, 9, 7, 7, 8, 6, 2, 8, 2, 8, 7, 9, 6, 8, 10, 7, 6, 6, 4, 9, 8, 2, 6, 10, 6, 7, 11, 9, 9, 4, 7, 6, 8, 4, 4, 6, 12, 6, 9, 5, 10, 8, 8, 4, 8, 8, 11, 6, 4, 7, 6, 4, 6, 8, 10, 4, 9, 11, 8, 8, 8, 7, 4, 5, 9, 4, 11, 7, 8, 3, 10, 6, 6, 11, 3, 10, 8, 4, 6, 7, 7, 9, 6, 5, 7, 9, 12, 10, 6, 6, 5, 8, 6, 8, 7, 6, 5, 7, 7, 7, 7, 6, 5, 6, 6, 5, 5, 4, 5, 6, 5, 3, 12, 7, 7, 5, 5, 5, 9, 3, 6, 6, 5, 7, 3, 8, 5, 6, 5, 10, 9, 5, 7, 10, 7, 12, 8, 10, 8, 11, 4, 7, 5, 9, 9, 7, 5, 8, 7, 5, 9, 10, 6, 9, 10, 6, 5, 7, 11, 7, 8, 6, 5, 11, 4, 7, 7, 9, 9, 9, 9, 8, 3, 7, 9, 8, 3, 12, 10, 7, 7, 4, 6, 5, 6, 10, 4, 4, 6, 6, 11, 5, 4, 10, 9, 4, 6, 5, 6, 4, 8, 6, 8, 8, 6, 8, 6, 7, 11, 8, 7, 2, 6, 3, 8, 7, 4, 2, 3, 2, 4, 11, 11, 11, 10, 10, 8, 6, 8, 5, 7, 3, 9, 8, 8, 8, 5, 11, 6, 5, 8, 9, 5, 8, 5, 7, 9, 11, 9, 11, 9, 3, 9, 9, 9, 6, 7, 4, 8, 4, 8, 7, 2, 5, 8, 8, 7, 9, 5, 4, 10, 8, 10, 6, 9, 5, 5, 7, 6, 8, 9, 9, 8, 7, 9, 4, 2, 7, 9, 8, 7, 8, 8, 3, 2, 10, 8, 10, 7, 7, 7, 3, 9, 4, 7, 10, 12, 12, 8, 12, 9, 3, 7, 8, 8, 8, 3, 6, 11, 5, 5, 4, 4, 10, 8, 7, 3, 8, 3, 8, 9, 3, 8, 6, 8, 2, 10, 11, 9, 7, 11, 9, 8, 6, 7, 4, 11, 3, 6, 4, 8, 6, 4, 5, 11, 8, 10, 7, 6, 3, 4, 9, 6, 7, 6, 4, 9, 8, 8, 8, 7, 11, 5, 9, 9, 8, 9, 5, 11, 3, 7, 11, 4, 9, 5, 12, 7, 5, 6, 9, 9, 10, 9, 10, 6, 3, 7, 3, 5, 5, 6, 12, 7, 8, 11, 5, 6, 3, 7, 5, 8, 11, 4, 6, 3, 3, 4, 6, 11, 4, 8, 7, 6, 8, 5, 3, 5, 4, 7, 5, 9, 6, 11, 8, 6, 7, 8, 10, 4, 5, 6, 8, 7, 9, 6, 9, 4, 8, 2, 11, 9, 5, 7, 6, 9, 6, 6, 10, 3, 7, 6, 10, 5, 5, 8, 7, 6, 4, 9, 5, 7, 9, 5, 9, 5, 4, 7, 6, 2, 8, 7, 8, 9, 6, 7, 7, 6, 4, 4, 4, 7, 7, 9, 9, 8, 9, 7, 5, 8, 8, 8, 7, 7, 3, 10, 8, 4, 5, 10, 10, 8, 8, 12, 7, 7, 5, 5, 3, 4, 7, 4, 3, 11, 4, 8, 4, 2, 5, 7, 9, 7, 11, 10, 7, 5, 9, 11, 11, 5, 9, 5, 5, 6, 8, 6, 5, 8, 7, 6, 3, 8, 5, 9, 5, 9, 6, 6, 12, 7, 9, 8, 2, 2, 10, 7, 10, 5, 8, 8, 2, 5, 5, 7, 9, 9, 7, 11, 7, 9, 5, 5, 11, 5, 7, 5, 5, 7, 11, 8, 5, 9, 5, 10, 7, 6, 6, 6, 9, 9, 5, 7, 5, 7, 7, 11, 9, 11, 8, 4, 6, 6, 10, 11, 7, 7, 5, 11, 3, 6, 5, 11, 10, 9, 12, 9, 11, 9, 7, 6, 9, 10, 6, 11, 9, 6, 6, 7, 2, 6, 8, 3, 7, 6, 9, 8, 11, 2, 10, 7, 5, 7, 7, 9, 6, 4, 7, 6, 6, 7, 7, 11, 5, 4, 10, 6, 8, 9, 5, 6, 11, 12, 7, 8, 6, 10, 7, 4, 4, 9, 9, 9, 8, 6, 2, 7, 7, 8, 4, 5, 5, 9, 9, 3, 3, 7, 4, 11, 6, 9, 10, 11, 8, 6, 7, 7, 7, 7, 4, 8, 5, 6, 6, 4, 9, 8, 7, 9, 7, 10, 7, 5, 5, 8, 10, 2, 6, 8, 2, 4, 10, 8, 8, 7, 10, 3, 4, 2, 7, 8, 7, 8, 6, 6, 4, 7, 8, 8, 8, 5, 11, 8, 8, 9, 7, 8, 6, 7, 7, 9, 9, 9, 9, 8, 2, 6, 6, 9, 8, 6, 6, 8, 8, 9, 7, 10, 12, 5, 8, 11, 4, 7, 8, 3, 9, 7, 3, 8, 8, 10, 5, 5, 7, 12, 5, 8, 6, 7, 5, 11, 4, 12, 8, 6, 5, 11, 5, 2, 6, 10, 8, 11, 5, 11, 7, 8, 8, 11, 6, 11, 7, 9, 5, 4, 2, 6, 11, 5, 8, 3, 4, 7, 5, 3, 10, 7, 8, 9, 10, 5, 6, 3, 5, 10, 3, 4, 6, 4, 11, 8, 7, 6, 9, 8, 4, 4, 5, 12, 4, 7, 8, 3, 7, 10, 6, 5, 8, 11, 8, 8, 9, 10, 9, 3, 9, 8, 10, 4, 3, 7, 9, 10, 8, 2, 8, 6, 2, 7, 11, 8, 11, 9, 2, 7, 9, 7, 12, 10, 7, 5, 9, 12, 5, 5, 9, 8, 5, 11, 9, 12, 11, 3, 3, 6, 7, 9, 8, 8, 5, 7, 6, 2, 2, 4, 7, 10, 6, 11, 8, 10, 6, 5, 4, 6, 7, 7, 9, 4, 5, 2, 10, 8, 8, 7, 8, 10, 6, 9, 3, 6, 4, 7, 8, 8, 6, 4, 6, 7, 10, 11, 10, 5, 8, 3, 6, 6, 6, 7, 6, 9, 7, 5, 3, 9, 10, 3, 9, 2, 4, 6, 3, 5, 6, 7, 8, 11, 6, 7, 10, 6, 8, 2, 5, 5, 8, 10, 9, 2, 5, 4, 6, 8, 10, 2, 8, 4, 2, 6, 5, 6, 7, 8, 7, 4, 7, 5, 2, 11, 5, 11, 6, 5, 4, 7, 8, 4, 11, 7, 6, 9, 12, 7, 8, 7, 8, 8, 3, 6, 8, 11, 12, 9, 9, 7, 5, 4, 8, 6, 10, 6, 8, 10, 4, 6, 9, 4, 7, 9, 4, 7, 3, 6, 9, 10, 8, 7, 5, 5, 10, 7, 11, 12, 8, 3, 9, 7, 10, 8, 10, 8, 6, 11, 5, 5, 3, 5, 2, 11, 6, 10, 9, 9, 7, 7, 6, 9, 8, 5, 5, 6, 11, 9, 10, 6, 8, 6, 9, 5, 5, 9, 8, 12, 5, 11, 4, 7, 5, 7, 7, 7, 5, 12, 5, 7, 4, 3, 3, 5, 2, 6, 9, 9, 6, 4, 4, 11, 7, 2, 9, 7, 8, 3, 8, 9, 10, 7, 7, 2, 7, 6, 9, 3, 7, 3, 4, 4, 8, 9, 6, 7, 11, 10, 8, 5, 7, 5, 5, 12, 3, 7, 7, 6, 12, 9, 8, 12, 8, 4, 5, 9, 11, 7, 7, 6, 8, 4, 9, 11, 9, 6, 5, 4, 8, 5, 6, 12, 11, 4, 7, 9, 9, 3, 10, 7, 10, 6, 8, 8, 6, 4, 8, 7, 9, 7, 7, 7, 10, 12, 10, 8, 10, 10, 9, 10, 8, 6, 5, 9, 7, 7, 4, 8, 3, 9, 6, 10, 9, 3, 5, 5, 8, 3, 7, 6, 8, 6, 9, 11, 6, 7, 9, 3, 2, 8, 8, 9, 8, 3, 9, 7, 5, 8, 6, 11, 6, 6, 3, 9, 4, 9, 7, 3, 8, 8, 10, 4, 5, 12, 8, 6, 6, 9, 12, 4, 4, 7, 6, 8, 11, 9, 9, 11, 5, 8, 9, 12, 6, 7, 7, 5, 11, 7, 3, 7, 8, 8, 10, 7, 9, 9, 7, 7, 7, 6, 10, 11, 3, 6, 7, 3, 7, 7, 7, 8, 8, 3, 7, 10, 12, 7, 9, 5, 11, 7, 7, 8, 6, 8, 10, 5, 6, 6, 9, 6, 7, 6, 3, 3, 7, 8, 8, 10, 8, 11, 7, 6, 7, 6, 6, 6, 10, 12, 7, 5, 11, 5, 12, 9, 5, 5, 11, 6, 3, 7, 6, 5, 10, 6, 8, 7, 5, 8, 9, 12, 6, 6, 10, 7, 8, 5, 8, 5, 5, 9, 7, 3, 6, 7, 7, 5, 8, 6, 10, 5, 7, 6, 7, 10, 9, 8, 11, 7, 9, 3, 9, 9, 6, 4, 10, 6, 12, 5, 7, 11, 4, 10, 8, 6, 10, 3, 11, 10, 5, 7, 9, 7, 3, 11, 5, 11, 11, 9, 5, 9, 4, 6, 6, 6, 11, 8, 7, 2, 5, 9, 2, 4, 9, 9, 11, 9, 5, 11, 8, 5, 4, 5, 7, 9, 10, 6, 7, 9, 5, 8, 9, 5, 5, 10, 9, 9, 9, 10, 7, 7, 9, 7, 7, 6, 4, 5, 11, 6, 8, 11, 7, 9, 4, 9, 10, 6, 8, 9, 8, 11, 10, 4, 8, 8, 7, 7, 7, 9, 6, 7, 7, 3, 7, 11, 6, 7, 6, 3, 5, 8, 7, 9, 8, 8, 11, 8, 9, 7, 10, 4, 5, 9, 12, 9, 4, 8, 8, 7, 11, 12, 2, 8, 12, 9, 7, 7, 8, 10, 3, 6, 8, 7, 11, 10, 12, 7, 8, 4, 4, 10, 6, 8, 4, 6, 3, 6, 6, 7, 5, 6, 8, 4, 5, 8, 6, 4, 5, 6, 7, 4, 5, 9, 11, 4, 6, 9, 5, 4, 5, 5, 7, 7, 8, 10, 5, 12, 9, 9, 7, 8, 5, 5, 5, 5, 11, 7, 8, 5, 6, 6, 9, 6, 8, 7, 12, 7, 2, 6, 8, 8, 5, 5, 12, 8, 6, 8, 7, 4, 9, 4, 6, 7, 3, 7, 7, 3, 5, 11, 9, 7, 6, 8, 9, 7, 9, 12, 5, 6, 6, 12, 6, 9, 9, 4, 8, 10, 4, 8, 4, 8, 3, 6, 3, 7, 9, 8, 4, 5, 6, 8, 3, 6, 10, 6, 5, 7, 3, 5, 5, 4, 4, 3, 9, 5, 8, 5, 8, 7, 4, 7, 6, 7, 8, 8, 4, 8, 9, 4, 5, 9, 8, 4, 7, 4, 7, 7, 6, 11, 6, 8, 9, 7, 7, 12, 5, 7, 8, 9, 3, 10, 6, 11, 9, 4, 4, 7, 6, 10, 9, 5, 6, 10, 5, 5, 6, 9, 8, 8, 9, 8, 12, 4, 9, 4, 6, 11, 3, 8, 7, 10, 8, 3, 8, 6, 8, 9, 6, 7, 5, 8, 4, 4, 3, 12, 6, 9, 9, 7, 3, 8, 6, 7, 3, 7, 7, 10, 6, 10, 2, 2, 8, 10, 4, 5, 8, 5, 7, 11, 8, 4, 5, 8, 9, 7, 3, 11, 11, 3, 6, 5, 10, 8, 11, 9, 7, 7, 3, 6, 6, 5, 5, 3, 9, 5, 3, 8, 12, 5, 8, 9, 12, 6, 7, 9, 12, 8, 2, 8, 5, 10, 2, 5, 7, 6, 12, 9, 4, 6, 8, 11, 2, 7, 6, 10, 5, 8, 6, 11, 3, 5, 7, 6, 9, 3, 9, 10, 7, 6, 9, 5, 11, 12, 7, 8, 6, 9, 10, 9, 10, 3, 5, 11, 9, 3, 12, 10, 12, 5, 5, 8, 7, 6, 4, 5, 7, 11, 9, 8, 8, 4, 11, 7, 8, 7, 4, 10, 6, 5, 4, 11, 6, 10, 6, 7, 6, 5, 6, 4, 4, 8, 8, 6, 11, 4, 8, 6, 6, 7, 8, 12, 12, 3, 7, 7, 10, 6, 11, 6, 5, 2, 9, 2, 8, 3, 12, 12, 5, 7, 10, 9, 6, 4, 10, 9, 10, 7, 8, 10, 3, 11, 7, 3, 8, 7, 2, 3, 11, 7, 4, 10, 10, 8, 6, 9, 9, 4, 4, 3, 3, 5, 5, 7, 10, 7, 2, 3, 8, 5, 8, 8, 4, 5, 11, 9, 9, 6, 7, 5, 4, 8, 3, 6, 6, 2, 5, 4, 7, 11, 8, 3, 7, 5, 8, 12, 3, 9, 7, 10, 4, 7, 9, 6, 8, 6, 7, 4, 7, 8, 3, 11, 7, 8, 10, 8, 6, 4, 7, 6, 7, 9, 6, 9, 7, 12, 10, 6, 6, 7, 6, 8, 6, 4, 7, 7, 3, 11, 7, 7, 12, 8, 7, 6, 9, 11, 6, 7, 2, 5, 12, 7, 5, 3, 5, 6, 10, 10, 7, 9, 12, 6, 8, 9, 3, 5, 3, 9, 9, 5, 4, 7, 5, 7, 10, 9, 7, 9, 5, 7, 5, 10, 3, 6, 2, 7, 2, 6, 8, 11, 8, 6, 4, 4, 5, 4, 10, 6, 5, 9, 8, 7, 9, 9, 7, 10, 6, 5, 5, 6, 4, 6, 6, 8, 5, 6, 10, 6, 9, 3, 7, 7, 4, 9, 8, 7, 12, 7, 12, 9, 10, 3, 3, 8, 11, 5, 9, 10, 6, 6, 6, 3, 5, 5, 2, 6, 6, 9, 9, 5, 7, 9, 4, 12, 9, 6, 11, 5, 5, 2, 8, 8, 9, 7, 8, 6, 9, 7, 7, 10, 8, 9, 10, 4, 8, 11, 3, 8, 10, 6, 6, 12, 3, 8, 8, 4, 9, 8, 8, 2, 6, 2, 11, 3, 3, 8, 7, 11, 2, 3, 6, 7, 9, 7, 5, 4, 8, 9, 7, 4, 4, 4, 7, 8, 11, 6, 7, 7, 9, 10, 9, 4, 7, 11, 7, 7, 8, 10, 2, 6, 6, 11, 9, 10, 9, 7, 7, 5, 11, 7, 12, 7, 5, 5, 9, 7, 3, 7, 8, 4, 8, 12, 10, 11, 9, 4, 9, 10, 3, 5, 8, 11, 7, 6, 9, 8, 8, 4, 2, 8, 8, 9, 8, 5, 8, 7, 6, 2, 5, 8, 7, 8, 2, 8, 5, 8, 7, 6, 11, 4, 7, 10, 5, 4, 9, 4, 5, 6, 4, 2, 3, 6, 6, 8, 8, 9, 5, 9, 8, 5, 6, 7, 8, 8, 8, 6, 9, 10, 6, 9, 8, 5, 3, 2, 4, 6, 7, 8, 9, 10, 12, 11, 8, 9, 5, 10, 12, 4, 6, 2, 8, 11, 6, 6, 8, 5, 9, 6, 8, 7, 11, 5, 8, 5, 9, 6, 11, 8, 8, 7, 8, 6, 8, 5, 4, 7, 7, 9, 6, 7, 7, 5, 6, 8, 5, 7, 4, 9, 10, 10, 6, 7, 10, 10, 9, 7, 3, 4, 10, 10, 5, 8, 5, 12, 8, 11, 7, 6, 7, 4, 7, 5, 6, 3, 4, 9, 5, 5, 7, 7, 7, 9, 6, 2, 4, 4, 3, 10, 6, 6, 7, 7, 11, 8, 4, 8, 6, 8, 11, 2, 7, 4, 4, 8, 5, 8, 7, 7, 6, 8, 8, 6, 6, 12, 6, 6, 9, 10, 7, 6, 6, 12, 4, 7, 6, 8, 9, 8, 9, 7, 7, 3, 3, 4, 6, 10, 4, 8, 7, 4, 9, 5, 5, 6, 7, 6, 11, 4, 11, 6, 10, 5, 8, 7, 5, 7, 7, 5, 7, 6, 3, 5, 10, 4, 7, 5, 3, 4, 7, 9, 7, 6, 5, 4, 9, 8, 7, 6, 4, 10, 6, 3, 9, 12, 7, 2, 7, 5, 7, 6, 5, 8, 10, 7, 7, 5, 7, 8, 6, 7, 5, 6, 8, 9, 4, 6, 7, 7, 3, 8, 3, 9, 5, 7, 8, 2, 9, 2, 4, 6, 9, 9, 4, 5, 11, 6, 7, 10, 8, 4, 6, 7, 10, 5, 7, 3, 7, 8, 6, 9, 6, 7, 7, 5, 4, 11, 3, 5, 4, 7, 12, 8, 10, 12, 8, 7, 5, 11, 9, 7, 3, 6, 5, 2, 7, 5, 6, 8, 8, 7, 7, 9, 7, 2, 5, 7, 6, 4, 4, 7, 9, 2, 6, 6, 11, 8, 8, 5, 6, 11, 5, 3, 4, 5, 5, 11, 9, 5, 6, 6, 6, 4, 3, 6, 7, 9, 9, 4, 8, 9, 10, 3, 5, 7, 9, 8, 11, 10, 4, 4, 10, 7, 7, 6, 10, 8, 8, 8, 4, 4, 9, 4, 6, 11, 7, 5, 5, 3, 7, 6, 6, 7, 7, 8, 6, 9, 3, 8, 9, 5, 9, 9, 6, 5, 7, 9, 8, 2, 8, 7, 9, 10, 3, 11, 5, 10, 6, 5, 10, 5, 7, 7, 7, 6, 4, 10, 6, 7, 9, 7, 6, 11, 4, 10, 8, 6, 9, 4, 9, 8, 6, 7, 9, 10, 10, 4, 9, 8, 11, 7, 7, 9, 7, 10, 11, 5, 3, 5, 3, 7, 7, 11, 9, 7, 9, 8, 7, 6, 10, 6, 10, 7, 10, 9, 10, 12, 12, 10, 9, 4, 5, 7, 3, 6, 4, 4, 6, 3, 11, 11, 11, 9, 5, 12, 9, 10, 3, 8, 6, 5, 4, 8, 7, 6, 5, 4, 8, 10, 6, 6, 12, 6, 3, 5, 8, 7, 12, 10, 7, 8, 9, 6, 3, 8, 6, 12, 3, 10, 7, 2, 10, 5, 8, 11, 6, 11, 5, 4, 6, 8, 4, 12, 4, 8, 11, 6, 7, 7, 8, 6, 10, 7, 7, 8, 5, 8, 8, 7, 11, 7, 5, 7, 7, 3, 2, 7, 6, 8, 6, 9, 8, 6, 5, 7, 4, 6, 4, 5, 6, 5, 7, 8, 4, 8, 3, 5, 7, 5, 11, 8, 7, 5, 3, 9, 6, 6, 10, 9, 9, 4, 7, 5, 9, 5, 8, 11, 5, 8, 9, 10, 5, 3, 8, 4, 8, 11, 7, 10, 6, 2, 9, 7, 11, 5, 10, 7, 6, 7, 11, 11, 3, 4, 6, 6, 5, 7, 8, 8, 6, 9, 6, 10, 7, 6, 9, 5, 4, 7, 4, 3, 4, 4, 4, 10, 8, 10, 6, 7, 5, 8, 5, 8, 5, 4, 7, 2, 9, 11, 5, 4, 11, 11, 8, 7, 8, 5, 8, 6, 10, 6, 7, 5, 5, 8, 6, 7, 3, 7, 4, 11, 6, 6, 7, 2, 3, 5, 5, 6, 7, 7, 5, 6, 7, 4, 5, 8, 11, 6, 10, 10, 4, 6, 10, 9, 8, 8, 3, 2, 5, 6, 4, 5, 7, 5, 8, 7, 9, 11, 9, 9, 8, 9, 10, 9, 10, 8, 7, 8, 8, 10, 9, 4, 9, 8, 8, 7, 9, 8, 4, 10, 6, 8, 8, 3, 10, 12, 5, 9, 8, 5, 7, 3, 5, 6, 10, 12, 6, 10, 2, 9, 6, 4, 12, 7, 3, 3, 10, 5, 6, 8, 8, 11, 6, 3, 11, 10, 7, 5, 10, 7, 5, 6, 5, 3, 12, 5, 10, 6, 12, 5, 5, 7, 6, 10, 5, 7, 9, 6, 4, 6, 10, 8, 6, 8, 4, 10, 4, 2, 8, 11, 6, 9, 7, 10, 6, 4, 6, 8, 10, 6, 8, 8, 7, 10, 3, 6, 2, 10, 5, 2, 4, 8, 10, 6, 3, 6, 9, 5, 5, 7, 7, 7, 4, 6, 9, 10, 9, 8, 12, 6, 4, 7, 7, 4, 3, 3, 6, 6, 8, 9, 7, 11, 8, 12, 12, 5, 5, 12, 12, 9, 10, 7, 3, 5, 9, 6, 8, 10, 5, 10, 2, 9, 9, 5, 9, 10, 4, 5, 11, 5, 8, 7, 7, 9, 3, 6, 12, 6, 5, 7, 8, 9, 6, 11, 10, 3, 7, 6, 10, 8, 8, 10, 8, 9, 2, 6, 7, 7, 8, 7, 6, 5, 7, 7, 4, 8, 9, 8, 6, 8, 7, 7, 8, 10, 8, 7, 6, 7, 7, 5, 4, 11, 7, 7, 8, 7, 2, 6, 6, 10, 12, 11, 10, 3, 8, 5, 7, 9, 10, 9, 2, 2, 9, 6, 6, 2, 3, 9, 4, 5, 11, 9, 4, 3, 4, 6, 8, 10, 4, 9, 9, 3, 12, 8, 7, 8, 10, 10, 6, 10, 9, 7, 8, 9, 5, 5, 10, 10, 12, 10, 5, 8, 7, 6, 5, 4, 11, 9, 7, 10, 4, 8, 8, 4, 7, 4, 7, 12, 11, 4, 4, 12, 3, 9, 5, 10, 8, 10, 10, 10, 7, 2, 10, 9, 6, 12, 8, 7, 3, 10, 8, 11, 6, 2, 5, 4, 5, 6, 3, 6, 9, 8, 8, 9, 8, 7, 8, 6, 9, 8, 6, 9, 8, 9, 3, 6, 9, 5, 10, 8, 8, 10, 6, 7, 7, 11, 4, 11, 11, 5, 4, 10, 5, 9, 6, 10, 12, 8, 6, 6, 11, 3, 3, 7, 6, 6, 7, 7, 6, 6, 3, 7, 7, 4, 8, 10, 9, 8, 10, 3, 8, 9, 11, 5, 4, 10, 8, 10, 5, 5, 2, 6, 7, 6, 6, 6, 6, 8, 6, 4, 5, 9, 6, 4, 7, 8, 4, 8, 5, 4, 5, 7, 6, 7, 4, 10, 6, 7, 5, 8, 10, 11, 7, 7, 8, 10, 8, 5, 9, 8, 7, 8, 6, 6, 9, 6, 6, 3, 5, 6, 8, 8, 8, 6, 7, 4, 3, 8, 7, 9, 8, 7, 4, 3, 4, 2, 9, 8, 4, 8, 10, 8, 7, 6, 7, 7, 8, 11, 11, 6, 5, 8, 5, 9, 5, 7, 10, 2, 8, 8, 4, 6, 6, 8, 6, 10, 5, 12, 6, 7, 7, 3, 5, 8, 10, 7, 5, 4, 12, 3, 10, 10, 6, 9, 8, 8, 11, 6, 7, 6, 9, 6, 8, 7, 9, 2, 4, 12, 7, 9, 4, 11, 6, 6, 3, 9, 6, 9, 6, 11, 6, 7, 5, 5, 8, 9, 10, 6, 3, 4, 10, 4, 3, 7, 3, 6, 8, 5, 7, 9, 11, 10, 9, 2, 9, 6, 4, 8, 8, 11, 7, 8, 7, 6, 9, 8, 3, 10, 6, 12, 4, 10, 2, 2, 6, 9, 7, 6, 10, 6, 8, 6, 10, 5, 7, 3, 8, 6, 5, 10, 12, 7, 10, 8, 8, 10, 7, 12, 9, 9, 6, 6, 7, 11, 10, 11, 9, 6, 8, 9, 7, 7, 4, 6, 7, 6, 4, 10, 7, 6, 3, 8, 6, 6, 12, 5, 6, 10, 8, 6, 4, 8, 3, 6, 7, 4, 10, 2, 4, 8, 8, 2, 7, 5, 7, 7, 5, 5, 3, 4, 7, 6, 10, 5, 7, 10, 7, 4, 4, 4, 7, 7, 10, 10, 6, 2, 9, 8, 7, 5, 5, 7, 3, 7, 5, 6, 6, 11, 11, 8, 7, 7, 8, 7, 8, 4, 3, 9, 3, 6, 7, 7, 4, 4, 5, 7, 11, 9, 5, 10, 8, 5, 6, 6, 10, 2, 3, 9, 7, 8, 3, 5, 11, 9, 8, 5, 5, 5, 10, 5, 4, 6, 6, 12, 5, 6, 10, 8, 8, 4, 4, 5, 10, 8, 9, 9, 8, 3, 4, 4, 9, 8, 10, 8, 9, 6, 7, 8, 8, 4, 5, 8, 7, 5, 11, 12, 7, 10, 5, 7, 8, 10, 5, 8, 7, 7, 6, 10, 7, 9, 10, 6, 5, 3, 6, 9, 7, 6, 4, 8, 7, 7, 7, 9, 9, 5, 2, 2, 5, 5, 6, 5, 7, 7, 7, 4, 3, 5, 7, 6, 9, 6, 9, 9, 10, 11, 8, 6, 10, 10, 8, 7, 12, 7, 12, 12, 6, 5, 7, 7, 12, 8, 6, 5, 11, 9, 4, 3, 11, 8, 7, 7, 7, 8, 4, 6, 7, 3, 7, 7, 4, 10, 7, 7, 8, 11, 6, 6, 3, 2, 2, 3, 6, 12, 8, 12, 6, 7, 6, 10, 7, 10, 8, 5, 4, 3, 7, 8, 6, 6, 7, 5, 6, 8, 5, 8, 8, 12, 4, 9, 10, 5, 5, 9, 9, 6, 3, 9, 8, 8, 7, 7, 3, 9, 6, 7, 10, 10, 10, 3, 3, 6, 7, 4, 8, 4, 7, 6, 10, 7, 5, 7, 5, 6, 9, 3, 6, 9, 6, 7, 8, 4, 10, 8, 8, 10, 8, 6, 11, 4, 5, 5, 6, 7, 12, 11, 2, 9, 9, 11, 10, 6, 6, 5, 7, 5, 7, 7, 5, 5, 5, 5, 4, 9, 8, 9, 10, 2, 8, 7, 6, 7, 11, 8, 8, 9, 4, 6, 5, 12, 8, 7, 8, 5, 7, 10, 6, 6, 7, 9, 10, 5, 6, 10, 6, 8, 6, 7, 2, 8, 5, 8, 9, 4, 7, 7, 4, 3, 8, 5, 5, 7, 3, 8, 7, 8, 5, 7, 4, 7, 12, 8, 7, 6, 7, 6, 9, 3, 8, 10, 11, 11, 9, 5, 3, 4, 4, 5, 7, 7, 5, 8, 7, 7, 8, 7, 10, 8, 5, 4, 4, 6, 6, 5, 8, 10, 8, 3, 11, 3, 7, 6, 8, 9, 6, 9, 6, 9, 10, 6, 6, 9, 5, 7, 7, 7, 3, 9, 6, 2, 10, 6, 4, 3, 11, 6, 8, 5, 8, 7, 10, 8, 7, 8, 11, 10, 9, 8, 8, 7, 7, 3, 8, 8, 10, 5, 10, 5, 7, 10, 10, 10, 3, 7, 8, 3, 8, 9, 7, 8, 11, 10, 10, 8, 9, 10, 7, 8, 9, 4, 10, 4, 6, 6, 5, 7, 10, 8, 3, 5, 9, 9, 8, 5, 6, 7, 6, 10, 6, 9, 7, 7, 7, 12, 10, 7, 5, 5, 10, 4, 12, 10, 7, 7, 7, 7, 10, 3, 4, 7, 9, 10, 6, 8, 6, 6, 10, 5, 7, 7, 9, 8, 6, 12, 8, 12, 8, 8, 5, 3, 4, 3, 4, 7, 5, 7, 4, 9, 9, 8, 8, 2, 5, 8, 7, 10, 10, 7, 5, 2, 10, 9, 8, 5, 10, 8, 9, 4, 7, 12, 7, 9, 6, 7, 5, 9, 10, 11, 5, 5, 6, 11, 7, 12, 5, 11, 5, 8, 4, 7, 7, 5, 7, 5, 8, 7, 4, 10, 5, 7, 7, 9, 9, 6, 7, 6, 11, 5, 8, 10, 6, 9, 4, 5, 10, 4, 12, 7, 11, 2, 12, 8, 7, 7, 2, 4, 8, 6, 9, 5, 3, 4, 8, 6, 3, 5, 6, 9, 6, 5, 5, 8, 9, 3, 9, 7, 7, 6, 10, 5, 9, 5, 7, 7, 7, 10, 2, 8, 4, 6, 6, 10, 2, 11, 7, 4, 6, 8, 3, 6, 4, 4, 6, 8, 9, 7, 5, 8, 7, 7, 8, 4, 6, 5, 8, 4, 6, 6, 8, 8, 7, 7, 9, 7, 7, 10, 6, 7, 9, 10, 8, 5, 7, 2, 6, 9, 11, 5, 4, 7, 9, 8, 11, 6, 8, 12, 9, 9, 3, 7, 8, 10, 7, 4, 10, 4, 8, 2, 6, 4, 6, 9, 7, 7, 8, 6, 11, 10, 6, 9, 12, 8, 5, 2, 4, 6, 4, 12, 6, 8, 8, 6, 6, 7, 7, 8, 6, 7, 10, 6, 9, 6, 7, 10, 10, 4, 5, 8, 7, 5, 6, 2, 6, 6, 7, 5, 10, 7, 8, 6, 7, 8, 3, 7, 4, 6, 5, 4, 9, 11, 3, 5, 8, 5, 4, 12, 10, 6, 10, 4, 10, 9, 10, 11, 9, 10, 8, 9, 6, 7, 11, 8, 7, 5, 5, 4, 9, 5, 6, 2, 6, 7, 12, 7, 7, 12, 10, 8, 5, 10, 7, 5, 10, 7, 8, 7, 5, 3, 8, 8, 8, 7, 11, 10, 7, 5, 4, 10, 11, 5, 5, 7, 10, 7, 6, 5, 4, 7, 11, 9, 8, 11, 6, 8, 10, 6, 5, 10, 9, 3, 7, 9, 6, 3, 6, 4, 3, 6, 5, 9, 4, 10, 6, 9, 5, 6, 11, 3, 5, 7, 10, 8, 6, 8, 5, 2, 7, 5, 7, 7, 6, 5, 5, 6, 8, 9, 2, 9, 12, 10, 11, 11, 5, 2, 8, 8, 5, 7, 5, 7, 3, 5, 8, 9, 2, 10, 9, 7, 7, 7, 8, 7, 6, 12, 10, 6, 7, 7, 3, 5, 10, 9, 6, 8, 5, 5, 12, 6, 9, 7, 5, 6, 4, 5, 8, 7, 4, 10, 5, 5, 9, 10, 5, 8, 6, 7, 6, 5, 10, 5, 6, 5, 8, 10, 7, 2, 9, 6, 7, 12, 9, 8, 8, 6, 8, 7, 9, 4, 7, 7, 4, 6, 5, 2, 6, 8, 6, 3, 11, 6, 3, 10, 4, 9, 5, 8, 7, 6, 6, 4, 7, 5, 4, 6, 8, 7, 7, 4, 5, 4, 6, 8, 12, 7, 2, 7, 9, 5, 6, 2, 5, 10, 7, 6, 2, 8, 7, 6, 3, 5, 7, 7, 11, 7, 8, 4, 5, 9, 5, 12, 7, 9, 10, 12, 4, 7, 2, 11, 5, 6, 12, 8, 10, 9, 5, 8, 4, 3, 6, 7, 8, 12, 7, 8, 5, 4, 7, 10, 7, 2, 8, 7, 6, 6, 10, 11, 5, 8, 8, 4, 10, 9, 8, 8, 9, 7, 4, 2, 10, 8, 10, 6, 8, 5, 5, 10, 11, 8, 8, 4, 4, 9, 6, 11, 9, 3, 6, 7, 7, 3, 7, 12, 6, 6, 11, 12, 4, 8, 6, 6, 9, 6, 7, 5, 9, 5, 3, 10, 7, 9, 12, 4, 10, 9, 6, 9, 7, 4, 5, 9, 6, 7, 8, 5, 10, 4, 7, 12, 5, 8, 7, 6, 5, 5, 6, 2, 9, 11, 7, 4, 5, 8, 6, 8, 4, 6, 10, 8, 10, 7, 11, 7, 9, 8, 12, 6, 11, 8, 5, 8, 7, 8, 10, 9, 2, 10, 9, 7, 7, 9, 8, 7, 5, 11, 6, 10, 11, 4, 4, 7, 10, 9, 7, 8, 4, 2, 3, 8, 5, 6, 8, 9, 4, 7, 8, 4, 9, 12, 5, 7, 2, 5, 9, 4, 9, 11, 9, 6, 7, 3, 9, 7, 4, 10, 4, 8, 11, 6, 6, 11, 8, 7, 5, 10, 9, 9, 8, 9, 5, 5, 2, 7, 6, 7, 4, 3, 4, 8, 6, 2, 8, 8, 6, 10, 5, 5, 11, 7, 9, 9, 5, 4, 6, 11, 2, 5, 7, 3, 5, 4, 11, 8, 12, 6, 7, 6, 4, 10, 9, 9, 3, 9, 5, 5, 3, 3, 6, 4, 3, 10, 5, 6, 7, 4, 7, 4, 6, 9, 7, 10, 7, 10, 4, 5, 5, 10, 7, 9, 5, 6, 12, 7, 5, 9, 10, 5, 7, 12, 8, 11, 8, 3, 5, 11, 9, 6, 10, 2, 2, 12, 6, 6, 10, 7, 6, 5, 2, 7, 7, 3, 6, 10, 7, 6, 8, 3, 8, 7, 10, 10, 8, 7, 6, 11, 7, 5, 7, 8, 8, 6, 8, 7, 2, 9, 6, 11, 6, 10, 9, 9, 9, 3, 3, 11, 5, 9, 3, 4, 5, 4, 6, 7, 7, 5, 11, 7, 5, 7, 8, 3, 10, 7, 7, 8, 6, 4, 8, 8, 7, 7, 5, 8, 8, 11, 3, 12, 10, 9, 8, 6, 12, 8, 3, 5, 11, 8, 4, 9, 6, 5, 6, 9, 4, 4, 11, 5, 7, 7, 8, 8, 12, 7, 6, 4, 4, 8, 4, 10, 6, 5, 5, 5, 10, 6, 4, 6, 7, 8, 6, 6, 7, 8, 6, 9, 12, 6, 9, 5, 7, 9, 7, 3, 4, 3, 3, 4, 10, 9, 8, 8, 7, 2, 10, 7, 5, 8, 2, 12, 6, 5, 9, 8, 7, 8, 5, 9, 5, 8, 5, 8, 5, 7, 4, 8, 4, 8, 7, 3, 9, 8, 9, 6, 8, 7, 6, 9, 5, 3, 3, 8, 7, 12, 4, 11, 2, 5, 7, 8, 8, 9, 4, 4, 7, 8, 8, 6, 5, 7, 7, 6, 5, 5, 2, 7, 4, 8, 7, 9, 7, 12, 6, 6, 11, 12, 4, 7, 3, 9, 8, 6, 8, 9, 8, 8, 8, 5, 8, 9, 7, 6, 4, 9, 11, 4, 7, 8, 5, 6, 7, 7, 9, 7, 4, 3, 7, 7, 7, 10, 8, 6, 4, 8, 8, 8, 7, 5, 8, 5, 3, 5, 4, 4, 9, 6, 7, 3, 6, 7, 2, 7, 10, 8, 5, 5, 7, 8, 9, 7, 9, 4, 6, 9, 12, 7, 6, 7, 10, 8, 5, 3, 10, 6, 2, 2, 6, 3, 4, 11, 11, 4, 10, 8, 8, 6, 8, 8, 11, 8, 5, 5, 2, 8, 8, 10, 6, 7, 8, 9, 5, 9, 11, 5, 11, 9, 3, 8, 8, 4, 9, 3, 3, 9, 7, 10, 5, 7, 7, 5, 8, 7, 11, 7, 6, 6, 8, 10, 6, 8, 3, 6, 9, 6, 7, 8, 6, 9, 8, 7, 7, 11, 3, 6, 10, 8, 4, 9, 6, 3, 7, 7, 10, 9, 7, 5, 3, 8, 12, 7, 3, 6, 9, 8, 7, 4, 10, 11, 4, 5, 9, 6, 6, 6, 6, 5, 9, 10, 3, 5, 4, 8, 7, 6, 8, 9, 9, 7, 10, 7, 8, 6, 8, 9, 7, 7, 8, 6, 9, 3, 4, 9, 7, 7, 4, 6, 4, 11, 6, 9, 8, 10, 9, 9, 7, 4, 2, 10, 9, 8, 7, 7, 3, 7, 7, 6, 5, 11, 6, 7, 11, 6, 4, 2, 8, 6, 8, 6, 11, 11, 4, 5, 12, 9, 8, 4, 3, 4, 8, 7, 6, 6, 6, 4, 6, 8, 10, 10, 4, 4, 10, 3, 8, 4, 2, 7, 5, 3, 8, 2, 7, 2, 5, 6, 7, 10, 11, 10, 11, 6, 6, 6, 8, 8, 10, 6, 11, 11, 3, 7, 10, 3, 8, 5, 7, 12, 10, 8, 5, 5, 7, 6, 7, 6, 10, 3, 9, 7, 7, 6, 10, 6, 10, 8, 11, 5, 8, 6, 5, 7, 7, 8, 9, 6, 4, 5, 7, 8, 5, 8, 5, 3, 6, 11, 3, 7, 7, 8, 8, 5, 12, 4, 9, 12, 3, 9, 8, 6, 6, 9, 5, 6, 8, 10, 5, 8, 6, 8, 10, 6, 5, 3, 7, 4, 6, 9, 12, 3, 7, 9, 6, 3, 7, 3, 7, 9, 4, 8, 10, 5, 3, 10, 5, 4, 8, 5, 9, 7, 12, 2, 7, 4, 8, 4, 11, 8, 8, 8, 11, 10, 7, 4, 3, 5, 6, 3, 6, 4, 9, 7, 3, 4, 6, 4, 2, 8, 10, 6, 6, 9, 12, 8, 8, 9, 5, 2, 3, 7, 8, 5, 4, 7, 7, 11, 9, 7, 6, 7, 10, 10, 8, 12, 5, 6, 8, 9, 4, 9, 8, 5, 12, 10, 7, 6, 7, 7, 9, 2, 11, 4, 9, 3, 9, 9, 6, 2, 6, 7, 8, 8, 7, 8, 3, 7, 8, 6, 6, 8, 2, 9, 6, 8, 5, 11, 4, 5, 11, 7, 10, 6, 9, 7, 7, 5, 6, 11, 7, 11, 6, 4, 7, 4, 9, 6, 12, 6, 5, 4, 12, 9, 5, 7, 6, 7, 9, 9, 6, 4, 5, 6, 10, 7, 3, 5, 4, 5, 9, 7, 4, 7, 3, 7, 7, 7, 9, 5, 9, 11, 8, 8, 3, 6, 9, 7, 5, 9, 9, 10, 4, 11, 8, 11, 8, 3, 4, 6, 6, 5, 3, 10, 7, 3, 7, 5, 3, 7, 11, 4, 8, 9, 7, 3, 5, 10, 10, 6, 9, 9, 2, 8, 9, 3, 12, 5, 8, 6, 10, 7, 7, 7, 12, 3, 11, 10, 5, 8, 4, 11, 7, 7, 11, 11, 4, 9, 5, 4, 9, 5, 2, 9, 8, 12, 5, 10, 3, 3, 9, 6, 7, 4, 7, 6, 10, 10, 4, 7, 8, 7, 3, 3, 7, 8, 9, 6, 8, 6, 7, 10, 9, 8, 8, 6, 11, 6, 7, 9, 10, 7, 7, 4, 8, 6, 10, 5, 6, 7, 6, 10, 8, 5, 6, 3, 11, 8, 5, 10, 8, 4, 10, 7, 4, 2, 7, 5, 10, 8, 7, 7, 10, 4, 9, 10, 11, 11, 5, 6, 6, 11, 9, 7, 10, 6, 12, 6, 11, 8, 9, 8, 8, 8, 5, 5, 12, 7, 11, 10, 10, 6, 11, 6, 4, 5, 4, 9, 7, 3, 5, 7, 4, 10, 7, 9, 12, 8, 10, 4, 12, 7, 4, 9, 3, 6, 11, 2, 10, 6, 5, 10, 9, 7, 7, 8, 2, 4, 9, 6, 10, 7, 7, 9, 3, 12, 5, 8, 2, 5, 9, 3, 10, 5, 6, 5, 7, 6, 7, 5, 8, 7, 5, 5, 6, 8, 3, 12, 3, 10, 5, 3, 9, 6, 10, 6, 8, 5, 9, 7, 7, 10, 8, 11, 2, 9, 5, 7, 9, 10, 8, 7, 7, 5, 10, 2, 11, 9, 7, 4, 8, 3, 8, 7, 9, 7, 5, 7, 9, 6, 6, 7, 5, 4, 4, 6, 5, 12, 9, 6, 6, 7, 6, 3, 8, 3, 6, 2, 6, 8, 7, 4, 8, 6, 10, 4, 7, 7, 7, 7, 5, 11, 7, 8, 4, 9, 9, 7, 8, 10, 4, 7, 9, 11, 5, 6, 7, 5, 4, 7, 8, 6, 2, 2, 4, 11, 9, 10, 5, 8, 5, 10, 4, 9, 5, 12, 6, 8, 9, 2, 3, 9, 7, 7, 9, 10, 4, 8, 9, 8, 5, 8, 9, 11, 7, 11, 6, 10, 9, 7, 7, 11, 6, 7, 7, 8, 8, 3, 5, 8, 8, 5, 5, 11, 5, 2, 9, 10, 8, 7, 4, 5, 5, 8, 8, 2, 2, 11, 10, 8, 9, 5, 5, 12, 9, 9, 4, 6, 10, 3, 8, 8, 10, 7, 4, 2, 9, 9, 4, 9, 11, 5, 3, 5, 7, 3, 4, 3, 6, 6, 8, 12, 8, 8, 8, 6, 8, 6, 7, 7, 6, 7, 7, 7, 8, 8, 9, 6, 8, 7, 11, 4, 3, 9, 9, 5, 7, 7, 5, 8, 6, 11, 7, 3, 10, 11, 10, 12, 8, 6, 3, 5, 8, 6, 6, 10, 9, 10, 11, 5, 6, 9, 8, 6, 5, 8, 10, 6, 10, 6, 6, 7, 5, 12, 8, 7, 4, 4, 10, 9, 6, 5, 4, 5, 5, 4, 9, 9, 9, 4, 9, 8, 8, 2, 11, 8, 6, 7, 6, 9, 3, 4, 8, 9, 5, 2, 6, 5, 5, 11, 6, 4, 9, 10, 10, 6, 10, 7, 9, 5, 4, 4, 6, 11, 4, 6, 5, 8, 3, 4, 8, 6, 12, 8, 2, 6, 8, 10, 12, 2, 12, 10, 6, 6, 8, 12, 10, 7, 5, 3, 7, 7, 7, 7, 8, 5, 6, 5, 3, 6, 6, 5, 7, 9, 8, 4, 5, 7, 7, 5, 4, 5, 5, 7, 7, 9, 3, 9, 12, 6, 4, 9, 8, 3, 9, 7, 9, 7, 12, 3, 8, 7, 10, 6, 8, 8, 5, 7, 12, 7, 8, 2, 8, 11, 6, 7, 7, 3, 8, 6, 8, 5, 4, 9, 7, 6, 6, 8, 4, 7, 10, 7, 8, 5, 8, 8, 3, 9, 11, 10, 8, 9, 7, 10, 11, 8, 7, 6, 8, 4, 5, 5, 4, 7, 4, 5, 10, 9, 9, 7, 7, 7, 5, 5, 10, 5, 9, 9, 5, 6, 10, 7, 6, 8, 9, 3, 7, 10, 6, 5, 7, 7, 4, 7, 9, 4, 12, 6, 10, 7, 3, 7, 5, 3, 7, 5, 2, 6, 12, 7, 7, 9, 7, 8, 11, 5, 7, 2, 8, 8, 6, 8, 2, 8, 4, 7, 6, 8, 9, 8, 6, 4, 8, 6, 8, 8, 7, 7, 6, 8, 6, 3, 6, 2, 6, 12, 7, 5, 4, 7, 7, 10, 11, 5, 5, 7, 5, 9, 9, 12, 10, 3, 3, 8, 6, 4, 6, 7, 7, 5, 9, 9, 7, 4, 7, 9, 6, 4, 12, 5, 5, 11, 3, 6, 10, 9, 8, 4, 5, 5, 7, 5, 5, 6, 7, 10, 10, 9, 8, 7, 8, 5, 5, 6, 12, 7, 8, 8, 5, 10, 6, 5, 7, 6, 4, 7, 11, 3, 3, 4, 5, 5, 5, 3, 11, 5, 4, 10, 6, 6, 4, 8, 3, 5, 11, 4, 11, 8, 7, 10, 10, 4, 9, 7, 8, 9, 10, 7, 7, 10, 8, 11, 7, 6, 7, 8, 3, 12, 8, 2, 7, 7, 7, 8, 9, 8, 8, 9, 5, 9, 4, 5, 9, 10, 3, 4, 7, 7, 2, 8, 7, 7, 10, 5, 3, 3, 7, 7, 5, 11, 4, 5, 9, 7, 9, 7, 7, 8, 11, 4, 10, 7, 7, 4, 6, 9, 12, 8, 4, 6, 2, 4, 8, 6, 3, 7, 10, 10, 11, 8, 3, 9, 5, 7, 4, 5, 5, 11, 6, 8, 8, 7, 3, 3, 10, 5, 2, 10, 3, 12, 2, 5, 3, 2, 8, 7, 3, 9, 5, 5, 12, 7, 7, 4, 11, 2, 8, 7, 6, 6, 7, 4, 7, 9, 7, 4, 4, 7, 10, 6, 3, 11, 7, 3, 6, 6, 7, 2, 4, 7, 6, 4, 5, 8, 6, 3, 5, 6, 9, 8, 7, 6, 7, 10, 8, 8, 9, 11, 4, 7, 6, 5, 8, 9, 8, 5, 6, 10, 7, 6, 5, 5, 10, 8, 5, 5, 9, 9, 3, 10, 7, 10, 6, 11, 9, 5, 8, 9, 8, 9, 6, 3, 10, 2, 3, 6, 9, 5, 9, 3, 9, 7, 8, 10, 7, 12, 3, 6, 8, 9, 4, 5, 7, 3, 8, 8, 6, 7, 6, 9, 6, 9, 9, 4, 4, 5, 6, 9, 5, 9, 7, 5, 10, 7, 7, 3, 10, 7, 4, 6, 4, 9, 7, 5, 11, 7, 9, 6, 8, 8, 5, 8, 6, 6, 8, 7, 3, 12, 4, 4, 9, 12, 5, 7, 3, 3, 9, 8, 7, 8, 6, 10, 9, 4, 6, 7, 4, 10, 7, 7, 5, 8, 10, 8, 7, 7, 8, 9, 9, 11, 7, 2, 9, 11, 7, 10, 4, 3, 7, 11, 5, 8, 6, 3, 12, 12, 7, 6, 10, 6, 8, 5, 2, 8, 8, 2, 6, 5, 4, 6, 11, 3, 2, 4, 8, 4, 6, 3, 8, 3, 8, 12, 3, 9, 8, 10, 3, 7, 6, 9, 6, 5, 4, 3, 6, 11, 8, 4, 8, 8, 9, 7, 8, 10, 10, 8, 7, 7, 5, 4, 2, 6, 7, 7, 7, 4, 10, 6, 6, 8, 4, 7, 5, 7, 6, 11, 9, 9, 8, 10, 10, 9, 11, 6, 11, 8, 10, 9, 3, 3, 6, 8, 3, 12, 5, 7, 6, 5, 7, 7, 7, 8, 8, 5, 9, 7, 3, 6, 5, 7, 5, 10, 7, 12, 7, 7, 9, 8, 7, 4, 3, 8, 6, 12, 11, 7, 6, 8, 3, 7, 4, 7, 3, 9, 11, 9, 6, 4, 11, 9, 5, 8, 7, 9, 12, 8, 8, 6, 7, 7, 7, 6, 6, 7, 10, 6, 5, 3, 10, 7, 10, 5, 7, 9, 7, 12, 8, 10, 5, 9, 3, 8, 10, 10, 6, 2, 4, 10, 6, 6, 4, 5, 7, 9, 7, 3, 6, 8, 7, 7, 4, 8, 2, 9, 6, 6, 3, 4, 5, 11, 10, 5, 7, 7, 10, 2, 7, 5, 8, 3, 4, 10, 11, 7, 7, 5, 2, 2, 7, 11, 9, 7, 5, 9, 6, 6, 5, 6, 8, 4, 8, 10, 3, 5, 6, 3, 10, 11, 6, 6, 5, 5, 10, 8, 8, 7, 6, 9, 11, 3, 5, 11, 7, 6, 12, 7, 11, 8, 7, 6, 9, 11, 7, 9, 11, 5, 4, 5, 9, 6, 6, 6, 8, 6, 7, 7, 7, 5, 9, 11, 3, 11, 11, 6, 4, 10, 8, 9, 3, 7, 2, 4, 3, 6, 5, 6, 4, 11, 8, 5, 11, 8, 9, 5, 8, 4, 11, 4, 10, 7, 11, 12, 9, 7, 7, 5, 6, 9, 7, 7, 10, 11, 12, 8, 12, 4, 9, 5, 6, 10, 8, 8, 9, 3, 5, 7, 6, 5, 5, 11, 3, 5, 4, 9, 8, 4, 4, 5, 3, 9, 7, 6, 7, 4, 3, 9, 5, 5, 10, 9, 10, 6, 8, 5, 6, 7, 7, 9, 6, 5, 7, 5, 3, 3, 7, 7, 7, 5, 6, 6, 4, 10, 5, 5, 4, 6, 7, 6, 6, 9, 8, 6, 8, 9, 5, 8, 3, 10, 9, 4, 7, 6, 7, 4, 12, 6, 7, 7, 8, 9, 11, 5, 5, 3, 2, 8, 5, 6, 9, 9, 8, 5, 12, 7, 2, 9, 4, 3, 7, 6, 9, 11, 5, 12, 9, 6, 11, 5, 9, 8, 5, 10, 7, 4, 5, 3, 3, 11, 5, 8, 7, 4, 7, 8, 5, 8, 10, 8, 4, 11, 12, 10, 6, 9, 3, 8, 7, 8, 11, 5, 10, 5, 11, 5, 7, 8, 3, 7, 2, 10, 11, 9, 6, 12, 9, 4, 6, 7, 9, 9, 3, 10, 7, 4, 4, 6, 2, 7, 10, 6, 9, 8, 9, 9, 6, 11, 8, 6, 9, 7, 12, 10, 6, 6, 7, 2, 6, 6, 6, 11, 6, 6, 8, 6, 5, 10, 7, 7, 8, 7, 2, 6, 9, 4, 4, 9, 9, 6, 4, 10, 6, 7, 5, 11, 6, 5, 4, 3, 7, 6, 3, 6, 7, 12, 10, 6, 2, 8, 6, 4, 6, 7, 4, 5, 8, 4, 6, 5, 8, 6, 11, 6, 9, 9, 9, 10, 2, 9, 8, 3, 4, 6, 11, 9, 8, 3, 7, 7, 8, 9, 11, 7, 9, 5, 10, 10, 8, 12, 8, 8, 7, 10, 7, 3, 10, 8, 3, 10, 5, 4, 9, 8, 8, 8, 7, 4, 9, 3, 5, 11, 8, 3, 4, 8, 8, 3, 9, 8, 5, 9, 11, 5, 4, 10, 10, 7, 6, 9, 10, 8, 8, 10, 8, 9, 9, 8, 7, 8, 9, 5, 7, 6, 10, 8, 9, 8, 9, 5, 8, 2, 9, 11, 8, 11, 8, 4, 4, 6, 5, 3, 6, 5, 9, 7, 4, 8, 8, 9, 7, 12, 8, 8, 6, 6, 7, 11, 10, 8, 5, 5, 7, 7, 7, 9, 7, 9, 7, 5, 7, 9, 7, 8, 5, 5, 6, 5, 6, 9, 11, 3, 5, 9, 12, 4, 4, 8, 8, 6, 9, 6, 4, 4, 10, 2, 11, 9, 6, 8, 7, 7, 7, 8, 8, 10, 4, 6, 8, 7, 6, 11, 8, 3, 5, 3, 8, 8, 6, 7, 3, 9, 6, 8, 7, 7, 7, 11, 12, 4, 8, 11, 10, 7, 5, 10, 11, 4, 3, 6, 5, 9, 10, 7, 7, 9, 7, 10, 12, 8, 11, 7, 8, 4, 7, 8, 7, 3, 7, 10, 5, 5, 4, 6, 5, 3, 6, 7, 7, 9, 8, 5, 10, 7, 6, 3, 5, 6, 5, 7, 9, 11, 9, 10, 8, 6, 6, 5, 6, 7, 12, 5, 9, 8, 10, 10, 6, 5, 7, 8, 8, 5, 7, 8, 6, 4, 5, 11, 9, 3, 5, 8, 5, 10, 10, 9, 11, 6, 11, 4, 5, 8, 11, 9, 9, 10, 6, 5, 7, 10, 8, 7, 4, 5, 6, 7, 7, 7, 7, 7, 8, 4, 2, 8, 7, 3, 2, 11, 3, 8, 4, 6, 9, 7, 9, 7, 9, 6, 7, 8, 9, 7, 6, 6, 7, 7, 7, 4, 9, 6, 4, 9, 11, 6, 5, 6, 6, 5, 7, 5, 7, 9, 8, 8, 11, 9, 11, 4, 5, 9, 8, 10, 7, 9, 5, 10, 8, 6, 2, 11, 6, 10, 9, 9, 6, 8, 9, 10, 10, 12, 7, 10, 7, 7, 7, 4, 11, 7, 10, 9, 4, 12, 9, 10, 8, 3, 4, 11, 3, 5, 11, 4, 8, 8, 10, 2, 5, 6, 11, 8, 11, 9, 9, 10, 9, 8, 11, 7, 7, 6, 6, 3, 9, 7, 8, 11, 10, 12, 4, 4, 11, 8, 8, 9, 5, 9, 4, 10, 4, 4, 5, 6, 7, 11, 7, 9, 7, 3, 6, 6, 8, 4, 6, 7, 5, 11, 8, 3, 2, 6, 3, 3, 7, 4, 9, 5, 8, 4, 12, 3, 7, 7, 8, 4, 5, 4, 7, 9, 6, 7, 10, 7, 6, 4, 8, 9, 9, 8, 9, 8, 5, 9, 8, 10, 6, 3, 10, 7, 9, 12, 6, 7, 10, 10, 6, 2, 7, 6, 8, 9, 10, 7, 9, 11, 4, 10, 8, 10, 11, 9, 7, 6, 10, 12, 6, 5, 3, 6, 7, 3, 8, 7, 7, 4, 3, 8, 7, 8, 5, 10, 4, 4, 7, 7, 8, 12, 10, 10, 6, 5, 9, 9, 3, 8, 4, 7, 9, 8, 7, 5, 9, 7, 9, 5, 6, 7, 7, 7, 8, 10, 11, 9, 6, 5, 8, 8, 5, 7, 6, 5, 12, 3, 10, 7, 11, 6, 3, 11, 3, 9, 7, 4, 9, 7, 3, 8, 8, 10, 7, 7, 5, 8, 6, 6, 10, 8, 12, 4, 2, 3, 6, 6, 6, 8, 7, 5, 3, 9, 9, 5, 7, 6, 11, 4, 8, 9, 6, 11, 10, 9, 6, 6, 10, 4, 7, 9, 8, 4, 9, 7, 9, 7, 11, 6, 6, 6, 7, 7, 7, 7, 4, 6, 6, 5, 10, 6, 6, 11, 5, 10, 4, 7, 7, 8, 9, 7, 3, 8, 8, 4, 10, 6, 9, 7, 11, 11, 7, 8, 5, 10, 7, 7, 10, 7, 6, 9, 7, 6, 5, 6, 8, 11, 10, 10, 10, 9, 7, 5, 12, 3, 9, 7, 3, 7, 7, 12, 4, 7, 11, 7, 6, 5, 7, 4, 8, 9, 11, 2, 6, 6, 7, 10, 5, 7, 4, 6, 5, 9, 7, 8, 9, 9, 8, 11, 9, 7, 6, 11, 4, 7, 6, 11, 12, 5, 11, 8, 9, 7, 4, 8, 10, 4, 5, 6, 10, 7, 4, 8, 9, 4, 5, 7, 11, 10, 3, 8, 6, 4, 10, 5, 3, 5, 10, 6, 5, 8, 9, 8, 5, 4, 5, 6, 7, 7, 3, 8, 6, 12, 11, 5, 10, 7, 6, 4, 8, 8, 5, 9, 7, 6, 9, 8, 11, 8, 5, 12, 10, 9, 10, 2, 7, 10, 10, 4, 11, 7, 10, 10, 6, 8, 9, 11, 9, 10, 7, 8, 5, 5, 8, 9, 9, 9, 4, 3, 12, 8, 8, 7, 4, 6, 5, 8, 8, 4, 6, 6, 7, 7, 5, 11, 6, 7, 7, 2, 7, 4, 10, 6, 12, 8, 4, 10, 8, 8, 9, 3, 9, 5, 5, 9, 10, 10, 7, 10, 3, 8, 2, 7, 8, 10, 5, 6, 8, 5, 9, 6, 9, 3, 9, 10, 6, 4, 12, 4, 7, 7, 5, 7, 3, 5, 6, 7, 8, 6, 11, 5, 6, 7, 6, 11, 5, 9, 11, 6, 4, 9, 9, 10, 6, 8, 11, 3, 9, 9, 7, 11, 5, 9, 7, 9, 8, 8, 9, 7, 7, 4, 10, 6, 7, 3, 6, 7, 7, 8, 11, 7, 7, 5, 11, 10, 4, 4, 9, 9, 3, 7, 4, 11, 5, 7, 8, 5, 8, 11, 6, 3, 7, 5, 7, 8, 4, 6, 12, 7, 8, 8, 7, 8, 9, 6, 10, 7, 6, 7, 11, 7, 7, 7, 10, 11, 7, 2, 7, 6, 8, 8, 6, 5, 3, 4, 4, 7, 7, 4, 10, 4, 8, 12, 2, 7, 6, 3, 7, 9, 5, 4, 7, 10, 8, 10, 6, 4, 8, 5, 10, 6, 9, 4, 9, 2, 5, 11, 7, 10, 7, 9, 5, 8, 5, 12, 4, 5, 5, 10, 8, 10, 7, 6, 5, 7, 9, 11, 3, 10, 8, 4, 4, 8, 7, 4, 4, 5, 9, 11, 4, 8, 3, 6, 3, 9, 7, 4, 2, 6, 8, 8, 8, 10, 6, 11, 10, 3, 3, 9, 6, 8, 6, 10, 6, 7, 3, 8, 5, 11, 8, 9, 5, 10, 5, 3, 8, 5, 4, 7, 5, 9, 10, 8, 10, 9, 8, 9, 6, 12, 6, 9, 8, 6, 11, 9, 8, 9, 7, 11, 3, 8, 10, 6, 8, 12, 10, 8, 5, 4, 5, 8, 4, 9, 11, 5, 8, 8, 7, 6, 9, 11, 6, 8, 7, 12, 7, 7, 6, 11, 4, 5, 7, 2, 12, 5, 3, 9, 9, 10, 11, 4, 7, 8, 7, 9, 7, 8, 6, 12, 7, 5, 6, 4, 6, 10, 9, 7, 10, 4, 8, 4, 2, 8, 6, 6, 9, 8, 11, 8, 4, 6, 8, 2, 8, 6, 3, 7, 10, 11, 12, 7, 11, 12, 6, 12, 9, 8, 7, 4, 11, 10, 9, 10, 12, 7, 7, 5, 12, 12, 6, 4, 8, 10, 4, 4, 5, 9, 6, 6, 6, 6, 8, 7, 5, 8, 6, 9, 7, 11, 2, 10, 6, 9, 8, 3, 7, 5, 7, 3, 4, 11, 6, 5, 7, 9, 7, 6, 8, 8, 6, 8, 5, 4, 9, 4, 9, 9, 5, 9, 4, 12, 6, 3, 7, 7, 5, 11, 4, 8, 10, 4, 6, 5, 11, 10, 5, 5, 7, 9, 8, 11, 8, 11, 6, 12, 6, 8, 8, 7, 7, 7, 11, 8, 5, 8, 7, 8, 5, 6, 4, 6, 8, 4, 8, 11, 8, 8, 2, 8, 9, 6, 9, 9, 8, 6, 8, 5, 8, 8, 8, 7, 7, 7, 4, 5, 9, 8, 10, 4, 8, 7, 6, 11, 8, 9, 6, 3, 5, 8, 11, 11, 7, 7, 6, 4, 6, 6, 7, 5, 5, 8, 6, 8, 2, 5, 8, 4, 3, 9, 4, 5, 10, 12, 7, 7, 4, 7, 8, 3, 4, 5, 11, 3, 6, 12, 6, 11, 7, 8, 6, 9, 8, 8, 8, 7, 5, 4, 10, 8, 8, 3, 8, 9, 10, 6, 7, 2, 5, 5, 11, 8, 10, 11, 3, 7, 12, 11, 7, 7, 10, 3, 5, 7, 3, 8, 5, 8, 8, 5, 8, 5, 8, 5, 3, 4, 5, 4, 7, 7, 7, 8, 6, 3, 9, 8, 7, 3, 6, 7, 9, 8, 5, 7, 7, 6, 3, 9, 6, 7, 8, 7, 6, 8, 9, 7, 5, 8, 9, 12, 9, 10, 10, 3, 7, 5, 8, 6, 5, 6, 5, 9, 5, 10, 8, 12, 4, 4, 9, 7, 7, 10, 7, 9, 2, 7, 9, 8, 8, 6, 7, 10, 11, 8, 7, 7, 6, 7, 4, 7, 8, 7, 9, 8, 7, 8, 7, 8, 6, 7, 6, 6, 7, 8, 7, 6, 7, 6, 12, 9, 7, 6, 5, 2, 10, 7, 9, 6, 9, 5, 9, 10, 3, 5, 7, 5, 4, 4, 5, 8, 11, 7, 9, 7, 7, 6, 8, 7, 3, 3, 4, 9, 9, 5, 4, 8, 7, 9, 7, 8, 11, 10, 6, 8, 4, 7, 10, 6, 7, 10, 2, 9, 7, 4, 3, 10, 9, 9, 4, 4, 8, 5, 5, 7, 9, 6, 8, 7, 7, 9, 6, 8, 8, 12, 3, 10, 9, 10, 6, 5, 8, 3, 9, 5, 4, 8, 10, 5, 7, 5, 10, 6, 8, 8, 9, 9, 6, 9, 10, 6, 9, 5, 6, 7, 7, 9, 3, 9, 5, 8, 5, 11, 8, 9, 3, 8, 8, 6, 8, 6, 10, 5, 10, 11, 8, 10, 8, 9, 9, 6, 2, 3, 9, 4, 9, 6, 3, 9, 2, 10, 4, 11, 7, 7, 6, 4, 5, 8, 9, 6, 2, 7, 10, 8, 7, 4, 4, 6, 5, 5, 9, 6, 4, 5, 12, 10, 6, 7, 5, 4, 8, 8, 7, 7, 6, 8, 4, 4, 7, 11, 11, 6, 5, 5, 8, 7, 5, 7, 12, 7, 8, 5, 8, 7, 6, 9, 7, 3, 3, 11, 6, 6, 6, 8, 10, 5, 10, 7, 4, 7, 5, 7, 10, 6, 6, 4, 9, 5, 7, 8, 8, 4, 5, 7, 10, 5, 2, 8, 7, 8, 7, 3, 6, 8, 8, 5, 6, 8, 5, 10, 10, 2, 7, 11, 12, 4, 9, 7, 10, 6, 8, 12, 9, 7, 9, 6, 6, 6, 12, 5, 7, 7, 4, 9, 6, 8, 6, 5, 4, 6, 9, 3, 9, 9, 11, 9, 8, 5, 4, 5, 10, 7, 6, 8, 7, 9, 9, 10, 5, 5, 7, 3, 5, 2, 7, 8, 9, 5, 7, 4, 8, 7, 9, 5, 10, 6, 12, 7, 6, 11, 9, 8, 2, 4, 6, 5, 7, 6, 7, 7, 10, 7, 9, 9, 8, 6, 7, 7, 4, 4, 5, 3, 7, 12, 7, 10, 11, 2, 9, 7, 4, 2, 2, 7, 4, 8, 6, 8, 5, 6, 6, 6, 9, 6, 9, 12, 10, 9, 9, 5, 11, 4, 5, 7, 7, 5, 7, 7, 3, 11, 10, 11, 3, 3, 6, 3, 6, 7, 5, 7, 9, 4, 10, 4, 4, 8, 8, 10, 7, 6, 4, 7, 7, 7, 4, 11, 11, 6, 6, 6, 7, 9, 4, 4, 10, 6, 4, 7, 8, 9, 5, 12, 6, 5, 6, 9, 7, 4, 10, 8, 7, 5, 7, 3, 2, 9, 3, 6, 9, 4, 11, 6, 11, 10, 6, 3, 8, 10, 10, 3, 5, 7, 9, 4, 12, 10, 5, 9, 7, 10, 5, 11, 5, 8, 7, 7, 9, 9, 6, 4, 6, 2, 7, 11, 6, 7, 6, 8, 8, 8, 9, 8, 10, 8, 4, 7, 8, 6, 5, 7, 8, 8, 7, 6, 10, 6, 7, 5, 7, 8, 11, 4, 12, 9, 5, 9, 5, 10, 7, 6, 9, 3, 8, 7, 7, 8, 4, 4, 8, 8, 9, 11, 12, 8, 7, 7, 5, 8, 6, 9, 11, 9, 7, 6, 2, 3, 11, 8, 7, 3, 12, 4, 6, 5, 2, 12, 7, 7, 7, 7, 5, 6, 7, 9, 5, 10, 11, 2, 6, 6, 3, 8, 8, 11, 11, 9, 7, 10, 4, 3, 8, 6, 11, 6, 10, 4, 3, 9, 7, 7, 5, 6, 9, 4, 6, 9, 7, 8, 6, 4, 5, 6, 5, 8, 10, 6, 7, 7, 4, 7, 8, 5, 7, 4, 3, 3, 12, 6, 7, 6, 10, 5, 5, 6, 4, 10, 5, 3, 5, 8, 7, 8, 8, 8, 6, 9, 11, 3, 8, 8, 9, 6, 8, 6, 5, 10, 4, 11, 7, 8, 7, 6, 8, 7, 5, 9, 10, 7, 7, 7, 5, 5, 8, 4, 5, 10, 8, 4, 8, 6, 9, 9, 8, 4, 2, 9, 10, 5, 6, 4, 7, 7, 4, 2, 6, 6, 7, 8, 5, 6, 9, 7, 6, 11, 6, 7, 12, 2, 8, 7, 5, 6, 5, 5, 9, 6, 7, 9, 6, 4, 11, 5, 8, 6, 6, 3, 8, 3, 9, 8, 6, 5, 12, 10, 5, 11, 4, 7, 10, 8, 8, 7, 7, 2, 10, 8, 8, 9, 4, 6, 8, 7, 4, 7, 10, 7, 7, 5, 7, 9, 6, 8, 9, 7, 8, 9, 5, 11, 10, 8, 6, 7, 6, 11, 11, 6, 5, 5, 8, 6, 11, 6, 10, 3, 11, 3, 7, 3, 7, 3, 7, 7, 10, 4, 3, 10, 7, 7, 4, 10, 3, 5, 4, 7, 8, 7, 6, 7, 10, 6, 5, 7, 5, 10, 6, 11, 6, 10, 10, 7, 12, 6, 3, 8, 10, 7, 4, 9, 2, 7, 7, 2, 6, 9, 9, 10, 7, 8, 7, 10, 10, 8, 8, 11, 6, 6, 5, 12, 9, 9, 4, 11, 7, 5, 7, 7, 10, 10, 9, 8, 12, 8, 9, 7, 11, 7, 5, 12, 8, 6, 9, 4, 4, 4, 9, 6, 8, 7, 6, 5, 4, 5, 7, 10, 8, 9, 10, 9, 7, 3, 11, 10, 6, 8, 3, 7, 8, 8, 7, 8, 9, 8, 7, 10, 5, 4, 3, 9, 5, 7, 4, 7, 9, 6, 4, 4, 7, 2, 6, 4, 4, 8, 5, 4, 9, 7, 6, 3, 7, 7, 5, 8, 9, 11, 8, 6, 9, 10, 3, 8, 6, 6, 3, 8, 4, 5, 7, 7, 3, 2, 2, 8, 10, 6, 3, 6, 9, 3, 4, 4, 9, 12, 11, 3, 7, 9, 2, 8, 8, 5, 11, 9, 7, 9, 6, 6, 10, 4, 7, 7, 10, 12, 6, 5, 7, 9, 4, 4, 11, 6, 5, 5, 12, 9, 6, 2, 9, 10, 8, 3, 3, 6, 4, 10, 12, 6, 5, 7, 8, 9, 8, 9, 7, 9, 6, 5, 5, 10, 9, 3, 7, 7, 6, 3, 10, 10, 11, 8, 9, 9, 5, 6, 5, 6, 8, 6, 4, 8, 4, 9, 12, 4, 6, 8, 9, 7, 7, 11, 6, 12, 8, 7, 7, 6, 8, 12, 5, 6, 7, 9, 9, 7, 9, 12, 4, 10, 9, 4, 7, 6, 5, 5, 11, 6, 11, 6, 9, 8, 8, 7, 8, 7, 6, 7, 4, 5, 9, 8, 6, 8, 6, 11, 10, 7, 3, 9, 8, 9, 9, 4, 3, 7, 7, 11, 7, 7, 5, 6, 8, 7, 10, 10, 6, 4, 7, 7, 4, 3, 8, 5, 4, 8, 8, 6, 6, 8, 11, 7, 6, 6, 9, 6, 11, 7, 6, 10, 8, 9, 4, 3, 5, 8, 9, 3, 5, 5, 10, 5, 9, 9, 4, 3, 8, 8, 2, 7, 4, 4, 8, 5, 4, 2, 5, 7, 10, 6, 7, 7, 9, 6, 6, 11, 8, 7, 9, 10, 6, 4, 6, 9, 9, 4, 5, 12, 7, 7, 9, 7, 6, 7, 6, 4, 8, 7, 3, 6, 8, 9, 7, 8, 6, 3, 8, 6, 6, 7, 8, 9, 4, 6, 12, 11, 4, 6, 9, 7, 11, 7, 5, 6, 9, 10, 8, 5, 8, 5, 9, 10, 5, 12, 6, 9, 11, 10, 4, 3, 12, 10, 8, 4, 6, 9, 5, 3, 10, 11, 5, 11, 6, 9, 5, 7, 9, 4, 5, 6, 5, 9, 5, 9, 4, 8, 5, 7, 8, 9, 2, 8, 7, 4, 9, 3, 4, 8, 8, 7, 8, 8, 8, 7, 7, 10, 5, 11, 8, 6, 5, 7, 7, 7, 8, 7, 6, 4, 12, 5, 6, 10, 9, 7, 9, 4, 6, 5, 10, 8, 6, 8, 2, 8, 7, 6, 5, 6, 4, 6, 4, 8, 11, 6, 7, 3, 8, 6, 11, 4, 7, 5, 6, 10, 5, 10, 8, 10, 7, 5, 5, 3, 4, 8, 2, 4, 4, 2, 3, 9, 9, 11, 3, 12, 7, 8, 8, 4, 4, 9, 9, 5, 5, 8, 5, 6, 7, 6, 8, 8, 8, 4, 7, 8, 10, 7, 8, 7, 6, 8, 7, 12, 3, 8, 5, 7, 8, 11, 7, 6, 10, 5, 4, 8, 2, 7, 2, 11, 8, 8, 7, 3, 8, 5, 3, 7, 4, 6, 7, 11, 7, 8, 5, 6, 2, 7, 5, 5, 5, 8, 8, 8, 2, 9, 8, 10, 8, 12, 7, 9, 5, 8, 7, 8, 11, 9, 7, 11, 9, 2, 9, 10, 12, 7, 11, 9, 10, 2, 6, 3, 9, 11, 5, 2, 9, 8, 5, 6, 8, 9, 6, 3, 6, 7, 7, 6, 7, 6, 9, 8, 6, 10, 6, 4, 8, 7, 9, 6, 10, 8, 10, 4, 7, 5, 9, 8, 7, 9, 4, 9, 8, 6, 4, 9, 11, 7, 12, 8, 5, 6, 4, 8, 10, 7, 7, 3, 10, 7, 6, 7, 3, 3, 10, 4, 10, 8, 4, 7, 7, 6, 8, 9, 6, 10, 7, 8, 7, 9, 4, 4, 8, 11, 9, 4, 7, 11, 3, 7, 7, 9, 12, 11, 8, 5, 5, 6, 8, 4, 11, 7, 4, 5, 10, 10, 4, 6, 4, 10, 10, 6, 4, 7, 8, 2, 9, 8, 4, 7, 5, 10, 9, 9, 4, 4, 12, 3, 4, 7, 5, 11, 6, 12, 10, 6, 7, 5, 11, 7, 5, 7, 3, 5, 7, 11, 7, 10, 7, 7, 2, 11, 10, 7, 7, 8, 11, 9, 3, 5, 9, 9, 4, 5, 5, 8, 12, 6, 7, 7, 5, 6, 6, 8, 11, 4, 2, 11, 5, 5, 8, 9, 7, 2, 9, 8, 7, 8, 7, 9, 12, 7, 7, 11, 5, 10, 8, 4, 8, 7, 5, 12, 10, 2, 7, 3, 8, 8, 6, 6, 2, 8, 5, 7, 7, 5, 6, 7, 6, 2, 9, 12, 8, 10, 4, 2, 7, 8, 4, 8, 7, 9, 6, 6, 8, 4, 6, 9, 7, 4, 4, 8, 5, 7, 7, 8, 10, 4, 9, 12, 6, 6, 9, 6, 7, 9, 9, 7, 2, 7, 8, 9, 10, 7, 6, 5, 4, 5, 7, 5, 2, 6, 11, 12, 9, 7, 7, 10, 3, 6, 2, 5, 4, 9, 4, 10, 10, 7, 5, 7, 4, 9, 7, 8, 4, 5, 9, 5, 10, 9, 8, 11, 6, 5, 8, 11, 3, 9, 9, 11, 7, 8, 4, 9, 5, 3, 9, 12, 7, 6, 3, 10, 6, 3, 9, 4, 10, 6, 8, 10, 5, 9, 5, 7, 9, 11, 5, 6, 6, 3, 3, 5, 8, 7, 3, 5, 7, 6, 7, 7, 7, 8, 7, 4, 2, 3, 4, 4, 6, 9, 10, 11, 7, 6, 6, 9, 6, 7, 7, 7, 8, 9, 8, 8, 10, 9, 6, 8, 5, 2, 8, 7, 12, 7, 6, 9, 6, 5, 8, 6, 9, 6, 4, 11, 7, 6, 7, 6, 3, 7, 5, 12, 11, 4, 10, 3, 7, 10, 9, 6, 8, 5, 8, 8, 4, 7, 6, 3, 4, 9, 9, 10, 7, 12, 11, 8, 5, 3, 8, 7, 7, 8, 6, 11, 4, 5, 7, 3, 6, 9, 7, 6, 8, 8, 5, 7, 10, 10, 8, 6, 7, 4, 5, 8, 6, 8, 3, 6, 7, 6, 4, 3, 4, 3, 3, 9, 10, 8, 5, 12, 12, 12, 3, 8, 10, 3, 5, 9, 6, 5, 5, 6, 8, 7, 8, 10, 10, 2, 5, 5, 9, 6, 10, 8, 8, 5, 7, 9, 4, 9, 8, 9, 8, 7, 6, 7, 7, 8, 7, 6, 7, 6, 7, 6, 5, 5, 5, 8, 7, 9, 3, 11, 7, 7, 11, 6, 6, 7, 6, 6, 8, 8, 4, 8, 2, 9, 8, 11, 9, 7, 8, 3, 8, 6, 9, 9, 9, 6, 8, 7, 4, 7, 6, 7, 7, 10, 6, 10, 3, 5, 6, 9, 9, 11, 8, 6, 8, 9, 3, 7, 4, 5, 11, 3, 8, 4, 9, 3, 5, 9, 9, 10, 12, 10, 10, 6, 7, 3, 9, 7, 6, 2, 5, 10, 9, 12, 7, 9, 7, 7, 7, 7, 5, 6, 8, 6, 7, 11, 7, 7, 9, 12, 8, 5, 11, 10, 7, 7, 9, 8, 6, 10, 11, 8, 9, 7, 9, 9, 6, 3, 8, 4, 8, 11, 7, 9, 4, 6, 5, 6, 6, 5, 7, 3, 6, 7, 6, 4, 6, 8, 7, 7, 8, 8, 6, 7, 5, 6, 7, 7, 3, 3, 10, 2, 7, 7, 10, 10, 4, 7, 6, 7, 6, 7, 6, 2, 6, 4, 10, 6, 7, 4, 9, 3, 10, 6, 8, 7, 5, 6, 7, 9, 9, 9, 6, 7, 7, 5, 11, 7, 9, 7, 12, 9, 3, 10, 5, 6, 4, 11, 5, 3, 7, 8, 4, 8, 4, 7, 11, 11, 5, 4, 12, 7, 5, 10, 7, 8, 10, 9, 4, 9, 6, 10, 5, 8, 7, 7, 2, 5, 6, 8, 6, 7, 3, 4, 5, 8, 5, 10, 4, 7, 12, 12, 7, 7, 7, 4, 10, 11, 4, 6, 11, 7, 9, 7, 6, 8, 7, 9, 8, 7, 7, 4, 4, 6, 7, 4, 9, 3, 5, 4, 10, 11, 6, 5, 5, 5, 10, 7, 7, 5, 5, 6, 8, 10, 9, 5, 7, 8, 2, 4, 4, 7, 6, 6, 6, 10, 5, 7, 6, 3, 9, 6, 5, 7, 6, 5, 6, 4, 4, 11, 8, 4, 5, 7, 5, 11, 9, 10, 5, 5, 8, 6, 4, 12, 4, 9, 10, 9, 7, 8, 9, 12, 4, 4, 7, 8, 8, 7, 9, 9, 5, 6, 4, 8, 12, 6, 10, 9, 7, 8, 6, 3, 7, 8, 9, 7, 7, 11, 7, 11, 8, 9, 8, 6, 11, 5, 4, 7, 9, 11, 6, 6, 8, 9, 9, 6, 12, 7, 8, 9, 12, 10, 8, 7, 7, 9, 8, 7, 8, 7, 12, 7, 11, 5, 7, 6, 4, 5, 4, 9, 2, 6, 5, 11, 8, 6, 2, 12, 10, 9, 11, 3, 11, 7, 10, 6, 3, 7, 7, 8, 8, 3, 6, 3, 8, 6, 4, 9, 6, 9, 9, 7, 5, 10, 7, 4, 3, 8, 7, 4, 2, 8, 7, 9, 7, 7, 6, 12, 2, 6, 8, 10, 5, 10, 3, 8, 4, 6, 8, 7, 11, 6, 10, 4, 11, 11, 3, 3, 7, 2, 6, 5, 10, 12, 7, 10, 2, 7, 7, 10, 8, 9, 4, 7, 8, 4, 7, 8, 3, 9, 8, 6, 9, 9, 9, 3, 5, 6, 10, 6, 5, 5, 6, 6, 10, 8, 12, 8, 6, 7, 5, 6, 8, 8, 7, 7, 7, 5, 3, 7, 3, 5, 5, 9, 4, 11, 5, 9, 6, 4, 7, 7, 5, 7, 4, 4, 5, 9, 5, 11, 4, 2, 4, 8, 10, 11, 7, 6, 4, 7, 11, 9, 3, 5, 3, 5, 4, 5, 9, 6, 5, 7, 10, 7, 5, 5, 4, 5, 6, 8, 4, 8, 6, 4, 10, 12, 6, 6, 4, 2, 4, 7, 7, 6, 11, 4, 6, 8, 9, 8, 8, 7, 9, 4, 9, 8, 8, 6, 4, 7, 7, 7, 8, 8, 7, 7, 7, 6, 9, 4, 7, 4, 9, 10, 9, 3, 7, 3, 6, 7, 3, 6, 10, 2, 8, 6, 6, 9, 6, 5, 3, 10, 5, 8, 8, 11, 2, 5, 9, 6, 6, 6, 8, 5, 7, 9, 10, 7, 8, 5, 12, 10, 4, 11, 10, 5, 8, 8, 9, 7, 4, 5, 10, 9, 8, 9, 7, 10, 4, 7, 4, 10, 3, 12, 2, 9, 10, 6, 3, 10, 6, 10, 2, 3, 7, 10, 7, 8, 5, 10, 7, 10, 9, 6, 5, 7, 9, 12, 7, 7, 9, 8, 3, 8, 9, 3, 11, 10, 9, 2, 9, 11, 9, 4, 10, 3, 7, 10, 4, 8, 7, 7, 5, 4, 7, 9, 10, 3, 6, 10, 6, 10, 5, 6, 7, 7, 6, 4, 6, 4, 5, 6, 8, 8, 8, 10, 6, 7, 7, 8, 7, 6, 6, 9, 6, 6, 4, 9, 10, 5, 5, 3, 7, 8, 4, 4, 6, 4, 8, 3, 9, 9, 11, 10, 10, 6, 6, 4, 6, 11, 7, 6, 5, 7, 10, 7, 10, 7, 8, 3, 9, 4, 8, 8, 6, 11, 9, 2, 7, 9, 11, 5, 7, 6, 6, 7, 12, 7, 8, 5, 8, 5, 7, 5, 4, 8, 5, 5, 5, 3, 5, 8, 6, 10, 9, 2, 6, 8, 3, 7, 6, 9, 9, 9, 5, 6, 5, 9, 5, 6, 7, 8, 7, 7, 6, 9, 3, 5, 9, 12, 6, 4, 5, 5, 9, 9, 9, 12, 8, 8, 7, 6, 5, 10, 6, 5, 6, 7, 7, 11, 10, 10, 7, 7, 8, 12, 10, 7, 6, 8, 8, 8, 5, 10, 6, 4, 5, 8, 10, 6, 8, 10, 7, 8, 6, 2, 3, 5, 4, 6, 2, 7, 6, 8, 4, 2, 5, 8, 5, 10, 9, 5, 10, 11, 4, 3, 7, 9, 10, 10, 7, 8, 10, 8, 12, 5, 11, 3, 6, 8, 5, 3, 8, 7, 3, 10, 7, 6, 4, 8, 8, 12, 6, 7, 4, 7, 7, 3, 2, 5, 3, 10, 6, 9, 9, 9, 5, 10, 9, 6, 8, 7, 11, 3, 12, 9, 9, 6, 4, 5, 6, 4, 4, 7, 9, 4, 6, 4, 7, 4, 2, 7, 8, 7, 6, 11, 6, 9, 9, 11, 3, 5, 7, 10, 8, 9, 6, 7, 8, 6, 4, 8, 7, 9, 10, 10, 4, 5, 6, 6, 11, 6, 6, 2, 7, 9, 3, 4, 3, 10, 9, 10, 8, 5, 5, 6, 6, 6, 5, 8, 7, 9, 4, 2, 6, 3, 9, 9, 5, 8, 7, 10, 7, 2, 6, 6, 9, 10, 2, 7, 6, 7, 8, 4, 7, 11, 4, 7, 9, 9, 8, 9, 7, 5, 9, 10, 8, 9, 6, 10, 2, 5, 5, 9, 11, 7, 10, 7, 10, 8, 8, 9, 11, 5, 7, 7, 7, 6, 6, 9, 11, 9, 9, 10, 12, 6, 6, 5, 11, 9, 5, 5, 9, 5, 7, 8, 4, 3, 7, 11, 4, 8, 8, 4, 6, 5, 6, 6, 9, 6, 4, 8, 3, 7, 4, 10, 8, 3, 4, 5, 3, 11, 5, 11, 3, 8, 6, 3, 5, 3, 9, 10, 8, 9, 7, 6, 5, 4, 3, 3, 4, 5, 3, 5, 4, 7, 2, 5, 9, 5, 11, 4, 4, 7, 7, 6, 7, 6, 3, 7, 5, 6, 8, 8, 4, 7, 10, 9, 6, 4, 8, 6, 7, 9, 12, 9, 9, 8, 7, 9, 10, 5, 10, 10, 10, 5, 7, 7, 9, 9, 7, 9, 8, 11, 8, 6, 8, 12, 3, 10, 11, 6, 8, 5, 7, 7, 7, 4, 3, 4, 3, 6, 5, 7, 7, 5, 8, 7, 5, 11, 6, 7, 10, 6, 9, 8, 7, 5, 6, 9, 4, 7, 10, 8, 6, 7, 10, 7, 7, 7, 2, 8, 10, 6, 7, 5, 7, 5, 8, 10, 7, 9, 4, 12, 7, 8, 8, 9, 3, 3, 4, 5, 5, 6, 6, 3, 3, 11, 6, 5, 7, 7, 8, 3, 7, 6, 8, 2, 4, 6, 3, 8, 6, 7, 10, 11, 12, 7, 7, 3, 5, 5, 7, 9, 5, 3, 6, 6, 8, 10, 4, 8, 4, 3, 8, 8, 9, 9, 11, 3, 9, 3, 9, 8, 2, 4, 5, 6, 8, 6, 9, 7, 10, 7, 6, 6, 8, 10, 9, 10, 4, 4, 7, 5, 7, 10, 11, 12, 8, 10, 7, 6, 8, 8, 12, 5, 5, 9, 5, 8, 6, 6, 9, 4, 6, 12, 8, 5, 3, 6, 12, 7, 9, 7, 6, 10, 6, 10, 10, 6, 7, 9, 9, 6, 6, 7, 5, 9, 7, 11, 6, 5, 7, 3, 5, 5, 6, 9, 11, 10, 7, 9, 5, 9, 6, 11, 5, 4, 7, 7, 8, 6, 7, 10, 12, 11, 7, 2, 7, 4, 7, 7, 5, 5, 11, 7, 7, 10, 8, 5, 8, 12, 7, 5, 10, 12, 7, 10, 6, 7, 6, 8, 10, 9, 10, 9, 9, 5, 2, 7, 6, 8, 3, 6, 3, 4, 6, 4, 5, 8, 10, 4, 4, 4, 8, 8, 7, 3, 8, 6, 8, 8, 8, 5, 7, 6, 10, 7, 11, 5, 9, 9, 4, 9, 8, 6, 4, 4, 6, 5, 12, 8, 7, 4, 8, 7, 9, 3, 9, 2, 8, 10, 5, 7, 7, 9, 7, 2, 4, 5, 5, 7, 6, 4, 8, 11, 10, 5, 5, 7, 3, 10, 7, 8, 8, 7, 8, 9, 5, 6, 7, 7, 7, 7, 2, 8, 6, 7, 9, 9, 7, 7, 6, 4, 5, 9, 7, 4, 9, 4, 5, 6, 5, 10, 7, 5, 9, 6, 9, 12, 3, 9, 6, 9, 8, 4, 5, 8, 7, 5, 6, 3, 9, 4, 4, 4, 4, 10, 12, 10, 5, 10, 9, 5, 5, 7, 7, 12, 9, 9, 7, 8, 7, 6, 6, 11, 5, 9, 8, 5, 6, 9, 4, 6, 11, 3, 4, 11, 7, 6, 9, 4, 9, 8, 5, 11, 8, 5, 11, 9, 8, 12, 7, 8, 7, 8, 6, 12, 10, 7, 11, 7, 5, 6, 7, 5, 6, 4, 11, 9, 2, 8, 3, 6, 7, 9, 9, 9, 8, 8, 7, 5, 8, 7, 6, 6, 7, 4, 2, 11, 7, 5, 9, 11, 10, 7, 6, 4, 7, 7, 8, 8, 7, 8, 7, 3, 12, 4, 2, 5, 7, 5, 6, 10, 6, 9, 9, 3, 8, 6, 5, 4, 10, 3, 6, 8, 9, 9, 7, 10, 10, 7, 11, 11, 7, 12, 5, 5, 3, 6, 8, 9, 4, 9, 6, 10, 12, 8, 5, 5, 8, 5, 7, 7, 10, 9, 7, 3, 9, 8, 8, 7, 6, 11, 9, 5, 8, 5, 9, 8, 6, 5, 9, 7, 3, 11, 8, 7, 6, 4, 7, 6, 11, 3, 4, 8, 10, 4, 9, 5, 9, 11, 7, 7, 6, 6, 7, 3, 6, 9, 8, 11, 6, 5, 3, 9, 3, 9, 7, 9, 10, 8, 8, 11, 7, 7, 7, 2, 12, 6, 10, 7, 5, 9, 12, 9, 3, 5, 9, 6, 9, 7, 2, 7, 4, 9, 5, 8, 8, 5, 4, 9, 7, 4, 7, 7, 7, 7, 11, 4, 5, 4, 2, 8, 4, 3, 6, 8, 5, 6, 6, 8, 8, 7, 10, 5, 3, 7, 9, 8, 8, 8, 3, 6, 9, 9, 10, 11, 4, 4, 7, 7, 2, 11, 6, 6, 3, 6, 6, 8, 11, 7, 4, 8, 3, 7, 4, 6, 9, 9, 7, 6, 10, 7, 6, 3, 12, 7, 8, 9, 7, 9, 6, 6, 11, 10, 6, 4, 7, 3, 9, 9, 7, 7, 5, 11, 7, 8, 12, 5, 6, 8, 4, 7, 2, 5, 6, 2, 12, 9, 7, 9, 4, 6, 7, 4, 6, 9, 5, 4, 9, 10, 12, 8, 3, 4, 3, 3, 4, 2, 10, 9, 5, 6, 9, 7, 10, 7, 8, 5, 7, 5, 11, 8, 6, 7, 6, 7, 9, 6, 10, 9, 7, 11, 8, 6, 10, 7, 11, 7, 4, 7, 3, 11, 9, 7, 4, 8, 5, 8, 6, 7, 8, 5, 4, 10, 5, 5, 11, 5, 7, 7, 7, 9, 10, 8, 4, 7, 8, 11, 9, 5, 8, 11, 12, 6, 5, 6, 6, 8, 11, 6, 9, 6, 9, 9, 9, 6, 7, 7, 5, 9, 4, 8, 10, 9, 9, 7, 7, 9, 2, 6, 3, 4, 7, 8, 7, 9, 7, 10, 7, 6, 3, 11, 6, 6, 7, 7, 7, 10, 3, 8, 3, 10, 12, 10, 9, 8, 6, 5, 8, 9, 7, 8, 9, 7, 9, 3, 7, 7, 5, 9, 11, 4, 8, 7, 6, 9, 9, 8, 7, 8, 8, 4, 4, 10, 6, 8, 3, 3, 4, 8, 8, 5, 8, 12, 5, 8, 10, 8, 9, 3, 3, 7, 8, 4, 7, 5, 8, 10, 7, 6, 9, 7, 8, 12, 7, 6, 6, 9, 11, 4, 9, 4, 9, 8, 9, 9, 3, 7, 5, 3, 4, 8, 5, 6, 10, 3, 4, 5, 7, 5, 9, 3, 10, 6, 11, 9, 6, 8, 10, 9, 7, 6, 11, 11, 6, 6, 10, 3, 7, 7, 4, 5, 5, 9, 7, 8, 6, 8, 8, 7, 3, 9, 6, 7, 5, 11, 6, 11, 7, 11, 11, 6, 8, 7, 10, 8, 6, 7, 7, 5, 8, 3, 6, 8, 10, 7, 7, 6, 6, 5, 4, 8, 10, 9, 8, 3, 6, 6, 8, 10, 5, 6, 5, 3, 4, 12, 8, 8, 3, 8, 5, 4, 7, 11, 7, 7, 7, 11, 5, 6, 8, 9, 5, 6, 10, 11, 9, 7, 7, 4, 6, 6, 10, 6, 8, 7, 9, 2, 7, 8, 6, 5, 11, 3, 3, 9, 7, 5, 9, 7, 7, 11, 7, 6, 3, 4, 7, 7, 7, 6, 9, 7, 4, 9, 8, 8, 8, 11, 10, 4, 9, 5, 4, 3, 6, 5, 2, 10, 8, 4, 7, 10, 7, 9, 6, 5, 9, 3, 12, 8, 9, 8, 7, 7, 10, 7, 3, 6, 6, 7, 6, 8, 3, 5, 10, 9, 7, 7, 2, 11, 4, 9, 6, 7, 4, 4, 10, 11, 6, 4, 7, 6, 6, 6, 9, 9, 4, 8, 6, 5, 5, 10, 4, 9, 2, 9, 7, 7, 4, 7, 4, 8, 5, 6, 7, 8, 3, 6, 6, 6, 5, 5, 9, 9, 9, 10, 10, 8, 9, 3, 3, 8, 9, 3, 5, 10, 7, 5, 5, 4, 10, 6, 6, 7, 8, 9, 12, 8, 3, 3, 6, 6, 2, 11, 12, 6, 5, 7, 6, 8, 4, 7, 11, 11, 8, 10, 3, 7, 10, 7, 9, 3, 9, 8, 7, 7, 3, 7, 4, 7, 4, 8, 4, 6, 4, 11, 6, 6, 6, 5, 5, 8, 3, 8, 9, 2, 7, 6, 2, 4, 8, 6, 3, 7, 6, 10, 3, 6, 8, 9, 6, 7, 7, 8, 7, 8, 11, 10, 5, 7, 9, 6, 8, 9, 7, 7, 2, 6, 8, 6, 9, 3, 11, 10, 5, 7, 7, 7, 10, 7, 6, 9, 3, 7, 7, 9, 6, 7, 5, 6, 9, 6, 7, 9, 6, 9, 9, 11, 3, 12, 11, 11, 4, 8, 5, 5, 10, 4, 5, 5, 4, 6, 4, 5, 4, 5, 6, 7, 4, 9, 3, 3, 4, 9, 10, 7, 7, 5, 8, 7, 7, 11, 8, 11, 10, 6, 9, 2, 8, 7, 6, 4, 7, 5, 5, 2, 9, 3, 10, 7, 7, 5, 8, 9, 6, 9, 4, 7, 5, 6, 8, 10, 4, 8, 4, 7, 5, 4, 12, 2, 6, 5, 6, 3, 8, 9, 9, 4, 9, 7, 8, 4, 7, 7, 11, 7, 6, 6, 6, 6, 8, 8, 7, 9, 6, 7, 6, 9, 7, 11, 8, 6, 8, 9, 4, 2, 6, 4, 8, 10, 12, 6, 9, 7, 7, 10, 3, 12, 7, 11, 11, 3, 5, 5, 6, 5, 11, 6, 8, 4, 4, 6, 5, 5, 6, 9, 2, 9, 8, 7, 7, 8, 3, 11, 6, 9, 9, 7, 4, 5, 5, 9, 9, 5, 9, 6, 4, 6, 7, 5, 8, 10, 9, 4, 7, 6, 8, 6, 9, 5, 6, 7, 9, 6, 7, 11, 4, 2, 5, 6, 9, 8, 3, 6, 6, 6, 5, 5, 6, 5, 5, 7, 10, 8, 4, 8, 9, 2, 4, 6, 7, 5, 8, 8, 7, 3, 7, 9, 8, 8, 9, 4, 4, 8, 4, 8, 6, 5, 6, 5, 7, 8, 11, 7, 6, 6, 9, 7, 9, 2, 8, 4, 9, 6, 11, 7, 7, 9, 7, 3, 8, 7, 3, 7, 9, 6, 4, 7, 7, 7, 8, 3, 9, 7, 6, 11, 6, 5, 8, 6, 8, 9, 6, 5, 5, 8, 10, 3, 8, 6, 7, 5, 6, 5, 2, 7, 7, 6, 9, 4, 10, 10, 8, 9, 5, 4, 8, 6, 11, 9, 8, 9, 12, 8, 8, 6, 6, 3, 4, 5, 4, 7, 12, 8, 2, 8, 10, 8, 9, 3, 2, 8, 3, 8, 8, 6, 8, 5, 8, 6, 10, 7, 3, 6, 7, 3, 5, 5, 5, 9, 8, 6, 5, 8, 12, 8, 8, 10, 6, 9, 9, 3, 8, 5, 10, 3, 9, 9, 7, 9, 6, 5, 5, 5, 9, 10, 8, 2, 8, 2, 8, 12, 4, 4, 9, 10, 5, 7, 6, 8, 6, 6, 9, 9, 6, 8, 8, 3, 10, 7, 9, 4, 3, 7, 5, 4, 10, 2, 6, 9, 9, 4, 6, 12, 3, 10, 10, 6, 8, 11, 3, 11, 7, 10, 10, 8, 7, 6, 7, 9, 11, 3, 7, 11, 8, 10, 7, 8, 4, 10, 8, 5, 8, 9, 6, 5, 4, 9, 9, 4, 9, 6, 4, 2, 7, 7, 10, 4, 7, 4, 9, 8, 10, 11, 8, 9, 3, 12, 4, 7, 10, 6, 7, 5, 9, 8, 9, 5, 5, 12, 6, 8, 8, 12, 6, 7, 4, 6, 4, 8, 4, 7, 8, 8, 7, 7, 6, 6, 2, 10, 8, 11, 6, 8, 9, 6, 10, 7, 8, 5, 6, 10, 7, 5, 7, 4, 11, 4, 9, 11, 7, 4, 10, 9, 2, 8, 7, 10, 8, 3, 8, 8, 4, 9, 9, 7, 11, 4, 7, 2, 8, 8, 5, 2, 5, 6, 7, 7, 6, 6, 10, 10, 8, 11, 8, 8, 9, 7, 4, 9, 7, 6, 4, 9, 4, 11, 7, 7, 7, 7, 11, 7, 7, 8, 9, 7, 4, 4, 4, 7, 5, 6, 10, 3, 5, 12, 11, 7, 4, 11, 9, 8, 8, 9, 3, 6, 7, 9, 11, 8, 3, 6, 2, 4, 12, 7, 7, 3, 7, 6, 7, 4, 11, 10, 11, 8, 7, 8, 6, 4, 4, 10, 9, 7, 7, 8, 8, 8, 5, 7, 9, 11, 9, 10, 7, 7, 7, 7, 5, 12, 11, 9, 7, 5, 7, 11, 7, 7, 9, 7, 4, 5, 8, 8, 5, 5, 7, 12, 10, 10, 7, 9, 8, 4, 5, 3, 9, 8, 8, 7, 9, 7, 10, 2, 10, 10, 6, 8, 6, 5, 11, 5, 6, 8, 6, 6, 7, 4, 9, 7, 5, 5, 7, 10, 5, 12, 7, 7, 6, 7, 3, 9, 10, 7, 12, 9, 10, 7, 10, 2, 7, 7, 6, 9, 8, 5, 5, 10, 7, 5, 7, 9, 8, 6, 10, 7, 8, 5, 11, 7, 8, 3, 10, 8, 6, 4, 12, 3, 4, 6, 8, 6, 9, 9, 11, 8, 6, 4, 7, 7, 4, 6, 9, 5, 9, 7, 4, 5, 7, 8, 7, 7, 6, 7, 8, 6, 4, 6, 4, 6, 8, 7, 3, 2, 6, 6, 5, 9, 9, 6, 3, 8, 5, 9, 8, 3, 7, 6, 12, 6, 11, 5, 5, 4, 7, 7, 4, 6, 4, 3, 11, 4, 6, 9, 10, 5, 7, 6, 6, 2, 11, 9, 7, 5, 7, 8, 5, 7, 9, 7, 12, 5, 6, 4, 7, 5, 4, 8, 8, 10, 11, 11, 5, 5, 6, 11, 4, 12, 7, 7, 12, 11, 9, 5, 8, 6, 5, 8, 6, 2, 10, 2, 10, 3, 4, 4, 2, 8, 11, 8, 10, 9, 2, 8, 9, 5, 5, 6, 5, 8, 7, 4, 8, 9, 5, 3, 6, 3, 10, 10, 6, 7, 6, 5, 7, 6, 7, 11, 6, 5, 8, 4, 9, 6, 10, 6, 5, 7, 9, 5, 7, 6, 3, 3, 10, 4, 8, 10, 9, 8, 5, 11, 4, 9, 7, 4, 8, 9, 10, 7, 12, 7, 7, 8, 7, 4, 6, 8, 6, 4, 10, 7, 4, 7, 5, 6, 9, 12, 6, 6, 6, 6, 6, 12, 10, 8, 4, 6, 5, 9, 9, 4, 7, 6, 4, 9, 3, 10, 8, 10, 7, 4, 10, 8, 8, 7, 2, 7, 10, 10, 4, 2, 6, 6, 8, 11, 7, 5, 3, 9, 11, 8, 2, 2, 11, 9, 8, 7, 5, 3, 9, 8, 7, 4, 5, 6, 9, 10, 11, 7, 7, 6, 2, 6, 7, 4, 10, 7, 10, 3, 8, 11, 7, 5, 4, 8, 10, 5, 6, 10, 9, 8, 9, 6, 7, 7, 7, 9, 8, 3, 6, 3, 4, 8, 5, 4, 8, 9, 9, 5, 8, 7, 8, 9, 3, 7, 11, 5, 5, 4, 4, 8, 5, 2, 11, 6, 10, 3, 10, 4, 5, 4, 8, 8, 6, 8, 12, 7, 9, 7, 5, 8, 6, 7, 10, 3, 7, 11, 7, 7, 5, 5, 7, 9, 7, 6, 12, 6, 9, 4, 5, 10, 8, 11, 6, 6, 8, 5, 8, 5, 7, 8, 6, 6, 9, 6, 7, 6, 9, 7, 6, 8, 8, 5, 4, 5, 12, 10, 4, 7, 12, 7, 9, 3, 6, 5, 7, 9, 9, 2, 6, 9, 11, 8, 5, 3, 4, 8, 12, 10, 6, 7, 7, 7, 10, 2, 10, 12, 4, 5, 8, 10, 7, 7, 8, 4, 8, 3, 10, 8, 5, 10, 9, 7, 4, 10, 6, 7, 5, 6, 11, 7, 10, 8, 4, 4, 8, 7, 8, 5, 3, 6, 10, 3, 6, 5, 7, 7, 4, 9, 6, 7, 3, 11, 9, 10, 9, 5, 2, 5, 6, 2, 11, 9, 7, 5, 8, 9, 7, 10, 6, 7, 10, 9, 7, 7, 4, 9, 10, 9, 9, 6, 11, 12, 3, 10, 8, 5, 6, 5, 6, 12, 9, 2, 7, 6, 4, 3, 3, 6, 7, 7, 6, 5, 6, 9, 8, 9, 8, 9, 5, 4, 5, 10, 11, 6, 3, 8, 7, 8, 5, 7, 7, 6, 6, 8, 2, 2, 5, 8, 8, 8, 5, 6, 8, 3, 8, 4, 4, 10, 6, 8, 8, 8, 7, 7, 11, 9, 9, 8, 8, 6, 8, 5, 9, 8, 9, 10, 10, 7, 9, 9, 10, 4, 9, 6, 6, 7, 8, 12, 3, 5, 7, 11, 4, 10, 5, 4, 7, 7, 5, 5, 11, 11, 6, 10, 6, 7, 5, 9, 10, 9, 7, 8, 8, 6, 11, 4, 5, 9, 8, 4, 3, 4, 6, 7, 9, 6, 8, 7, 9, 9, 9, 3, 6, 5, 11, 6, 10, 8, 6, 9, 10, 10, 12, 6, 7, 8, 4, 5, 11, 8, 2, 12, 12, 10, 8, 5, 4, 5, 9, 4, 5, 5, 2, 7, 10, 8, 6, 9, 5, 6, 6, 6, 7, 6, 5, 4, 5, 6, 10, 6, 10, 8, 7, 8, 6, 5, 8, 5, 8, 7, 8, 3, 10, 6, 7, 4, 4, 3, 4, 7, 10, 7, 7, 5, 4, 6, 6, 4, 4, 8, 12, 9, 4, 10, 9, 8, 10, 7, 5, 8, 8, 7, 9, 4, 11, 9, 11, 10, 9, 8, 6, 6, 7, 7, 7, 9, 4, 9, 9, 10, 4, 5, 5, 7, 10, 7, 7, 7, 9, 7, 10, 7, 3, 12, 2, 5, 2, 6, 4, 8, 8, 3, 3, 7, 7, 5, 8, 3, 7, 6, 10, 6, 10, 10, 6, 6, 11, 3, 10, 11, 10, 6, 8, 9, 3, 8, 4, 6, 11, 7, 9, 6, 6, 9, 7, 5, 6, 8, 4, 4, 12, 6, 10, 11, 6, 9, 6, 4, 5, 8, 4, 9, 9, 11, 9, 4, 7, 10, 7, 10, 11, 7, 11, 5, 7, 5, 8, 6, 9, 9, 5, 3, 3, 4, 7, 6, 6, 6, 9, 7, 7, 7, 7, 5, 4, 7, 11, 6, 6, 11, 9, 7, 6, 2, 3, 12, 7, 8, 7, 11, 5, 10, 9, 7, 4, 8, 10, 7, 6, 6, 10, 11, 8, 3, 6, 9, 4, 8, 9, 10, 8, 9, 6, 9, 8, 8, 11, 7, 10, 6, 8, 9, 10, 8, 3, 6, 11, 7, 10, 3, 9, 8, 8, 11, 11, 7, 2, 8, 8, 4, 5, 5, 4, 6, 5, 4, 9, 7, 11, 10, 3, 9, 4, 11, 9, 5, 7, 9, 6, 6, 10, 4, 5, 10, 10, 7, 2, 3, 4, 3, 4, 8, 7, 10, 10, 8, 4, 4, 4, 3, 3, 5, 5, 6, 8, 12, 4, 8, 6, 3, 8, 11, 10, 9, 6, 5, 7, 10, 6, 5, 6, 6, 7, 10, 9, 5, 8, 8, 4, 6, 5, 6, 6, 5, 7, 5, 10, 9, 5, 11, 8, 8, 6, 6, 12, 7, 11, 5, 3, 9, 3, 10, 4, 5, 6, 10, 5, 4, 6, 3, 8, 7, 8, 8, 10, 4, 7, 7, 3, 7, 7, 3, 9, 7, 6, 9, 9, 8, 7, 3, 9, 6, 8, 10, 10, 10, 5, 12, 6, 12, 8, 7, 6, 6, 7, 9, 2, 5, 6, 9, 7, 4, 6, 10, 6, 8, 7, 12, 6, 7, 7, 4, 8, 11, 8, 6, 9, 8, 10, 7, 6, 8, 6, 5, 7, 7, 6, 8, 8, 12, 7, 8, 7, 9, 9, 10, 6, 6, 8, 2, 4, 10, 6, 10, 9, 11, 5, 4, 9, 9, 8, 8, 6, 5, 4, 8, 3, 10, 10, 8, 3, 6, 4, 7, 10, 3, 7, 8, 7, 3, 8, 8, 9, 6, 8, 4, 7, 7, 10, 7, 10, 8, 9, 6, 6, 7, 5, 4, 6, 12, 8, 9, 7, 9, 4, 12, 4, 5, 4, 5, 7, 6, 12, 2, 8, 10, 6, 5, 5, 7, 9, 10, 5, 7, 10, 6, 7, 6, 9, 5, 2, 8, 8, 3, 5, 7, 8, 4, 9, 7, 6, 11, 8, 12, 5, 4, 12, 7, 11, 4, 2, 4, 4, 2, 6, 10, 5, 7, 11, 3, 9, 11, 5, 6, 11, 7, 5, 3, 6, 12, 6, 9, 5, 11, 11, 8, 7, 8, 6, 11, 9, 3, 7, 11, 8, 6, 3, 6, 6, 6, 10, 9, 6, 6, 9, 7, 8, 5, 5, 6, 11, 10, 9, 8, 6, 9, 7, 9, 6, 4, 4, 5, 9, 5, 10, 5, 11, 7, 2, 6, 12, 10, 9, 4, 7, 7, 7, 11, 11, 10, 5, 9, 7, 7, 10, 6, 11, 7, 4, 6, 5, 2, 10, 9, 10, 8, 8, 8, 3, 10, 4, 4, 10, 5, 8, 5, 5, 3, 6, 8, 6, 8, 6, 3, 5, 7, 3, 10, 5, 9, 9, 7, 8, 4, 9, 4, 5, 7, 8, 7, 7, 7, 5, 11, 5, 9, 6, 8, 9, 8, 6, 8, 7, 6, 5, 6, 10, 10, 7, 5, 9, 8, 6, 5, 4, 5, 11, 11, 8, 6, 8, 8, 11, 5, 8, 4, 5, 5, 8, 10, 9, 5, 7, 7, 5, 12, 10, 8, 8, 6, 10, 9, 9, 3, 7, 5, 10, 6, 7, 11, 9, 7, 9, 7, 8, 11, 7, 6, 4, 11, 7, 8, 4, 2, 5, 3, 9, 8, 9, 7, 6, 9, 4, 5, 6, 6, 7, 6, 7, 5, 3, 12, 6, 11, 12, 4, 8, 5, 8, 11, 11, 3, 9, 11, 12, 4, 5, 6, 6, 6, 11, 2, 5, 9, 11, 9, 6, 8, 9, 10, 10, 4, 4, 5, 5, 8, 10, 5, 10, 8, 2, 9, 6, 3, 5, 11, 4, 7, 11, 10, 7, 9, 10, 5, 10, 4, 8, 9, 8, 7, 11, 6, 8, 9, 6, 10, 6, 2, 6, 6, 7, 9, 7, 7, 9, 5, 9, 2, 6, 5, 12, 2, 3, 4, 7, 6, 10, 10, 7, 10, 7, 8, 5, 6, 11, 9, 7, 8, 3, 8, 6, 8, 11, 3, 3, 4, 9, 9, 5, 7, 10, 4, 11, 7, 8, 6, 3, 11, 10, 10, 5, 7, 10, 6, 9, 7, 7, 7, 7, 8, 5, 5, 6, 7, 7, 10, 6, 9, 8, 3, 4, 11, 4, 5, 4, 9, 8, 4, 8, 12, 11, 8, 11, 12, 10, 7, 7, 8, 6, 6, 8, 4, 5, 7, 7, 5, 5, 12, 7, 6, 6, 2, 10, 6, 5, 4, 7, 4, 10, 5, 11, 8, 9, 6, 7, 8, 11, 9, 7, 5, 10, 12, 2, 8, 6, 10, 10, 7, 12, 9, 5, 12, 9, 8, 7, 3, 7, 7, 9, 4, 6, 8, 9, 5, 9, 4, 10, 4, 7, 8, 9, 8, 7, 6, 6, 4, 3, 7, 7, 8, 12, 5, 11, 4, 6, 6, 9, 9, 7, 3, 7, 6, 10, 6, 7, 10, 11, 2, 9, 6, 7, 8, 4, 5, 4, 9, 6, 5, 8, 10, 3, 11, 9, 5, 2, 9, 10, 5, 6, 12, 6, 12, 4, 9, 3, 7, 5, 8, 10, 9, 6, 9, 9, 9, 9, 11, 11, 7, 9, 7, 6, 6, 9, 8, 8, 8, 5, 3, 10, 6, 7, 3, 4, 6, 8, 8, 7, 7, 5, 8, 8, 4, 7, 9, 10, 7, 4, 3, 5, 11, 12, 6, 8, 3, 7, 5, 7, 8, 4, 5, 4, 5, 5, 10, 4, 9, 5, 5, 7, 6, 5, 6, 7, 3, 3, 5, 8, 6, 8, 5, 8, 7, 5, 9, 4, 7, 8, 7, 9, 5, 5, 8, 8, 7, 7, 5, 9, 11, 8, 3, 11, 4, 10, 5, 7, 9, 11, 3, 5, 8, 6, 7, 6, 6, 11, 10, 7, 9, 10, 12, 10, 10, 6, 6, 5, 10, 8, 11, 3, 11, 7, 8, 6, 6, 3, 7, 9, 5, 6, 7, 6, 7, 8, 7, 7, 8, 4, 7, 10, 10, 8, 2, 6, 7, 4, 6, 6, 7, 6, 3, 8, 5, 4, 6, 9, 9, 9, 7, 8, 10, 10, 6, 7, 3, 7, 11, 3, 4, 7, 10, 10, 7, 3, 7, 5, 6, 8, 8, 10, 5, 7, 7, 6, 6, 8, 12, 3, 7, 10, 5, 3, 5, 4, 7, 4, 4, 8, 6, 3, 6, 8, 2, 6, 7, 9, 9, 6, 7, 5, 2, 5, 8, 9, 3, 10, 4, 7, 5, 7, 2, 4, 11, 9, 6, 8, 5, 9, 5, 5, 10, 8, 6, 4, 5, 10, 11, 7, 11, 6, 4, 7, 5, 5, 7, 6, 5, 7, 10, 7, 8, 6, 7, 10, 5, 6, 7, 8, 3, 8, 4, 5, 9, 6, 6, 9, 6, 8, 3, 6, 9, 8, 5, 7, 8, 8, 6, 3, 8, 6, 6, 8, 2, 5, 10, 8, 8, 6, 6, 6, 5, 9, 8, 9, 10, 3, 4, 7, 8, 8, 6, 6, 8, 7, 7, 11, 9, 5, 3, 6, 5, 7, 9, 3, 10, 3, 7, 6, 7, 5, 4, 12, 11, 10, 5, 3, 10, 4, 7, 8, 9, 8, 9, 10, 8, 6, 5, 4, 5, 5, 6, 7, 4, 7, 4, 2, 6, 8, 8, 8, 6, 7, 8, 3, 7, 12, 7, 5, 6, 8, 8, 7, 3, 9, 9, 8, 9, 6, 10, 7, 11, 12, 7, 2, 6, 3, 10, 8, 6, 7, 10, 11, 8, 7, 8, 8, 6, 5, 3, 9, 9, 7, 10, 7, 9, 9, 9, 5, 3, 5, 10, 9, 7, 6, 8, 6, 8, 12, 9, 8, 7, 11, 7, 6, 5, 10, 8, 10, 9, 7, 6, 6, 8, 5, 6, 12, 9, 10, 5, 4, 6, 4, 8, 9, 4, 11, 3, 7, 4, 8, 9, 12, 11, 3, 4, 3, 3, 7, 7, 8, 2, 5, 10, 9, 2, 3, 6, 8, 6, 8, 3, 5, 7, 8, 12, 5, 9, 5, 11, 7, 8, 6, 2, 7, 9, 7, 5, 7, 9, 5, 9, 6, 5, 7, 6, 9, 7, 4, 8, 6, 6, 6, 8, 11, 7, 10, 6, 6, 9, 9, 3, 7, 10, 6, 9, 9, 5, 2, 9, 7, 9, 9, 6, 7, 10, 7, 2, 8, 8, 6, 9, 10, 5, 10, 7, 6, 6, 5, 4, 11, 9, 10, 8, 6, 8, 6, 6, 8, 8, 8, 8, 8, 5, 7, 5, 7, 7, 10, 8, 8, 7, 8, 5, 7, 8, 11, 10, 8, 7, 7, 6, 10, 8, 8, 2, 5, 10, 6, 8, 7, 8, 9, 7, 3, 2, 6, 7, 8, 10, 6, 7, 8, 7, 2, 8, 6, 11, 9, 9, 5, 12, 10, 7, 9, 9, 6, 3, 9, 7, 7, 7, 10, 7, 8, 7, 3, 5, 8, 2, 6, 7, 4, 5, 7, 8, 4, 5, 10, 7, 3, 9, 8, 8, 7, 7, 6, 11, 9, 5, 5, 7, 5, 5, 4, 9, 10, 6, 8, 6, 3, 11, 7, 6, 7, 10, 7, 7, 6, 7, 6, 11, 11, 8, 8, 9, 9, 4, 6, 11, 9, 8, 9, 8, 12, 11, 9, 6, 10, 5, 7, 9, 5, 4, 7, 6, 11, 7, 4, 7, 4, 8, 7, 5, 10, 8, 8, 11, 8, 2, 8, 6, 9, 3, 9, 2, 9, 10, 8, 6, 8, 7, 7, 5, 9, 11, 6, 9, 5, 7, 8, 11, 10, 9, 5, 7, 8, 8, 7, 7, 7, 6, 5, 7, 5, 8, 5, 7, 9, 8, 7, 6, 6, 8, 8, 10, 11, 8, 7, 7, 6, 9, 3, 7, 10, 12, 6, 4, 10, 9, 9, 8, 8, 6, 3, 7, 7, 5, 6, 5, 8, 8, 7, 4, 8, 7, 8, 8, 11, 4, 7, 6, 3, 8, 5, 9, 3, 4, 4, 3, 7, 5, 5, 11, 7, 5, 5, 3, 10, 7, 6, 11, 8, 9, 7, 4, 9, 10, 2, 6, 6, 4, 6, 2, 9, 12, 4, 11, 7, 4, 6, 6, 12, 7, 5, 6, 3, 2, 6, 7, 10, 2, 11, 7, 8, 2, 8, 8, 4, 7, 8, 3, 2, 7, 5, 8, 6, 4, 4, 8, 6, 6, 7, 5, 5, 8, 7, 9, 9, 9, 9, 12, 5, 2, 4, 5, 7, 7, 12, 6, 3, 5, 7, 7, 5, 10, 7, 9, 12, 7, 3, 8, 5, 10, 9, 10, 4, 5, 7, 6, 7, 6, 4, 8, 6, 12, 6, 5, 5, 5, 7, 6, 8, 9, 7, 9, 9, 6, 7, 4, 9, 10, 4, 7, 8, 5, 8, 7, 4, 5, 8, 9, 7, 9, 9, 5, 8, 8, 7, 10, 5, 5, 11, 3, 6, 7, 6, 5, 9, 4, 5, 5, 7, 5, 9, 4, 8, 7, 10, 8, 4, 4, 7, 8, 8, 7, 11, 8, 7, 7, 5, 6, 7, 9, 8, 4, 7, 2, 6, 12, 6, 7, 3, 5, 4, 8, 2, 5, 4, 12, 4, 3, 11, 7, 8, 11, 7, 3, 4, 6, 6, 8, 7, 7, 9, 10, 9, 7, 8, 5, 8, 9, 5, 7, 7, 8, 10, 8, 5, 10, 8, 8, 12, 6, 5, 9, 6, 9, 9, 11, 6, 9, 5, 5, 5, 6, 4, 5, 7, 6, 7, 12, 4, 8, 7, 10, 6, 9, 12, 5, 10, 8, 8, 8, 2, 8, 3, 8, 7, 9, 3, 3, 11, 6, 6, 6, 7, 11, 11, 8, 8, 12, 9, 2, 4, 9, 5, 6, 7, 2, 6, 7, 7, 8, 6, 8, 9, 4, 7, 11, 9, 12, 5, 6, 9, 5, 5, 5, 12, 6, 8, 8, 3, 8, 5, 6, 7, 8, 7, 7, 11, 10, 7, 9, 7, 10, 12, 10, 2, 9, 7, 12, 7, 8, 6, 9, 8, 4, 6, 3, 9, 7, 8, 3, 5, 2, 9, 9, 7, 6, 5, 6, 5, 7, 7, 7, 7, 5, 7, 5, 5, 7, 8, 9, 7, 5, 7, 6, 7, 9, 10, 8, 7, 9, 8, 4, 6, 7, 5, 6, 2, 8, 5, 6, 8, 6, 7, 6, 9, 11, 6, 11, 10, 8, 5, 3, 11, 10, 4, 4, 3, 7, 10, 6, 7, 6, 10, 5, 7, 6, 11, 4, 3, 9, 4, 7, 6, 11, 8, 3, 8, 8, 5, 6, 7, 6, 9, 8, 11, 3, 12, 10, 9, 5, 6, 6, 7, 7, 5, 5, 4, 7, 7, 9, 10, 6, 5, 6, 7, 5, 8, 7, 7, 4, 5, 7, 9, 7, 7, 5, 4, 8, 4, 10, 3, 4, 8, 2, 7, 5, 10, 11, 9, 10, 9, 8, 8, 3, 6, 4, 8, 7, 5, 8, 11, 9, 7, 8, 10, 10, 6, 8, 5, 8, 4, 4, 10, 6, 8, 9, 4, 10, 6, 7, 10, 7, 6, 3, 7, 11, 8, 5, 7, 7, 11, 8, 5, 12, 2, 3, 11, 6, 7, 8, 5, 8, 4, 11, 6, 4, 4, 6, 6, 8, 6, 5, 9, 10, 7, 9, 9, 9, 6, 9, 11, 6, 7, 9, 6, 7, 7, 8, 9, 10, 12, 8, 7, 8, 7, 4, 9, 5, 7, 8, 4, 8, 4, 10, 6, 7, 7, 7, 7, 11, 7, 9, 6, 9, 8, 10, 7, 10, 6, 2, 5, 5, 8, 11, 12, 10, 7, 6, 10, 7, 6, 7, 2, 7, 5, 4, 10, 9, 9, 10, 7, 8, 6, 8, 6, 2, 7, 10, 6, 5, 8, 9, 9, 10, 9, 5, 6, 3, 10, 8, 3, 5, 9, 7, 9, 5, 7, 7, 5, 5, 10, 6, 3, 7, 4, 4, 7, 7, 5, 3, 6, 7, 4, 9, 7, 11, 7, 4, 6, 3, 8, 9, 7, 9, 5, 5, 7, 5, 7, 10, 2, 10, 5, 7, 8, 7, 7, 9, 9, 9, 4, 8, 9, 5, 6, 9, 5, 7, 5, 8, 2, 10, 12, 8, 4, 10, 8, 10, 10, 10, 4, 8, 8, 5, 6, 10, 11, 6, 7, 7, 3, 9, 10, 6, 4, 9, 3, 3, 5, 8, 7, 6, 7, 3, 5, 5, 6, 8, 8, 9, 9, 12, 7, 7, 8, 6, 10, 4, 2, 8, 9, 12, 8, 11, 4, 2, 5, 7, 7, 7, 8, 11, 7, 8, 7, 9, 8, 9, 7, 9, 11, 9, 9, 7, 4, 7, 9, 11, 6, 5, 4, 9, 6, 7, 4, 5, 5, 10, 5, 5, 12, 12, 8, 11, 6, 10, 11, 7, 8, 2, 10, 3, 7, 7, 11, 2, 4, 6, 8, 5, 7, 4, 6, 8, 3, 9, 4, 11, 3, 6, 4, 9, 3, 4, 6, 10, 7, 4, 9, 11, 9, 11, 7, 7, 8, 10, 9, 5, 9, 5, 6, 4, 7, 8, 8, 6, 11, 9, 7, 9, 4, 7, 7, 10, 7, 9, 7, 4, 11, 6, 4, 4, 10, 2, 10, 7, 9, 6, 7, 10, 10, 9, 4, 4, 8, 11, 5, 9, 8, 7, 9, 8, 3, 6, 10, 9, 7, 7, 7, 9, 10, 6, 2, 6, 5, 9, 7, 8, 12, 7, 6, 5, 5, 4, 10, 7, 7, 3, 6, 7, 7, 5, 7, 6, 5, 11, 9, 10, 10, 11, 7, 7, 5, 7, 10, 5, 10, 6, 5, 3, 12, 5, 6, 9, 9, 3, 5, 4, 5, 3, 8, 6, 8, 6, 11, 7, 12, 10, 8, 4, 5, 9, 7, 5, 8, 7, 7, 5, 7, 5, 5, 4, 9, 7, 6, 4, 6, 9, 9, 2, 7, 11, 6, 6, 6, 7, 6, 5, 7, 10, 9, 8, 9, 4, 4, 3, 8, 5, 6, 4, 6, 7, 12, 7, 7, 10, 5, 7, 7, 12, 5, 7, 3, 7, 8, 7, 7, 6, 4, 6, 10, 9, 8, 8, 4, 4, 8, 4, 6, 10, 5, 4, 8, 12, 9, 9, 6, 11, 6, 8, 9, 10, 7, 10, 7, 7, 8, 7, 7, 7, 9, 12, 8, 6, 3, 10, 11, 4, 12, 6, 5, 11, 8, 7, 8, 9, 8, 10, 6, 8, 10, 7, 3, 6, 4, 5, 12, 5, 8, 4, 2, 5, 6, 9, 2, 5, 4, 4, 5, 4, 7, 5, 4, 4, 8, 11, 9, 9, 3, 9, 5, 7, 10, 6, 5, 8, 5, 10, 8, 11, 7, 8, 3, 11, 8, 4, 7, 6, 7, 5, 5, 6, 7, 4, 10, 6, 9, 8, 3, 11, 5, 8, 9, 7, 7, 9, 7, 5, 6, 9, 4, 5, 10, 7, 5, 4, 5, 4, 11, 4, 8, 11, 12, 5, 10, 6, 6, 8, 10, 8, 10, 10, 6, 4, 11, 4, 7, 7, 6, 2, 12, 7, 11, 9, 8, 4, 6, 3, 9, 5, 9, 6, 10, 7, 6, 6, 5, 6, 8, 3, 5, 4, 7, 4, 4, 11, 6, 6, 4, 7, 11, 5, 5, 12, 8, 8, 5, 7, 8, 5, 8, 5, 9, 6, 4, 7, 6, 5, 4, 6, 12, 6, 10, 8, 7, 7, 8, 6, 2, 10, 3, 7, 9, 10, 4, 3, 3, 7, 7, 10, 7, 6, 3, 6, 9, 6, 8, 3, 10, 4, 7, 8, 6, 7, 7, 2, 4, 8, 7, 5, 7, 4, 6, 8, 6, 8, 8, 3, 5, 10, 6, 6, 5, 8, 7, 5, 4, 7, 2, 10, 6, 6, 6, 9, 8, 10, 8, 9, 6, 10, 8, 6, 5, 5, 7, 7, 10, 7, 6, 10, 5, 7, 12, 8, 8, 10, 8, 7, 6, 8, 10, 7, 10, 11, 8, 4, 6, 6, 6, 4, 4, 6, 7, 3, 7, 5, 8, 10, 4, 6, 5, 6, 5, 8, 4, 6, 8, 9, 2, 7, 5, 5, 7, 7, 6, 2, 9, 9, 5, 7, 9, 2, 2, 8, 9, 5, 7, 10, 9, 8, 10, 4, 8, 11, 10, 3, 7, 4, 10, 11, 7, 11, 12, 9, 4, 4, 6, 7, 9, 6, 7, 6, 2, 5, 6, 4, 5, 8, 4, 7, 7, 2, 9, 4, 3, 8, 7, 11, 6, 9, 4, 8, 8, 8, 6, 3, 7, 3, 5, 8, 10, 2, 4, 6, 10, 7, 8, 8, 8, 6, 6, 8, 4, 7, 6, 4, 7, 11, 9, 9, 6, 5, 10, 7, 6, 7, 10, 8, 8, 11, 4, 3, 6, 8, 7, 8, 12, 8, 5, 11, 4, 6, 6, 7, 11, 8, 9, 2, 5, 6, 8, 8, 2, 5]\n",
            "Comparacion de tiempos\n",
            "Aceptacion y Rechazo  0.026743454999973437\n",
            "Transformada Inversa  0.026435651000042526\n"
          ],
          "name": "stdout"
        }
      ]
    },
    {
      "cell_type": "markdown",
      "metadata": {
        "id": "s_d8nqQP6Y7y",
        "colab_type": "text"
      },
      "source": [
        "## 10.\n",
        "Implemente el ejemplo de simulación Ad Hoc de clientes atendidos por un cajero de un banco del Taller 0 generando las variables aleatorias discretas tanto del número de minutos entre las llegadas de un cliente y otro al banco ($X$), así como del numero de minutos que le toma al cajero atender un cliente ($Y$). <br>\n",
        "$X$ es una distribución de Poisson con $\\lambda = 5$<br>\n",
        "$Y$ es una distribución Binomial con $n=20$ y $p=0.4$.<br>\n",
        "Calcular las respectivas medidas de desempeño."
      ]
    },
    {
      "cell_type": "code",
      "metadata": {
        "id": "zUbhD7zu-kV9",
        "colab_type": "code",
        "colab": {
          "base_uri": "https://localhost:8080/",
          "height": 51
        },
        "outputId": "92cf7462-3d61-4c04-b761-b19b3c8ef864"
      },
      "source": [
        "import numpy as np\n",
        "import matplotlib.pyplot as plt\n",
        "def genpoisson(U,L):\n",
        "    i=0\n",
        "    px=np.exp(-L)\n",
        "    Fx=px\n",
        "\n",
        "    while True:\n",
        "      if U < Fx:\n",
        "        Xi = i\n",
        "        return Xi\n",
        "        break\n",
        "      px = (L*px)/(i+1)\n",
        "      Fx = Fx + px\n",
        "      i = i + 1\n",
        "\n",
        "def genpoissonN(Ui,L):\n",
        "  X=[]\n",
        "  for i in range(0,len(Ui)):\n",
        "      xi = genpoisson(Ui[i],L)\n",
        "      X.append(xi)\n",
        "  return X\n",
        "N = 20\n",
        "a = 65539.0\n",
        "b = 0.0\n",
        "m = (2**31)\n",
        "L = 5\n",
        "x0 = 3197.0\n",
        "\n",
        "[IIi,XXi,Ui] = genranN(a,b,m,x0,N)\n",
        "X = genpoissonN(Ui,L)\n",
        "\n",
        "def genbinomial(U,n,p):\n",
        "  c=p/(1-p)\n",
        "  i=0\n",
        "  px=np.power(1-p,n)\n",
        "  Fx=px\n",
        "\n",
        "  while True:\n",
        "    if U < Fx:\n",
        "      Xi = i\n",
        "      return Xi\n",
        "      break\n",
        "    px=(c*(n-i)/(i+1))*px \n",
        "    Fx = Fx + px\n",
        "    i = i + 1\n",
        "\n",
        "def genbinomialN(Ui,n,p,N):\n",
        "  X=[]\n",
        "  for i in range(0,len(Ui)):\n",
        "      xi = genbinomial(Ui[i],n,p)\n",
        "      X.append(xi)\n",
        "  return X\n",
        "\n",
        "\n",
        "\n",
        "x0 = 3197.0\n",
        "\n",
        "n = 20\n",
        "p = 0.4 \n",
        "\n",
        "\n",
        "[IIi,XXi,Ui] = genranN(a,b,m,x0,N)\n",
        "Y = genbinomialN(Ui,n,p,N)\n",
        "\n",
        "print(\"Tiempos entre llegadas: \",X)\n",
        "print(\"Tiempo de servicio: \",Y)"
      ],
      "execution_count": null,
      "outputs": [
        {
          "output_type": "stream",
          "text": [
            "Tiempos entre llegadas:  [2, 5, 6, 5, 5, 3, 8, 0, 3, 6, 4, 4, 7, 2, 3, 4, 4, 2, 1, 4]\n",
            "Tiempo de servicio:  [5, 8, 9, 8, 8, 7, 11, 2, 6, 9, 7, 7, 10, 5, 6, 7, 7, 5, 4, 7]\n"
          ],
          "name": "stdout"
        }
      ]
    },
    {
      "cell_type": "code",
      "metadata": {
        "id": "Nyo1YaR8Xmb9",
        "colab_type": "code",
        "colab": {
          "base_uri": "https://localhost:8080/",
          "height": 476
        },
        "outputId": "98fe68bf-ac1d-4c2d-bfc6-063309417d26"
      },
      "source": [
        "import numpy as np\n",
        "def tiempos_llegada(x):\n",
        "  v=[]\n",
        "  for i in range(len(x)):\n",
        "    if (i==0):\n",
        "      v.append(x[0])\n",
        "    else:\n",
        "      v.append(v[i-1]+x[i])\n",
        "  return v\n",
        "\n",
        "def tiempos_de_salida(V,Y):\n",
        "  salida=[]\n",
        "  cola=[0]\n",
        "  ocioso=[]\n",
        "  t_en_sistema=[]\n",
        "  \n",
        "\n",
        "  for i in range(len(V)):\n",
        "    \n",
        "    if (i==0):\n",
        "      ts=Y[i]+V[i]\n",
        "      salida.append(ts)\n",
        "      ocioso.append(V[0])\n",
        "    else:\n",
        "      tc=salida[i-1]-V[i]\n",
        "      if (tc>0):\n",
        "        ts=salida[i-1]+Y[i]\n",
        "        cola.append(tc)\n",
        "        ocioso.append(0)\n",
        "      \n",
        "      else:\n",
        "        ts=salida[i-1]+Y[i]-tc\n",
        "        cola.append(0)\n",
        "        ocioso.append(-tc)\n",
        "    \n",
        "      salida.append(ts)\n",
        "    t_en_sistema.append(Y[i]+cola[i])\n",
        "\n",
        "  print(\"Tasa Ll. Llegada Servicio Salida  T. Sistema  Cola  Idle\\n\")\n",
        "  for t in range(0, len(cola)):\n",
        "      print(\"%d\\t   %d\\t   %d\\t   %d\\t    %d\\t    %d\\t    %d\" % (X[t],V[t],Y[t],salida[t],t_en_sistema[t],cola[t],ocioso[t]), sep=' ', end='\\n')\n",
        "  return t_en_sistema,salida,cola,ocioso\n",
        "V=tiempos_llegada(X)\n",
        "[t_sistema,t_salida,t_cola,t_ocioso\n",
        " ]= tiempos_de_salida(V,Y)\n",
        "\n",
        "def medidas_desempeño(t_sistema,t_salida,t_cola,t_ocioso):\n",
        "  #avg_sis, perc_idle,avg_queue,f_have_to_wait,avg_waited\n",
        "  cont=0\n",
        "  n=len(t_sistema)\n",
        "  avg_sis=t_sistema[n-1]/n\n",
        "\n",
        "  perc_idle=np.sum(t_ocioso)/t_sistema[n-1]*100\n",
        "  avg_queue=np.sum(t_cola)/n\n",
        "  for i in range (len(t_cola)):\n",
        "    if(t_cola[i]!=0):\n",
        "      cont=cont+1\n",
        "  f_have_to_wait=cont/n\n",
        "  avg_waited=np.sum(t_cola)/cont\n",
        "\n",
        "  print(\"Promedio en el sistema: %f\\nPorcentaje de tiempo ocioso %f\\nPromedio de tiempo en cola: %f\\nFraccion de quienes esperaron: %f\\nPromedio de quienes esperaron: %f\" % (avg_sis, perc_idle,avg_queue,f_have_to_wait,avg_waited))\n",
        "  \n",
        "medidas_desempeño(t_sistema,t_salida,t_cola,t_ocioso)"
      ],
      "execution_count": null,
      "outputs": [
        {
          "output_type": "stream",
          "text": [
            "Tasa Ll. Llegada Servicio Salida  T. Sistema  Cola  Idle\n",
            "\n",
            "2\t   2\t   5\t   7\t    5\t    0\t    2\n",
            "5\t   7\t   8\t   15\t    8\t    0\t    0\n",
            "6\t   13\t   9\t   24\t    11\t    2\t    0\n",
            "5\t   18\t   8\t   32\t    14\t    6\t    0\n",
            "5\t   23\t   8\t   40\t    17\t    9\t    0\n",
            "3\t   26\t   7\t   47\t    21\t    14\t    0\n",
            "8\t   34\t   11\t   58\t    24\t    13\t    0\n",
            "0\t   34\t   2\t   60\t    26\t    24\t    0\n",
            "3\t   37\t   6\t   66\t    29\t    23\t    0\n",
            "6\t   43\t   9\t   75\t    32\t    23\t    0\n",
            "4\t   47\t   7\t   82\t    35\t    28\t    0\n",
            "4\t   51\t   7\t   89\t    38\t    31\t    0\n",
            "7\t   58\t   10\t   99\t    41\t    31\t    0\n",
            "2\t   60\t   5\t   104\t    44\t    39\t    0\n",
            "3\t   63\t   6\t   110\t    47\t    41\t    0\n",
            "4\t   67\t   7\t   117\t    50\t    43\t    0\n",
            "4\t   71\t   7\t   124\t    53\t    46\t    0\n",
            "2\t   73\t   5\t   129\t    56\t    51\t    0\n",
            "1\t   74\t   4\t   133\t    59\t    55\t    0\n",
            "4\t   78\t   7\t   140\t    62\t    55\t    0\n",
            "Promedio en el sistema: 3.100000\n",
            "Porcentaje de tiempo ocioso 3.225806\n",
            "Promedio de tiempo en cola: 26.700000\n",
            "Fraccion de quienes esperaron: 0.900000\n",
            "Promedio de quienes esperaron: 29.666667\n"
          ],
          "name": "stdout"
        }
      ]
    }
  ]
}